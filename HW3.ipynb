{
  "nbformat": 4,
  "nbformat_minor": 0,
  "metadata": {
    "colab": {
      "name": "HW3.ipynb",
      "provenance": [],
      "collapsed_sections": [
        "MIrO8uPTEKPA"
      ],
      "toc_visible": true,
      "mount_file_id": "1UDq99lE0gBUzAsb5kOSdGkn3I9NJAn6M",
      "authorship_tag": "ABX9TyOxdDNQ4WPEM3z69uW6ZsAa",
      "include_colab_link": true
    },
    "kernelspec": {
      "name": "python3",
      "display_name": "Python 3"
    }
  },
  "cells": [
    {
      "cell_type": "markdown",
      "metadata": {
        "id": "view-in-github",
        "colab_type": "text"
      },
      "source": [
        "<a href=\"https://colab.research.google.com/github/AliaaElshamekh/Multi-class-classifier-that-successfully-classifies-the-images-of-the-Fashion-MNIST-dataset./blob/main/HW3.ipynb\" target=\"_parent\"><img src=\"https://colab.research.google.com/assets/colab-badge.svg\" alt=\"Open In Colab\"/></a>"
      ]
    },
    {
      "cell_type": "markdown",
      "metadata": {
        "id": "_gXIOWkSmFGY"
      },
      "source": [
        "# Import Libraries"
      ]
    },
    {
      "cell_type": "code",
      "metadata": {
        "id": "Kr-MGQv0l3X3"
      },
      "source": [
        "import pandas as pd\n",
        "import numpy as np\n",
        "from sklearn.neighbors import KNeighborsRegressor\n",
        "from sklearn import metrics\n",
        "import matplotlib.pyplot as plt\n",
        "import matplotlib\n",
        "from sklearn import linear_model\n",
        "from sklearn.linear_model import LinearRegression\n",
        "from sklearn.linear_model import Lasso\n",
        "from sklearn.linear_model import Ridge\n",
        "from sklearn.preprocessing import scale \n",
        "from sklearn.model_selection import GridSearchCV\n",
        "from sklearn.linear_model import Ridge\n",
        "import warnings\n",
        "import math \n",
        "from sklearn.metrics import mean_squared_error \n",
        "warnings.filterwarnings(\"ignore\")\n",
        "from sklearn.preprocessing import StandardScaler\n",
        "from sklearn.metrics import confusion_matrix\n",
        "from sklearn.svm import LinearSVC\n",
        "from sklearn import preprocessing\n",
        "from sklearn.linear_model import LogisticRegression\n",
        "from sklearn.model_selection import KFold\n",
        "\n",
        "from sklearn.model_selection import cross_val_score,cross_val_predict\n",
        "from sklearn.naive_bayes import GaussianNB\n",
        "from sklearn.ensemble import RandomForestClassifier\n",
        "from sklearn.datasets import make_classification\n",
        "from sklearn.ensemble import GradientBoostingClassifier\n",
        "\n",
        "from sklearn.metrics import classification_report\n",
        "from sklearn import tree\n",
        "import seaborn as sns\n",
        "from sklearn.naive_bayes import BernoulliNB\n",
        "from sklearn.model_selection import validation_curve\n",
        "from sklearn.svm import SVC\n",
        "from sklearn import preprocessing\n",
        "from sklearn import svm\n",
        "import scipy.stats as stats\n",
        "import math\n",
        "from sklearn.preprocessing import MinMaxScaler\n",
        "from sklearn.preprocessing import RobustScaler\n",
        "from sklearn.pipeline import Pipeline\n",
        "from sklearn.model_selection import GridSearchCV, RandomizedSearchCV"
      ],
      "execution_count": null,
      "outputs": []
    },
    {
      "cell_type": "markdown",
      "metadata": {
        "id": "8k94l7okm_RA"
      },
      "source": [
        "# Import Data"
      ]
    },
    {
      "cell_type": "code",
      "metadata": {
        "colab": {
          "base_uri": "https://localhost:8080/",
          "height": 253
        },
        "id": "cGYlE5eHnC3J",
        "outputId": "4b93bd5c-c99c-49ca-dfc9-917e8fbea508"
      },
      "source": [
        "X_traindf = pd.read_csv('X_train.csv')\n",
        "X_testdf = pd.read_csv('X_test.csv')\n",
        "y_traindf = pd.read_csv('y_train.csv')\n",
        "y_testdf = pd.read_csv('y_test.csv')\n",
        "X_traindf.head()"
      ],
      "execution_count": null,
      "outputs": [
        {
          "output_type": "execute_result",
          "data": {
            "text/html": [
              "<div>\n",
              "<style scoped>\n",
              "    .dataframe tbody tr th:only-of-type {\n",
              "        vertical-align: middle;\n",
              "    }\n",
              "\n",
              "    .dataframe tbody tr th {\n",
              "        vertical-align: top;\n",
              "    }\n",
              "\n",
              "    .dataframe thead th {\n",
              "        text-align: right;\n",
              "    }\n",
              "</style>\n",
              "<table border=\"1\" class=\"dataframe\">\n",
              "  <thead>\n",
              "    <tr style=\"text-align: right;\">\n",
              "      <th></th>\n",
              "      <th>0</th>\n",
              "      <th>0.1</th>\n",
              "      <th>0.2</th>\n",
              "      <th>0.3</th>\n",
              "      <th>0.4</th>\n",
              "      <th>1</th>\n",
              "      <th>0.5</th>\n",
              "      <th>0.6</th>\n",
              "      <th>0.7</th>\n",
              "      <th>0.8</th>\n",
              "      <th>41</th>\n",
              "      <th>188</th>\n",
              "      <th>103</th>\n",
              "      <th>54</th>\n",
              "      <th>48</th>\n",
              "      <th>43</th>\n",
              "      <th>87</th>\n",
              "      <th>168</th>\n",
              "      <th>133</th>\n",
              "      <th>16</th>\n",
              "      <th>0.9</th>\n",
              "      <th>0.10</th>\n",
              "      <th>0.11</th>\n",
              "      <th>0.12</th>\n",
              "      <th>0.13</th>\n",
              "      <th>0.14</th>\n",
              "      <th>0.15</th>\n",
              "      <th>0.16</th>\n",
              "      <th>0.17</th>\n",
              "      <th>0.18</th>\n",
              "      <th>0.19</th>\n",
              "      <th>1.1</th>\n",
              "      <th>0.20</th>\n",
              "      <th>0.21</th>\n",
              "      <th>0.22</th>\n",
              "      <th>49</th>\n",
              "      <th>136</th>\n",
              "      <th>219</th>\n",
              "      <th>216</th>\n",
              "      <th>228</th>\n",
              "      <th>...</th>\n",
              "      <th>244.2</th>\n",
              "      <th>240</th>\n",
              "      <th>243.1</th>\n",
              "      <th>214.8</th>\n",
              "      <th>224.4</th>\n",
              "      <th>162</th>\n",
              "      <th>0.279</th>\n",
              "      <th>2.6</th>\n",
              "      <th>0.280</th>\n",
              "      <th>0.281</th>\n",
              "      <th>0.282</th>\n",
              "      <th>0.283</th>\n",
              "      <th>0.284</th>\n",
              "      <th>0.285</th>\n",
              "      <th>0.286</th>\n",
              "      <th>0.287</th>\n",
              "      <th>0.288</th>\n",
              "      <th>1.13</th>\n",
              "      <th>0.289</th>\n",
              "      <th>0.290</th>\n",
              "      <th>139.1</th>\n",
              "      <th>146</th>\n",
              "      <th>130</th>\n",
              "      <th>135</th>\n",
              "      <th>135.1</th>\n",
              "      <th>137</th>\n",
              "      <th>125</th>\n",
              "      <th>124.1</th>\n",
              "      <th>125.1</th>\n",
              "      <th>121.1</th>\n",
              "      <th>119</th>\n",
              "      <th>114</th>\n",
              "      <th>130.1</th>\n",
              "      <th>76.1</th>\n",
              "      <th>0.291</th>\n",
              "      <th>0.292</th>\n",
              "      <th>0.293</th>\n",
              "      <th>0.294</th>\n",
              "      <th>0.295</th>\n",
              "      <th>0.296</th>\n",
              "    </tr>\n",
              "  </thead>\n",
              "  <tbody>\n",
              "    <tr>\n",
              "      <th>0</th>\n",
              "      <td>0</td>\n",
              "      <td>0</td>\n",
              "      <td>0</td>\n",
              "      <td>0</td>\n",
              "      <td>0</td>\n",
              "      <td>0</td>\n",
              "      <td>0</td>\n",
              "      <td>0</td>\n",
              "      <td>0</td>\n",
              "      <td>22</td>\n",
              "      <td>118</td>\n",
              "      <td>24</td>\n",
              "      <td>0</td>\n",
              "      <td>0</td>\n",
              "      <td>0</td>\n",
              "      <td>0</td>\n",
              "      <td>0</td>\n",
              "      <td>48</td>\n",
              "      <td>88</td>\n",
              "      <td>5</td>\n",
              "      <td>0</td>\n",
              "      <td>0</td>\n",
              "      <td>0</td>\n",
              "      <td>0</td>\n",
              "      <td>0</td>\n",
              "      <td>0</td>\n",
              "      <td>0</td>\n",
              "      <td>0</td>\n",
              "      <td>0</td>\n",
              "      <td>0</td>\n",
              "      <td>0</td>\n",
              "      <td>0</td>\n",
              "      <td>0</td>\n",
              "      <td>0</td>\n",
              "      <td>0</td>\n",
              "      <td>0</td>\n",
              "      <td>12</td>\n",
              "      <td>100</td>\n",
              "      <td>212</td>\n",
              "      <td>205</td>\n",
              "      <td>...</td>\n",
              "      <td>106</td>\n",
              "      <td>102</td>\n",
              "      <td>75</td>\n",
              "      <td>10</td>\n",
              "      <td>0</td>\n",
              "      <td>0</td>\n",
              "      <td>0</td>\n",
              "      <td>0</td>\n",
              "      <td>0</td>\n",
              "      <td>0</td>\n",
              "      <td>0</td>\n",
              "      <td>0</td>\n",
              "      <td>0</td>\n",
              "      <td>0</td>\n",
              "      <td>0</td>\n",
              "      <td>0</td>\n",
              "      <td>0</td>\n",
              "      <td>0</td>\n",
              "      <td>0</td>\n",
              "      <td>0</td>\n",
              "      <td>1</td>\n",
              "      <td>0</td>\n",
              "      <td>0</td>\n",
              "      <td>0</td>\n",
              "      <td>18</td>\n",
              "      <td>42</td>\n",
              "      <td>57</td>\n",
              "      <td>56</td>\n",
              "      <td>32</td>\n",
              "      <td>8</td>\n",
              "      <td>0</td>\n",
              "      <td>0</td>\n",
              "      <td>1</td>\n",
              "      <td>0</td>\n",
              "      <td>0</td>\n",
              "      <td>0</td>\n",
              "      <td>0</td>\n",
              "      <td>0</td>\n",
              "      <td>0</td>\n",
              "      <td>0</td>\n",
              "    </tr>\n",
              "    <tr>\n",
              "      <th>1</th>\n",
              "      <td>0</td>\n",
              "      <td>0</td>\n",
              "      <td>0</td>\n",
              "      <td>0</td>\n",
              "      <td>0</td>\n",
              "      <td>0</td>\n",
              "      <td>0</td>\n",
              "      <td>0</td>\n",
              "      <td>0</td>\n",
              "      <td>0</td>\n",
              "      <td>0</td>\n",
              "      <td>0</td>\n",
              "      <td>0</td>\n",
              "      <td>0</td>\n",
              "      <td>0</td>\n",
              "      <td>0</td>\n",
              "      <td>0</td>\n",
              "      <td>26</td>\n",
              "      <td>0</td>\n",
              "      <td>0</td>\n",
              "      <td>0</td>\n",
              "      <td>0</td>\n",
              "      <td>0</td>\n",
              "      <td>0</td>\n",
              "      <td>0</td>\n",
              "      <td>0</td>\n",
              "      <td>0</td>\n",
              "      <td>0</td>\n",
              "      <td>0</td>\n",
              "      <td>0</td>\n",
              "      <td>0</td>\n",
              "      <td>0</td>\n",
              "      <td>0</td>\n",
              "      <td>0</td>\n",
              "      <td>0</td>\n",
              "      <td>0</td>\n",
              "      <td>189</td>\n",
              "      <td>206</td>\n",
              "      <td>187</td>\n",
              "      <td>32</td>\n",
              "      <td>...</td>\n",
              "      <td>255</td>\n",
              "      <td>242</td>\n",
              "      <td>255</td>\n",
              "      <td>70</td>\n",
              "      <td>0</td>\n",
              "      <td>0</td>\n",
              "      <td>0</td>\n",
              "      <td>0</td>\n",
              "      <td>0</td>\n",
              "      <td>0</td>\n",
              "      <td>0</td>\n",
              "      <td>0</td>\n",
              "      <td>0</td>\n",
              "      <td>0</td>\n",
              "      <td>0</td>\n",
              "      <td>0</td>\n",
              "      <td>0</td>\n",
              "      <td>0</td>\n",
              "      <td>0</td>\n",
              "      <td>0</td>\n",
              "      <td>0</td>\n",
              "      <td>0</td>\n",
              "      <td>61</td>\n",
              "      <td>102</td>\n",
              "      <td>168</td>\n",
              "      <td>25</td>\n",
              "      <td>0</td>\n",
              "      <td>139</td>\n",
              "      <td>161</td>\n",
              "      <td>74</td>\n",
              "      <td>0</td>\n",
              "      <td>0</td>\n",
              "      <td>0</td>\n",
              "      <td>0</td>\n",
              "      <td>0</td>\n",
              "      <td>0</td>\n",
              "      <td>0</td>\n",
              "      <td>0</td>\n",
              "      <td>0</td>\n",
              "      <td>0</td>\n",
              "    </tr>\n",
              "    <tr>\n",
              "      <th>2</th>\n",
              "      <td>0</td>\n",
              "      <td>0</td>\n",
              "      <td>0</td>\n",
              "      <td>0</td>\n",
              "      <td>0</td>\n",
              "      <td>0</td>\n",
              "      <td>0</td>\n",
              "      <td>11</td>\n",
              "      <td>142</td>\n",
              "      <td>200</td>\n",
              "      <td>106</td>\n",
              "      <td>0</td>\n",
              "      <td>0</td>\n",
              "      <td>0</td>\n",
              "      <td>0</td>\n",
              "      <td>0</td>\n",
              "      <td>0</td>\n",
              "      <td>0</td>\n",
              "      <td>85</td>\n",
              "      <td>185</td>\n",
              "      <td>112</td>\n",
              "      <td>0</td>\n",
              "      <td>0</td>\n",
              "      <td>0</td>\n",
              "      <td>0</td>\n",
              "      <td>0</td>\n",
              "      <td>0</td>\n",
              "      <td>0</td>\n",
              "      <td>0</td>\n",
              "      <td>0</td>\n",
              "      <td>0</td>\n",
              "      <td>0</td>\n",
              "      <td>0</td>\n",
              "      <td>0</td>\n",
              "      <td>152</td>\n",
              "      <td>214</td>\n",
              "      <td>217</td>\n",
              "      <td>194</td>\n",
              "      <td>236</td>\n",
              "      <td>216</td>\n",
              "      <td>...</td>\n",
              "      <td>206</td>\n",
              "      <td>255</td>\n",
              "      <td>197</td>\n",
              "      <td>178</td>\n",
              "      <td>179</td>\n",
              "      <td>42</td>\n",
              "      <td>0</td>\n",
              "      <td>5</td>\n",
              "      <td>0</td>\n",
              "      <td>0</td>\n",
              "      <td>0</td>\n",
              "      <td>0</td>\n",
              "      <td>0</td>\n",
              "      <td>0</td>\n",
              "      <td>0</td>\n",
              "      <td>0</td>\n",
              "      <td>0</td>\n",
              "      <td>3</td>\n",
              "      <td>0</td>\n",
              "      <td>115</td>\n",
              "      <td>135</td>\n",
              "      <td>113</td>\n",
              "      <td>106</td>\n",
              "      <td>85</td>\n",
              "      <td>82</td>\n",
              "      <td>108</td>\n",
              "      <td>133</td>\n",
              "      <td>83</td>\n",
              "      <td>90</td>\n",
              "      <td>121</td>\n",
              "      <td>120</td>\n",
              "      <td>110</td>\n",
              "      <td>158</td>\n",
              "      <td>18</td>\n",
              "      <td>0</td>\n",
              "      <td>3</td>\n",
              "      <td>0</td>\n",
              "      <td>0</td>\n",
              "      <td>0</td>\n",
              "      <td>0</td>\n",
              "    </tr>\n",
              "    <tr>\n",
              "      <th>3</th>\n",
              "      <td>0</td>\n",
              "      <td>0</td>\n",
              "      <td>0</td>\n",
              "      <td>0</td>\n",
              "      <td>0</td>\n",
              "      <td>0</td>\n",
              "      <td>0</td>\n",
              "      <td>0</td>\n",
              "      <td>0</td>\n",
              "      <td>0</td>\n",
              "      <td>0</td>\n",
              "      <td>19</td>\n",
              "      <td>4</td>\n",
              "      <td>0</td>\n",
              "      <td>0</td>\n",
              "      <td>0</td>\n",
              "      <td>0</td>\n",
              "      <td>0</td>\n",
              "      <td>0</td>\n",
              "      <td>0</td>\n",
              "      <td>0</td>\n",
              "      <td>1</td>\n",
              "      <td>2</td>\n",
              "      <td>0</td>\n",
              "      <td>0</td>\n",
              "      <td>0</td>\n",
              "      <td>0</td>\n",
              "      <td>0</td>\n",
              "      <td>0</td>\n",
              "      <td>0</td>\n",
              "      <td>0</td>\n",
              "      <td>0</td>\n",
              "      <td>0</td>\n",
              "      <td>0</td>\n",
              "      <td>0</td>\n",
              "      <td>0</td>\n",
              "      <td>1</td>\n",
              "      <td>72</td>\n",
              "      <td>157</td>\n",
              "      <td>222</td>\n",
              "      <td>...</td>\n",
              "      <td>239</td>\n",
              "      <td>228</td>\n",
              "      <td>231</td>\n",
              "      <td>198</td>\n",
              "      <td>217</td>\n",
              "      <td>17</td>\n",
              "      <td>0</td>\n",
              "      <td>2</td>\n",
              "      <td>0</td>\n",
              "      <td>0</td>\n",
              "      <td>0</td>\n",
              "      <td>0</td>\n",
              "      <td>0</td>\n",
              "      <td>0</td>\n",
              "      <td>0</td>\n",
              "      <td>0</td>\n",
              "      <td>0</td>\n",
              "      <td>1</td>\n",
              "      <td>0</td>\n",
              "      <td>0</td>\n",
              "      <td>37</td>\n",
              "      <td>69</td>\n",
              "      <td>89</td>\n",
              "      <td>97</td>\n",
              "      <td>109</td>\n",
              "      <td>122</td>\n",
              "      <td>127</td>\n",
              "      <td>126</td>\n",
              "      <td>130</td>\n",
              "      <td>116</td>\n",
              "      <td>91</td>\n",
              "      <td>80</td>\n",
              "      <td>46</td>\n",
              "      <td>0</td>\n",
              "      <td>0</td>\n",
              "      <td>1</td>\n",
              "      <td>0</td>\n",
              "      <td>0</td>\n",
              "      <td>0</td>\n",
              "      <td>0</td>\n",
              "    </tr>\n",
              "    <tr>\n",
              "      <th>4</th>\n",
              "      <td>0</td>\n",
              "      <td>0</td>\n",
              "      <td>0</td>\n",
              "      <td>0</td>\n",
              "      <td>0</td>\n",
              "      <td>0</td>\n",
              "      <td>0</td>\n",
              "      <td>0</td>\n",
              "      <td>58</td>\n",
              "      <td>121</td>\n",
              "      <td>218</td>\n",
              "      <td>110</td>\n",
              "      <td>58</td>\n",
              "      <td>42</td>\n",
              "      <td>54</td>\n",
              "      <td>85</td>\n",
              "      <td>176</td>\n",
              "      <td>228</td>\n",
              "      <td>121</td>\n",
              "      <td>33</td>\n",
              "      <td>0</td>\n",
              "      <td>0</td>\n",
              "      <td>0</td>\n",
              "      <td>0</td>\n",
              "      <td>0</td>\n",
              "      <td>0</td>\n",
              "      <td>0</td>\n",
              "      <td>0</td>\n",
              "      <td>0</td>\n",
              "      <td>0</td>\n",
              "      <td>0</td>\n",
              "      <td>0</td>\n",
              "      <td>0</td>\n",
              "      <td>18</td>\n",
              "      <td>66</td>\n",
              "      <td>129</td>\n",
              "      <td>148</td>\n",
              "      <td>121</td>\n",
              "      <td>149</td>\n",
              "      <td>254</td>\n",
              "      <td>...</td>\n",
              "      <td>235</td>\n",
              "      <td>233</td>\n",
              "      <td>233</td>\n",
              "      <td>228</td>\n",
              "      <td>190</td>\n",
              "      <td>202</td>\n",
              "      <td>0</td>\n",
              "      <td>0</td>\n",
              "      <td>3</td>\n",
              "      <td>0</td>\n",
              "      <td>0</td>\n",
              "      <td>0</td>\n",
              "      <td>0</td>\n",
              "      <td>0</td>\n",
              "      <td>0</td>\n",
              "      <td>1</td>\n",
              "      <td>0</td>\n",
              "      <td>0</td>\n",
              "      <td>44</td>\n",
              "      <td>19</td>\n",
              "      <td>29</td>\n",
              "      <td>27</td>\n",
              "      <td>26</td>\n",
              "      <td>29</td>\n",
              "      <td>29</td>\n",
              "      <td>28</td>\n",
              "      <td>27</td>\n",
              "      <td>27</td>\n",
              "      <td>27</td>\n",
              "      <td>25</td>\n",
              "      <td>21</td>\n",
              "      <td>23</td>\n",
              "      <td>30</td>\n",
              "      <td>37</td>\n",
              "      <td>0</td>\n",
              "      <td>0</td>\n",
              "      <td>1</td>\n",
              "      <td>0</td>\n",
              "      <td>0</td>\n",
              "      <td>0</td>\n",
              "    </tr>\n",
              "  </tbody>\n",
              "</table>\n",
              "<p>5 rows × 784 columns</p>\n",
              "</div>"
            ],
            "text/plain": [
              "   0  0.1  0.2  0.3  0.4  1  ...  0.291  0.292  0.293  0.294  0.295  0.296\n",
              "0  0    0    0    0    0  0  ...      0      0      0      0      0      0\n",
              "1  0    0    0    0    0  0  ...      0      0      0      0      0      0\n",
              "2  0    0    0    0    0  0  ...      0      3      0      0      0      0\n",
              "3  0    0    0    0    0  0  ...      0      1      0      0      0      0\n",
              "4  0    0    0    0    0  0  ...      0      0      1      0      0      0\n",
              "\n",
              "[5 rows x 784 columns]"
            ]
          },
          "metadata": {
            "tags": []
          },
          "execution_count": 3
        }
      ]
    },
    {
      "cell_type": "code",
      "metadata": {
        "id": "H1yvdyLzqNdO"
      },
      "source": [
        "#Let's create numpy arrays for X and y\n",
        "X_train = X_traindf.values\n",
        "X_test = X_testdf.values\n",
        "y_train = y_traindf.values\n",
        "y_test = y_testdf.values"
      ],
      "execution_count": null,
      "outputs": []
    },
    {
      "cell_type": "code",
      "metadata": {
        "id": "O_re_uIGn8OH"
      },
      "source": [
        "y_traindf.hist(column='0')\n",
        "y_testdf.hist(column='0')"
      ],
      "execution_count": null,
      "outputs": []
    },
    {
      "cell_type": "code",
      "metadata": {
        "id": "GzOG6UAdIwMc"
      },
      "source": [
        "np.random.seed(42)   # if you want reproducible results set the random seed value.\n",
        "shuffle_index = np.random.permutation(9999)\n",
        "X_train, y_train = X_train[shuffle_index], y_train[shuffle_index]"
      ],
      "execution_count": null,
      "outputs": []
    },
    {
      "cell_type": "code",
      "metadata": {
        "id": "WYCIGgEdLXej"
      },
      "source": [
        "labels = [\"T-shirt/top\",\"Trouser\",\"Pullover\",\"Dress\",\"Coat\"]"
      ],
      "execution_count": null,
      "outputs": []
    },
    {
      "cell_type": "markdown",
      "metadata": {
        "id": "1G7vC_w_ELk5"
      },
      "source": [
        "Label   Description\\\n",
        "0         T-shirt/top \\\n",
        "1         Trouser\\\n",
        "2         Pullover\\\n",
        "3         Dress\\\n",
        "4         Coat\n"
      ]
    },
    {
      "cell_type": "code",
      "metadata": {
        "id": "hfhY-byB_7Vq"
      },
      "source": [
        "def showImage(data):\n",
        "    some_article = data\n",
        "    some_article_image = some_article.reshape(28, 28) # Reshaping it to get the 28x28 pixels\n",
        "    plt.imshow(some_article_image, cmap = matplotlib.cm.binary, interpolation=\"nearest\")\n",
        "    plt.axis(\"off\")\n",
        "    plt.show()   "
      ],
      "execution_count": null,
      "outputs": []
    },
    {
      "cell_type": "code",
      "metadata": {
        "id": "Ek6-vX-SAL_r"
      },
      "source": [
        "showImage(X_train[10])"
      ],
      "execution_count": null,
      "outputs": []
    },
    {
      "cell_type": "code",
      "metadata": {
        "id": "a_JOllN9AEj9"
      },
      "source": [
        "y_train[100]"
      ],
      "execution_count": null,
      "outputs": []
    },
    {
      "cell_type": "code",
      "metadata": {
        "id": "eYhu_kJZLaNF"
      },
      "source": [
        "y_train[0]"
      ],
      "execution_count": null,
      "outputs": []
    },
    {
      "cell_type": "code",
      "metadata": {
        "id": "3nsFIZaDK2t9",
        "colab": {
          "base_uri": "https://localhost:8080/",
          "height": 1000
        },
        "outputId": "04680132-ad33-493b-b28d-d7c6b4957e18"
      },
      "source": [
        "plt.figure(figsize = (10,20))\n",
        "for i in range(0,50) :\n",
        "    plt.subplot(10,5,i+1)\n",
        "    plt.axis('off')\n",
        "    plt.imshow(X_train[i].reshape(28,28), cmap=\"gray_r\")\n",
        "    #showImage(X_train[i])\n",
        "    plt.title(labels[y_train[i][0]])"
      ],
      "execution_count": null,
      "outputs": [
        {
          "output_type": "display_data",
          "data": {
            "image/png": "[encoded data removed]",
            "text/plain": [
              "<Figure size 720x1440 with 50 Axes>"
            ]
          },
          "metadata": {
            "tags": [],
            "needs_background": "light"
          }
        }
      ]
    },
    {
      "cell_type": "code",
      "metadata": {
        "id": "q14mJY1oMoNv"
      },
      "source": [
        "# reshape(examples, height, width, channels)\n",
        "#X_train=X_train.reshape((-1, 28, 28, 1))\n",
        "#X_test=X_test.reshape((-1, 28, 28, 1))"
      ],
      "execution_count": null,
      "outputs": []
    },
    {
      "cell_type": "code",
      "metadata": {
        "id": "eA_VPaf6M7Tp"
      },
      "source": [
        "# You need to make sure that your Image is cast into double/float from int before you do this scaling \n",
        "# as you will most likely generate floating point numbers.\n",
        "# And had it been int, the values will be truncated to zero.\n",
        "\n",
        "X_train = X_train.astype(\"float32\")/255\n",
        "X_test = X_test.astype(\"float32\")/255\n",
        "#df_test = df_test.astype(\"float32\")/255"
      ],
      "execution_count": null,
      "outputs": []
    },
    {
      "cell_type": "markdown",
      "metadata": {
        "id": "UecCi9uTqR8H"
      },
      "source": [
        "# Kernal SVM"
      ]
    },
    {
      "cell_type": "markdown",
      "metadata": {
        "id": "hyWrv-3kEkRQ"
      },
      "source": [
        "## No Scaling"
      ]
    },
    {
      "cell_type": "code",
      "metadata": {
        "colab": {
          "base_uri": "https://localhost:8080/"
        },
        "id": "4GcO50WJqDk6",
        "outputId": "d88e48dc-c5fe-47cb-faa5-60d21a502569"
      },
      "source": [
        "clf = svm.SVC(kernel='rbf', random_state=42)\n",
        "scores = cross_val_score(clf, X_train, y_train, cv=4)\n",
        "scores"
      ],
      "execution_count": null,
      "outputs": [
        {
          "output_type": "execute_result",
          "data": {
            "text/plain": [
              "array([0.8976   , 0.8972   , 0.892    , 0.8907563])"
            ]
          },
          "metadata": {
            "tags": []
          },
          "execution_count": 31
        }
      ]
    },
    {
      "cell_type": "code",
      "metadata": {
        "colab": {
          "base_uri": "https://localhost:8080/",
          "height": 295
        },
        "id": "8zK3G-8yFGto",
        "outputId": "ea8a334b-eac2-4e93-ad31-ad0bef6d35a0"
      },
      "source": [
        "# plot the change in the average accuracy according to k \n",
        "plt.figure(figsize=(3.5,4))\n",
        "plt.title(\"SVM with kernal rbf and C = 1\")\n",
        "plt.xlabel(\"k - Folds\")\n",
        "plt.ylabel(\"Average Accuracy\")\n",
        "plt.xticks =np.arange(1, 5, 1)\n",
        "plt.grid()\n",
        "plt.plot(np.arange(1, 5, 1),scores,'o-');"
      ],
      "execution_count": null,
      "outputs": [
        {
          "output_type": "display_data",
          "data": {
            "image/png": "[encoded data removed]",
            "text/plain": [
              "<Figure size 252x288 with 1 Axes>"
            ]
          },
          "metadata": {
            "tags": [],
            "needs_background": "light"
          }
        }
      ]
    },
    {
      "cell_type": "code",
      "metadata": {
        "colab": {
          "base_uri": "https://localhost:8080/"
        },
        "id": "MUmdhKfFGf-W",
        "outputId": "cc5a37c0-8875-4136-9fed-ac8eb2ee3ccc"
      },
      "source": [
        "clf_c10 = svm.SVC(kernel='rbf',C=10, random_state=42)\n",
        "scores = cross_val_score(clf_c10, X_train, y_train, cv=4)\n",
        "scores"
      ],
      "execution_count": null,
      "outputs": [
        {
          "output_type": "execute_result",
          "data": {
            "text/plain": [
              "array([0.9104    , 0.9148    , 0.9024    , 0.89835934])"
            ]
          },
          "metadata": {
            "tags": []
          },
          "execution_count": 51
        }
      ]
    },
    {
      "cell_type": "code",
      "metadata": {
        "colab": {
          "base_uri": "https://localhost:8080/",
          "height": 295
        },
        "id": "eJNuQBv7GypX",
        "outputId": "609c47b8-abe0-4df9-9d27-004de1ff1447"
      },
      "source": [
        "# plot the change in the average accuracy according to k \n",
        "plt.figure(figsize=(3.5,4))\n",
        "plt.title(\"SVM with kernal rbf and C = 10\")\n",
        "plt.xlabel(\"k - Folds\")\n",
        "plt.ylabel(\"Average Accuracy\")\n",
        "plt.xticks =np.arange(1, 5, 1)\n",
        "plt.grid()\n",
        "plt.plot(np.arange(1, 5, 1),scores,'o-');"
      ],
      "execution_count": null,
      "outputs": [
        {
          "output_type": "display_data",
          "data": {
            "image/png": "[encoded data removed]",
            "text/plain": [
              "<Figure size 252x288 with 1 Axes>"
            ]
          },
          "metadata": {
            "tags": [],
            "needs_background": "light"
          }
        }
      ]
    },
    {
      "cell_type": "code",
      "metadata": {
        "colab": {
          "base_uri": "https://localhost:8080/"
        },
        "id": "rOTtXGrhHucc",
        "outputId": "3184bf7d-5cf6-40af-c3a9-fe44ac8a3236"
      },
      "source": [
        "#no scaling and using 4-fold cross validation\n",
        "#SVC\n",
        "#svc = SVC()\n",
        "scores_no_c10 = [] #store the accuracy scores\n",
        "cv = KFold(n_splits=4, random_state=42, shuffle=False) #set the CV parameters\n",
        "i = 1\n",
        "for train_index, test_index in cv.split(X_train):\n",
        "    X_train_fold, X_test_fold, y_train_fold, y_test_fold = X_train[train_index], X_train[test_index], y_train[train_index], y_train[test_index]\n",
        "    clf_c10.fit(X_train_fold, y_train_fold)\n",
        "    scores_no_c10.append(clf_c10.score(X_test_fold, y_test_fold))\n",
        "    print('Processing Fold #', i)\n",
        "    print(\"  - Train partition shape: \", X_train_fold.shape)\n",
        "    print(\"  - Test partition shape: \", X_test_fold.shape)\n",
        "    print(\"  - Training score = \", clf_c10.score(X_train_fold, y_train_fold))\n",
        "    print(\"  - Testing score = \", clf_c10.score(X_test_fold, y_test_fold))\n",
        "    \n",
        "    i += 1"
      ],
      "execution_count": null,
      "outputs": [
        {
          "output_type": "stream",
          "text": [
            "Processing Fold # 1\n",
            "  - Train partition shape:  (7499, 784)\n",
            "  - Test partition shape:  (2500, 784)\n",
            "  - Training score =  0.9851980264035205\n",
            "  - Testing score =  0.9068\n",
            "Processing Fold # 2\n",
            "  - Train partition shape:  (7499, 784)\n",
            "  - Test partition shape:  (2500, 784)\n",
            "  - Training score =  0.9835978130417389\n",
            "  - Testing score =  0.916\n",
            "Processing Fold # 3\n",
            "  - Train partition shape:  (7499, 784)\n",
            "  - Test partition shape:  (2500, 784)\n",
            "  - Training score =  0.9841312174956661\n",
            "  - Testing score =  0.9044\n",
            "Processing Fold # 4\n",
            "  - Train partition shape:  (7500, 784)\n",
            "  - Test partition shape:  (2499, 784)\n",
            "  - Training score =  0.9832\n",
            "  - Testing score =  0.898359343737495\n"
          ],
          "name": "stdout"
        }
      ]
    },
    {
      "cell_type": "code",
      "metadata": {
        "colab": {
          "base_uri": "https://localhost:8080/"
        },
        "id": "G0hxWPuKZ0bi",
        "outputId": "c678a435-e656-4386-c73d-67a385f4793d"
      },
      "source": [
        "clf_c10.score(X_test, y_test)\n"
      ],
      "execution_count": null,
      "outputs": [
        {
          "output_type": "execute_result",
          "data": {
            "text/plain": [
              "0.8943788757751551"
            ]
          },
          "metadata": {
            "tags": []
          },
          "execution_count": 65
        }
      ]
    },
    {
      "cell_type": "code",
      "metadata": {
        "colab": {
          "base_uri": "https://localhost:8080/"
        },
        "id": "gLOhjnXgF7OW",
        "outputId": "d1dfec40-30cd-47c8-ab88-8daa97236919"
      },
      "source": [
        "#no scaling and using 4-fold cross validation\n",
        "#SVC\n",
        "svc = SVC()\n",
        "scores = [] #store the accuracy scores\n",
        "cv = KFold(n_splits=4, random_state=42, shuffle=False) #set the CV parameters\n",
        "i = 1\n",
        "for train_index, test_index in cv.split(X_train):\n",
        "    X_train_fold, X_test_fold, y_train_fold, y_test_fold = X_train[train_index], X_train[test_index], y_train[train_index], y_train[test_index]\n",
        "    svc.fit(X_train_fold, y_train_fold)\n",
        "    scores.append(svc.score(X_test_fold, y_test_fold))\n",
        "    print('Processing Fold #', i)\n",
        "    print(\"  - Train partition shape: \", X_train_fold.shape)\n",
        "    print(\"  - Test partition shape: \", X_test_fold.shape)\n",
        "    print(\"  - Training score = \", svc.score(X_train_fold, y_train_fold))\n",
        "    print(\"  - Testing score = \", svc.score(X_test_fold, y_test_fold))\n",
        "    \n",
        "    i += 1"
      ],
      "execution_count": null,
      "outputs": [
        {
          "output_type": "stream",
          "text": [
            "Processing Fold # 1\n",
            "  - Train partition shape:  (7499, 784)\n",
            "  - Test partition shape:  (2500, 784)\n",
            "  - Training score =  0.9194559274569942\n",
            "  - Testing score =  0.8964\n",
            "Processing Fold # 2\n",
            "  - Train partition shape:  (7499, 784)\n",
            "  - Test partition shape:  (2500, 784)\n",
            "  - Training score =  0.9201226830244033\n",
            "  - Testing score =  0.8956\n",
            "Processing Fold # 3\n",
            "  - Train partition shape:  (7499, 784)\n",
            "  - Test partition shape:  (2500, 784)\n",
            "  - Training score =  0.9221229497266302\n",
            "  - Testing score =  0.896\n",
            "Processing Fold # 4\n",
            "  - Train partition shape:  (7500, 784)\n",
            "  - Test partition shape:  (2499, 784)\n",
            "  - Training score =  0.9218666666666666\n",
            "  - Testing score =  0.8919567827130852\n"
          ],
          "name": "stdout"
        }
      ]
    },
    {
      "cell_type": "code",
      "metadata": {
        "colab": {
          "base_uri": "https://localhost:8080/",
          "height": 295
        },
        "id": "9cvVsAPDIzDJ",
        "outputId": "19f588ca-cbae-491a-af4f-788a5996ba47"
      },
      "source": [
        "# plot the change in the average accuracy according to k \n",
        "plt.figure(figsize=(3.5,4))\n",
        "plt.title(\"SVM with linear kernal\")\n",
        "plt.xlabel(\"k - Folds\")\n",
        "plt.ylabel(\"Average Accuracy\")\n",
        "plt.xticks =np.arange(1, 5, 1)\n",
        "plt.grid()\n",
        "plt.plot(np.arange(1, 5, 1),scores,'o-');"
      ],
      "execution_count": null,
      "outputs": [
        {
          "output_type": "display_data",
          "data": {
            "image/png": "[encoded data removed]",
            "text/plain": [
              "<Figure size 252x288 with 1 Axes>"
            ]
          },
          "metadata": {
            "tags": [],
            "needs_background": "light"
          }
        }
      ]
    },
    {
      "cell_type": "code",
      "metadata": {
        "colab": {
          "base_uri": "https://localhost:8080/"
        },
        "id": "B6y4leBLWtyl",
        "outputId": "a5741bab-f351-4984-9f52-b227c5ae6589"
      },
      "source": [
        "clf = svm.SVC(kernel='sigmoid', C=10, random_state=42)\n",
        "scores = cross_val_score(clf, X_train, y_train, cv=4)\n",
        "scores"
      ],
      "execution_count": null,
      "outputs": [
        {
          "output_type": "execute_result",
          "data": {
            "text/plain": [
              "array([0.4228    , 0.428     , 0.4224    , 0.44577831])"
            ]
          },
          "metadata": {
            "tags": []
          },
          "execution_count": 38
        }
      ]
    },
    {
      "cell_type": "code",
      "metadata": {
        "colab": {
          "base_uri": "https://localhost:8080/"
        },
        "id": "N3bdQJTvqVMj",
        "outputId": "069e4147-219e-4d28-cdee-af2cc8b1e056"
      },
      "source": [
        "print(\"%0.2f accuracy with a standard deviation of %0.2f\" % (scores.mean(), scores.std()))"
      ],
      "execution_count": null,
      "outputs": [
        {
          "output_type": "stream",
          "text": [
            "0.91 accuracy with a standard deviation of 0.01\n"
          ],
          "name": "stdout"
        }
      ]
    },
    {
      "cell_type": "code",
      "metadata": {
        "colab": {
          "base_uri": "https://localhost:8080/"
        },
        "id": "fSHwzDQNJV3j",
        "outputId": "723558d1-b30d-4b99-c573-18d200511fe7"
      },
      "source": [
        "clf = svm.SVC(kernel='sigmoid', C=1000, random_state=42)\n",
        "scores_C1000 = cross_val_score(clf, X_train, y_train, cv=4)\n",
        "scores_C1000"
      ],
      "execution_count": null,
      "outputs": [
        {
          "output_type": "execute_result",
          "data": {
            "text/plain": [
              "array([0.4208    , 0.4272    , 0.422     , 0.44537815])"
            ]
          },
          "metadata": {
            "tags": []
          },
          "execution_count": 39
        }
      ]
    },
    {
      "cell_type": "code",
      "metadata": {
        "colab": {
          "base_uri": "https://localhost:8080/",
          "height": 295
        },
        "id": "BixHTCilJboQ",
        "outputId": "abfeae17-328e-4e7e-8778-71d46506b54e"
      },
      "source": [
        "# plot the change in the average accuracy according to k \n",
        "plt.figure(figsize=(3.5,4))\n",
        "plt.title(\"SVM with sigmoid kernal\")\n",
        "plt.xlabel(\"k - Folds\")\n",
        "plt.ylabel(\"Average Accuracy\")\n",
        "plt.xticks =np.arange(1, 5, 1)\n",
        "lw = 2\n",
        "plt.plot(np.arange(1, 5, 1),scores,'o-',label=\"C = 10\",\n",
        "             color=\"navy\", lw=lw,ls='--',marker ='o');\n",
        "plt.plot(np.arange(1, 5, 1),scores_C1000,'o-',label=\"C = 1000\",\n",
        "             color=\"darkorange\", lw=lw ,ls='--',marker ='o');\n",
        "\n",
        "plt.legend(loc=\"best\")\n",
        "plt.grid()\n",
        "plt.show()"
      ],
      "execution_count": null,
      "outputs": [
        {
          "output_type": "display_data",
          "data": {
            "image/png": "[encoded data removed]",
            "text/plain": [
              "<Figure size 252x288 with 1 Axes>"
            ]
          },
          "metadata": {
            "tags": [],
            "needs_background": "light"
          }
        }
      ]
    },
    {
      "cell_type": "code",
      "metadata": {
        "colab": {
          "base_uri": "https://localhost:8080/"
        },
        "id": "EadI-Y14csYS",
        "outputId": "3fac85bb-21c6-4df7-afa3-bba5afe95759"
      },
      "source": [
        "# Separate data into test and training sets\n",
        "svclassifier = getClassifier(0) \n",
        "#svclassifier.fit(X_train, y_train)# Make prediction\n",
        "scores_poly = cross_val_score(svclassifier, X_train, y_train, cv=4)\n",
        "scores_poly"
      ],
      "execution_count": null,
      "outputs": [
        {
          "output_type": "execute_result",
          "data": {
            "text/plain": [
              "array([0.8096    , 0.82      , 0.8068    , 0.78031212])"
            ]
          },
          "metadata": {
            "tags": []
          },
          "execution_count": 45
        }
      ]
    },
    {
      "cell_type": "code",
      "metadata": {
        "colab": {
          "base_uri": "https://localhost:8080/"
        },
        "id": "IrAhn15nNgu-",
        "outputId": "159e4cf5-a2b7-4306-dd80-891bd61bec36"
      },
      "source": [
        "svclassifier_poly2 = SVC(kernel='poly', degree=8,C=100)\n",
        "scores_poly2 = cross_val_score(svclassifier_poly2, X_train, y_train, cv=4)\n",
        "scores_poly2"
      ],
      "execution_count": null,
      "outputs": [
        {
          "output_type": "execute_result",
          "data": {
            "text/plain": [
              "array([0.8252    , 0.8332    , 0.8404    , 0.82032813])"
            ]
          },
          "metadata": {
            "tags": []
          },
          "execution_count": 47
        }
      ]
    },
    {
      "cell_type": "code",
      "metadata": {
        "colab": {
          "base_uri": "https://localhost:8080/",
          "height": 295
        },
        "id": "wpmLmpwcO4kD",
        "outputId": "eddc8866-497c-4a0c-9e74-d1b57d98e888"
      },
      "source": [
        "# plot the change in the average accuracy according to k \n",
        "plt.figure(figsize=(3.5,4))\n",
        "plt.title(\"SVM with polynomial kernal with degree 8\")\n",
        "plt.xlabel(\"k - Folds\")\n",
        "plt.ylabel(\"Average Accuracy\")\n",
        "plt.xticks =np.arange(1, 5, 1)\n",
        "lw = 2\n",
        "plt.plot(np.arange(1, 5, 1),scores_poly,'o-',label=\"C = 1\",\n",
        "             color=\"navy\", lw=lw,ls='--',marker ='o');\n",
        "plt.plot(np.arange(1, 5, 1),scores_poly2,'o-',label=\"C = 100\",\n",
        "             color=\"darkorange\", lw=lw ,ls='--',marker ='o');\n",
        "\n",
        "plt.legend(loc=\"best\")\n",
        "plt.grid()\n",
        "plt.show()"
      ],
      "execution_count": null,
      "outputs": [
        {
          "output_type": "display_data",
          "data": {
            "image/png": "[encoded data removed]",
            "text/plain": [
              "<Figure size 252x288 with 1 Axes>"
            ]
          },
          "metadata": {
            "tags": [],
            "needs_background": "light"
          }
        }
      ]
    },
    {
      "cell_type": "code",
      "metadata": {
        "id": "jOTvc4k1TB70"
      },
      "source": [
        "kernels = ['Polynomial', 'RBF', 'Sigmoid']#A function which returns the corresponding SVC model\n",
        "def getClassifier(ktype):\n",
        "    if ktype == 0:\n",
        "        # Polynomial kernal\n",
        "        return SVC(kernel='poly', degree=8, gamma=\"scale\")\n",
        "    elif ktype == 1:\n",
        "        # Radial Basis Function kernal\n",
        "        return SVC(kernel='rbf', C=10, random_state=42)\n",
        "    elif ktype == 2:\n",
        "        # Sigmoid kernal\n",
        "        return SVC(kernel='sigmoid', gamma=\"scale\", random_state=42)"
      ],
      "execution_count": null,
      "outputs": []
    },
    {
      "cell_type": "code",
      "metadata": {
        "colab": {
          "base_uri": "https://localhost:8080/"
        },
        "id": "bun2pRBVTMmP",
        "outputId": "aed176f7-c829-4af0-dfd2-ef499afafc0f"
      },
      "source": [
        "for i in range(3):\n",
        "    # Separate data into test and training sets\n",
        "    svclassifier = getClassifier(i) \n",
        "    svclassifier.fit(X_train, y_train)# Make prediction\n",
        "    y_pred = svclassifier.predict(X_test)# Evaluate our model\n",
        "    print(\"Evaluation:\", kernels[i], \"kernel\")\n",
        "    print(classification_report(y_test,y_pred))"
      ],
      "execution_count": null,
      "outputs": [
        {
          "output_type": "stream",
          "text": [
            "Evaluation: Polynomial kernel\n",
            "              precision    recall  f1-score   support\n",
            "\n",
            "           0       0.86      0.86      0.86       999\n",
            "           1       0.94      0.96      0.95      1000\n",
            "           2       0.74      0.78      0.76      1000\n",
            "           3       0.84      0.81      0.83      1000\n",
            "           4       0.77      0.74      0.75      1000\n",
            "\n",
            "    accuracy                           0.83      4999\n",
            "   macro avg       0.83      0.83      0.83      4999\n",
            "weighted avg       0.83      0.83      0.83      4999\n",
            "\n",
            "Evaluation: RBF kernel\n",
            "              precision    recall  f1-score   support\n",
            "\n",
            "           0       1.00      0.00      0.00       999\n",
            "           1       0.20      1.00      0.33      1000\n",
            "           2       0.00      0.00      0.00      1000\n",
            "           3       1.00      0.00      0.00      1000\n",
            "           4       1.00      0.00      0.00      1000\n",
            "\n",
            "    accuracy                           0.20      4999\n",
            "   macro avg       0.64      0.20      0.07      4999\n",
            "weighted avg       0.64      0.20      0.07      4999\n",
            "\n",
            "Evaluation: Sigmoid kernel\n",
            "              precision    recall  f1-score   support\n",
            "\n",
            "           0       0.00      0.00      0.00       999\n",
            "           1       0.00      0.00      0.00      1000\n",
            "           2       0.00      0.00      0.00      1000\n",
            "           3       0.00      0.00      0.00      1000\n",
            "           4       0.20      1.00      0.33      1000\n",
            "\n",
            "    accuracy                           0.20      4999\n",
            "   macro avg       0.04      0.20      0.07      4999\n",
            "weighted avg       0.04      0.20      0.07      4999\n",
            "\n"
          ],
          "name": "stdout"
        }
      ]
    },
    {
      "cell_type": "code",
      "metadata": {
        "colab": {
          "base_uri": "https://localhost:8080/"
        },
        "id": "xYOyi2WxUY45",
        "outputId": "76921233-4f42-4d8d-8af3-36091b87a9fd"
      },
      "source": [
        "for i in range(3):\n",
        "    # Separate data into test and training sets\n",
        "    svclassifier = getClassifier(i) \n",
        "    svclassifier.fit(X_train, y_train)# Make prediction\n",
        "    #y_pred = svclassifier.predict(X_test)# Evaluate our model\n",
        "    print(\"Evaluation:\", kernels[i], \"kernel\")\n",
        "    print(\"Accuracy on training set: {:.2f}\".format(svclassifier.score(X_train, y_train)))\n",
        "    print(\"Accuracy on test set: {:.2f}\".format(svclassifier.score(X_test, y_test)))\n",
        "    #print(classification_report(y_test,y_pred))"
      ],
      "execution_count": null,
      "outputs": [
        {
          "output_type": "stream",
          "text": [
            "Evaluation: Polynomial kernel\n",
            "Accuracy on training set: 1.00\n",
            "Accuracy on test set: 0.83\n",
            "Evaluation: RBF kernel\n",
            "Accuracy on training set: 1.00\n",
            "Accuracy on test set: 0.20\n",
            "Evaluation: Sigmoid kernel\n",
            "Accuracy on training set: 0.20\n",
            "Accuracy on test set: 0.20\n"
          ],
          "name": "stdout"
        }
      ]
    },
    {
      "cell_type": "markdown",
      "metadata": {
        "id": "nMNzohYmgGES"
      },
      "source": [
        "## Standard Scaling"
      ]
    },
    {
      "cell_type": "code",
      "metadata": {
        "colab": {
          "base_uri": "https://localhost:8080/"
        },
        "id": "0uVqEZMwgZbJ",
        "outputId": "4b534dbf-39e0-4ff3-b44d-d97e7eb8c5e2"
      },
      "source": [
        "pipe = Pipeline([('scaler', StandardScaler()), ('svc', SVC(kernel='rbf', random_state=42))])\n",
        "scores = cross_val_score(pipe, X_train, y_train, cv=4)\n",
        "scores"
      ],
      "execution_count": null,
      "outputs": [
        {
          "output_type": "execute_result",
          "data": {
            "text/plain": [
              "array([0.8884    , 0.8956    , 0.8896    , 0.89555822])"
            ]
          },
          "metadata": {
            "tags": []
          },
          "execution_count": 58
        }
      ]
    },
    {
      "cell_type": "code",
      "metadata": {
        "colab": {
          "base_uri": "https://localhost:8080/",
          "height": 295
        },
        "id": "ze0UGMfvio7w",
        "outputId": "32a6e4c3-827f-44b3-aeb1-d14c5b9bf082"
      },
      "source": [
        "# plot the change in the average accuracy according to k \n",
        "plt.figure(figsize=(3.5,4))\n",
        "plt.title(\"SVM with kernal rbf and C = 1 With standard Scaling\")\n",
        "plt.xlabel(\"k - Folds\")\n",
        "plt.ylabel(\"Average Accuracy\")\n",
        "plt.xticks =np.arange(1, 5, 1)\n",
        "plt.grid()\n",
        "plt.plot(np.arange(1, 5, 1),scores,'o-');"
      ],
      "execution_count": null,
      "outputs": [
        {
          "output_type": "display_data",
          "data": {
            "image/png": "[encoded data removed]",
            "text/plain": [
              "<Figure size 252x288 with 1 Axes>"
            ]
          },
          "metadata": {
            "tags": [],
            "needs_background": "light"
          }
        }
      ]
    },
    {
      "cell_type": "code",
      "metadata": {
        "colab": {
          "base_uri": "https://localhost:8080/"
        },
        "id": "Nsgd1CJnkzuW",
        "outputId": "448d1f6c-fdee-443c-e1d1-b01c540daed2"
      },
      "source": [
        "#no scaling and using 4-fold cross validation\n",
        "#SVC\n",
        "#svc = SVC()\n",
        "pipe_c10 = Pipeline([('scaler', StandardScaler()),('svc', SVC(kernel='rbf',C=10 ,random_state=42))])\n",
        "scores_p_C10 = [] #store the accuracy scores\n",
        "cv = KFold(n_splits=4, random_state=42, shuffle=False) #set the CV parameters\n",
        "i = 1\n",
        "for train_index, test_index in cv.split(X_train):\n",
        "    X_train_fold, X_test_fold, y_train_fold, y_test_fold = X_train[train_index], X_train[test_index], y_train[train_index], y_train[test_index]\n",
        "    pipe_c10.fit(X_train_fold, y_train_fold)\n",
        "    scores_p_C10.append(pipe_c10.score(X_test_fold, y_test_fold))\n",
        "    print('Processing Fold #', i)\n",
        "    print(\"  - Train partition shape: \", X_train_fold.shape)\n",
        "    print(\"  - Test partition shape: \", X_test_fold.shape)\n",
        "    print(\"  - Training score = \", pipe_c10.score(X_train_fold, y_train_fold))\n",
        "    print(\"  - Testing score = \", pipe_c10.score(X_test_fold, y_test_fold))\n",
        "    \n",
        "    i += 1"
      ],
      "execution_count": null,
      "outputs": [
        {
          "output_type": "stream",
          "text": [
            "Processing Fold # 1\n",
            "  - Train partition shape:  (7499, 784)\n",
            "  - Test partition shape:  (2500, 784)\n",
            "  - Training score =  0.9939991998933191\n",
            "  - Testing score =  0.9016\n",
            "Processing Fold # 2\n",
            "  - Train partition shape:  (7499, 784)\n",
            "  - Test partition shape:  (2500, 784)\n",
            "  - Training score =  0.9930657420989465\n",
            "  - Testing score =  0.908\n",
            "Processing Fold # 3\n",
            "  - Train partition shape:  (7499, 784)\n",
            "  - Test partition shape:  (2500, 784)\n",
            "  - Training score =  0.9933324443259102\n",
            "  - Testing score =  0.9028\n",
            "Processing Fold # 4\n",
            "  - Train partition shape:  (7500, 784)\n",
            "  - Test partition shape:  (2499, 784)\n",
            "  - Training score =  0.9916\n",
            "  - Testing score =  0.8995598239295718\n"
          ],
          "name": "stdout"
        }
      ]
    },
    {
      "cell_type": "code",
      "metadata": {
        "colab": {
          "base_uri": "https://localhost:8080/"
        },
        "id": "dTwPAHRHqsH0",
        "outputId": "034e6af7-31a5-4d91-9134-ac93c5cdcfb6"
      },
      "source": [
        "pipe_c10.score(X_test, y_test)"
      ],
      "execution_count": null,
      "outputs": [
        {
          "output_type": "execute_result",
          "data": {
            "text/plain": [
              "0.8923784756951391"
            ]
          },
          "metadata": {
            "tags": []
          },
          "execution_count": 69
        }
      ]
    },
    {
      "cell_type": "code",
      "metadata": {
        "colab": {
          "base_uri": "https://localhost:8080/",
          "height": 295
        },
        "id": "7vUTZ59At3SP",
        "outputId": "7a7b2660-9e28-4cb4-9d91-ca6388df0960"
      },
      "source": [
        "# plot the change in the average accuracy according to k \n",
        "plt.figure(figsize=(3.5,4))\n",
        "plt.title(\"SVM with kernal rbf and C = 10\")\n",
        "plt.xlabel(\"k - Folds\")\n",
        "plt.ylabel(\"Average Accuracy\")\n",
        "plt.xticks =np.arange(1, 5, 1)\n",
        "plt.grid()\n",
        "lw = 2\n",
        "plt.plot(np.arange(1, 5, 1),scores_no_c10,'o-',label=\"No Scaling\",\n",
        "             color=\"navy\", lw=lw,ls='--',marker ='o');\n",
        "plt.plot(np.arange(1, 5, 1),scores_p_C10,'o-',label=\"Standard Scaling\",\n",
        "             color=\"darkorange\", lw=lw ,ls='--',marker ='o');\n",
        "\n",
        "plt.legend(loc=\"best\")\n",
        "plt.show()\n"
      ],
      "execution_count": null,
      "outputs": [
        {
          "output_type": "display_data",
          "data": {
            "image/png": "[encoded data removed]",
            "text/plain": [
              "<Figure size 252x288 with 1 Axes>"
            ]
          },
          "metadata": {
            "tags": [],
            "needs_background": "light"
          }
        }
      ]
    },
    {
      "cell_type": "code",
      "metadata": {
        "colab": {
          "base_uri": "https://localhost:8080/"
        },
        "id": "RYX3d0yQwyAZ",
        "outputId": "39cb844a-b94b-42bd-d9bc-7c03bd4415de"
      },
      "source": [
        "pipe_linear_c100 = Pipeline([('scaler', StandardScaler()),('svc', SVC(C=100 ,random_state=42))])\n",
        "scores_linear_C100 = [] #store the accuracy scores\n",
        "cv = KFold(n_splits=4, random_state=42, shuffle=False) #set the CV parameters\n",
        "i = 1\n",
        "for train_index, test_index in cv.split(X_train):\n",
        "    X_train_fold, X_test_fold, y_train_fold, y_test_fold = X_train[train_index], X_train[test_index], y_train[train_index], y_train[test_index]\n",
        "    pipe_linear_c100.fit(X_train_fold, y_train_fold)\n",
        "    scores_linear_C100.append(pipe_c10.score(X_test_fold, y_test_fold))\n",
        "    print('Processing Fold #', i)\n",
        "    print(\"  - Train partition shape: \", X_train_fold.shape)\n",
        "    print(\"  - Test partition shape: \", X_test_fold.shape)\n",
        "    print(\"  - Training score = \", pipe_linear_c100.score(X_train_fold, y_train_fold))\n",
        "    print(\"  - Testing score = \", pipe_linear_c100.score(X_test_fold, y_test_fold))\n",
        "    \n",
        "    i += 1"
      ],
      "execution_count": null,
      "outputs": [
        {
          "output_type": "stream",
          "text": [
            "Processing Fold # 1\n",
            "  - Train partition shape:  (7499, 784)\n",
            "  - Test partition shape:  (2500, 784)\n",
            "  - Training score =  1.0\n",
            "  - Testing score =  0.8984\n",
            "Processing Fold # 2\n",
            "  - Train partition shape:  (7499, 784)\n",
            "  - Test partition shape:  (2500, 784)\n",
            "  - Training score =  1.0\n",
            "  - Testing score =  0.8984\n",
            "Processing Fold # 3\n",
            "  - Train partition shape:  (7499, 784)\n",
            "  - Test partition shape:  (2500, 784)\n",
            "  - Training score =  1.0\n",
            "  - Testing score =  0.8984\n",
            "Processing Fold # 4\n",
            "  - Train partition shape:  (7500, 784)\n",
            "  - Test partition shape:  (2499, 784)\n",
            "  - Training score =  1.0\n",
            "  - Testing score =  0.8931572629051621\n"
          ],
          "name": "stdout"
        }
      ]
    },
    {
      "cell_type": "code",
      "metadata": {
        "colab": {
          "base_uri": "https://localhost:8080/"
        },
        "id": "nbDInm8kyJvo",
        "outputId": "d59c7491-2de9-4fda-e1de-b68f29237098"
      },
      "source": [
        "pipe_linear_c100.score(X_test, y_test)"
      ],
      "execution_count": null,
      "outputs": [
        {
          "output_type": "execute_result",
          "data": {
            "text/plain": [
              "0.8841768353670734"
            ]
          },
          "metadata": {
            "tags": []
          },
          "execution_count": 74
        }
      ]
    },
    {
      "cell_type": "code",
      "metadata": {
        "colab": {
          "base_uri": "https://localhost:8080/",
          "height": 295
        },
        "id": "52SfncFaxVJG",
        "outputId": "1a3ea06d-009d-43a8-f9a3-64b48615419d"
      },
      "source": [
        "# plot the change in the average accuracy according to k \n",
        "plt.figure(figsize=(3.5,4))\n",
        "plt.title(\"SVM with linear kernal and C = 100 With standard Scaling\")\n",
        "plt.xlabel(\"k - Folds\")\n",
        "plt.ylabel(\"Average Accuracy\")\n",
        "plt.xticks =np.arange(1, 5, 1)\n",
        "plt.grid()\n",
        "plt.plot(np.arange(1, 5, 1),scores_linear_C100,'o-');"
      ],
      "execution_count": null,
      "outputs": [
        {
          "output_type": "display_data",
          "data": {
            "image/png": "[encoded data removed]",
            "text/plain": [
              "<Figure size 252x288 with 1 Axes>"
            ]
          },
          "metadata": {
            "tags": [],
            "needs_background": "light"
          }
        }
      ]
    },
    {
      "cell_type": "markdown",
      "metadata": {
        "id": "WdIRyAaZEEOe"
      },
      "source": [
        "## Min Max Scaling"
      ]
    },
    {
      "cell_type": "code",
      "metadata": {
        "colab": {
          "base_uri": "https://localhost:8080/"
        },
        "id": "_Sv33e0f6qwa",
        "outputId": "bfa9aa3b-f2b2-441e-f128-69f6d70658c8"
      },
      "source": [
        "\n",
        "pipe_l200_min = Pipeline([('scaler', MinMaxScaler()),('svc', SVC(kernel='linear',probability = True,C=100 ,random_state=42))])\n",
        "scores_lmin200 = [] #store the accuracy scores\n",
        "cv = KFold(n_splits=4, random_state=42, shuffle=False) #set the CV parameters\n",
        "i = 1\n",
        "for train_index, test_index in cv.split(X_train):\n",
        "    X_train_fold, X_test_fold, y_train_fold, y_test_fold = X_train[train_index], X_train[test_index], y_train[train_index], y_train[test_index]\n",
        "    pipe_l200_min.fit(X_train_fold, y_train_fold)\n",
        "    scores_lmin200.append(pipe_l200_min.score(X_test_fold, y_test_fold))\n",
        "    print('Processing Fold #', i)\n",
        "    print(\"  - Train partition shape: \", X_train_fold.shape)\n",
        "    print(\"  - Test partition shape: \", X_test_fold.shape)\n",
        "    print(\"  - Training score = \", pipe_l200_min.score(X_train_fold, y_train_fold))\n",
        "    print(\"  - Testing score = \", pipe_l200_min.score(X_test_fold, y_test_fold))    \n",
        "    i += 1"
      ],
      "execution_count": null,
      "outputs": [
        {
          "output_type": "stream",
          "text": [
            "Processing Fold # 1\n",
            "  - Train partition shape:  (7499, 784)\n",
            "  - Test partition shape:  (2500, 784)\n",
            "  - Training score =  0.9838645152687024\n",
            "  - Testing score =  0.8372\n",
            "Processing Fold # 2\n",
            "  - Train partition shape:  (7499, 784)\n",
            "  - Test partition shape:  (2500, 784)\n",
            "  - Training score =  0.9806640885451393\n",
            "  - Testing score =  0.8436\n",
            "Processing Fold # 3\n",
            "  - Train partition shape:  (7499, 784)\n",
            "  - Test partition shape:  (2500, 784)\n",
            "  - Training score =  0.9827977063608481\n",
            "  - Testing score =  0.8396\n",
            "Processing Fold # 4\n",
            "  - Train partition shape:  (7500, 784)\n",
            "  - Test partition shape:  (2499, 784)\n",
            "  - Training score =  0.9877333333333334\n",
            "  - Testing score =  0.8267306922769108\n"
          ],
          "name": "stdout"
        }
      ]
    },
    {
      "cell_type": "code",
      "metadata": {
        "colab": {
          "base_uri": "https://localhost:8080/"
        },
        "id": "XoYzzmZt9xM5",
        "outputId": "cfbe4a1a-154f-40e8-8747-e7e449626cb2"
      },
      "source": [
        "pipe_l200_min.score(X_test, y_test)"
      ],
      "execution_count": null,
      "outputs": [
        {
          "output_type": "execute_result",
          "data": {
            "text/plain": [
              "0.8237647529505902"
            ]
          },
          "metadata": {
            "tags": []
          },
          "execution_count": 11
        }
      ]
    },
    {
      "cell_type": "code",
      "metadata": {
        "id": "3TMDYRIMDmKR"
      },
      "source": [
        "\n",
        "# Make predictions on entire test data\n",
        "predictions = pipe_l200_min.predict(X_test)"
      ],
      "execution_count": null,
      "outputs": []
    },
    {
      "cell_type": "code",
      "metadata": {
        "colab": {
          "base_uri": "https://localhost:8080/"
        },
        "id": "hzJsCkCTEBHR",
        "outputId": "54767d7f-6e5d-4724-f9dc-cb8a76a97e98"
      },
      "source": [
        "predictions"
      ],
      "execution_count": null,
      "outputs": [
        {
          "output_type": "execute_result",
          "data": {
            "text/plain": [
              "array([0, 0, 0, ..., 2, 4, 4])"
            ]
          },
          "metadata": {
            "tags": []
          },
          "execution_count": 38
        }
      ]
    },
    {
      "cell_type": "code",
      "metadata": {
        "colab": {
          "base_uri": "https://localhost:8080/",
          "height": 248
        },
        "id": "VAvO4TIzAxcf",
        "outputId": "85d7d5c9-52e5-43e5-fa39-ec893bf78fd1"
      },
      "source": [
        "showImage(X_test[3891])"
      ],
      "execution_count": null,
      "outputs": [
        {
          "output_type": "display_data",
          "data": {
            "image/png": "[encoded data removed]",
            "text/plain": [
              "<Figure size 432x288 with 1 Axes>"
            ]
          },
          "metadata": {
            "tags": [],
            "needs_background": "light"
          }
        }
      ]
    },
    {
      "cell_type": "code",
      "metadata": {
        "id": "dNRlZFVmIO8F"
      },
      "source": [
        ""
      ],
      "execution_count": null,
      "outputs": []
    },
    {
      "cell_type": "code",
      "metadata": {
        "colab": {
          "base_uri": "https://localhost:8080/"
        },
        "id": "4fnLvQljA8YI",
        "outputId": "000d9051-4bd0-43dc-a94d-a5df93283b44"
      },
      "source": [
        "y_test[3891]"
      ],
      "execution_count": null,
      "outputs": [
        {
          "output_type": "execute_result",
          "data": {
            "text/plain": [
              "array([3])"
            ]
          },
          "metadata": {
            "tags": []
          },
          "execution_count": 80
        }
      ]
    },
    {
      "cell_type": "code",
      "metadata": {
        "colab": {
          "base_uri": "https://localhost:8080/"
        },
        "id": "eCOMx101BCSF",
        "outputId": "b3af881d-5221-4e38-be19-3e52e689683c"
      },
      "source": [
        "pipe_l200_min.predict_proba(X_test[3891].reshape(1, -1))"
      ],
      "execution_count": null,
      "outputs": [
        {
          "output_type": "execute_result",
          "data": {
            "text/plain": [
              "array([[0.35603955, 0.01826685, 0.09845151, 0.10911877, 0.41812331]])"
            ]
          },
          "metadata": {
            "tags": []
          },
          "execution_count": 81
        }
      ]
    },
    {
      "cell_type": "code",
      "metadata": {
        "colab": {
          "base_uri": "https://localhost:8080/"
        },
        "id": "ftMHWHp8CdEb",
        "outputId": "dde33855-8e98-40f2-f88c-69558bd71b3e"
      },
      "source": [
        "pipe_l200_min.predict(X_test[3891].reshape(1, -1))"
      ],
      "execution_count": null,
      "outputs": [
        {
          "output_type": "execute_result",
          "data": {
            "text/plain": [
              "array([4])"
            ]
          },
          "metadata": {
            "tags": []
          },
          "execution_count": 82
        }
      ]
    },
    {
      "cell_type": "code",
      "metadata": {
        "id": "k4DTFGvgDfEx"
      },
      "source": [
        "index = 0\n",
        "misclassifiedIndexes = []\n",
        "for label, predict in zip(y_test, predictions):\n",
        "    if label[0] != predict: \n",
        "       misclassifiedIndexes.append(index)\n",
        "    index +=1"
      ],
      "execution_count": null,
      "outputs": []
    },
    {
      "cell_type": "code",
      "metadata": {
        "colab": {
          "base_uri": "https://localhost:8080/"
        },
        "id": "_K2QKlFOHu07",
        "outputId": "cd754541-5b43-4cf6-8d86-3b05b567aadd"
      },
      "source": [
        "misclassifiedIndexes"
      ],
      "execution_count": null,
      "outputs": [
        {
          "output_type": "execute_result",
          "data": {
            "text/plain": [
              "[8,\n",
              " 14,\n",
              " 29,\n",
              " 33,\n",
              " 36,\n",
              " 37,\n",
              " 46,\n",
              " 59,\n",
              " 81,\n",
              " 86,\n",
              " 105,\n",
              " 107,\n",
              " 113,\n",
              " 123,\n",
              " 124,\n",
              " 128,\n",
              " 134,\n",
              " 150,\n",
              " 152,\n",
              " 159,\n",
              " 176,\n",
              " 189,\n",
              " 232,\n",
              " 250,\n",
              " 264,\n",
              " 271,\n",
              " 286,\n",
              " 289,\n",
              " 290,\n",
              " 300,\n",
              " 310,\n",
              " 312,\n",
              " 318,\n",
              " 321,\n",
              " 322,\n",
              " 339,\n",
              " 346,\n",
              " 349,\n",
              " 350,\n",
              " 355,\n",
              " 356,\n",
              " 366,\n",
              " 383,\n",
              " 393,\n",
              " 401,\n",
              " 409,\n",
              " 415,\n",
              " 420,\n",
              " 424,\n",
              " 425,\n",
              " 461,\n",
              " 473,\n",
              " 478,\n",
              " 511,\n",
              " 524,\n",
              " 540,\n",
              " 542,\n",
              " 543,\n",
              " 544,\n",
              " 579,\n",
              " 590,\n",
              " 597,\n",
              " 598,\n",
              " 602,\n",
              " 610,\n",
              " 614,\n",
              " 618,\n",
              " 620,\n",
              " 626,\n",
              " 634,\n",
              " 654,\n",
              " 695,\n",
              " 711,\n",
              " 726,\n",
              " 730,\n",
              " 763,\n",
              " 774,\n",
              " 783,\n",
              " 789,\n",
              " 794,\n",
              " 807,\n",
              " 817,\n",
              " 818,\n",
              " 827,\n",
              " 830,\n",
              " 837,\n",
              " 845,\n",
              " 852,\n",
              " 853,\n",
              " 861,\n",
              " 862,\n",
              " 863,\n",
              " 875,\n",
              " 884,\n",
              " 886,\n",
              " 902,\n",
              " 906,\n",
              " 916,\n",
              " 920,\n",
              " 926,\n",
              " 930,\n",
              " 934,\n",
              " 948,\n",
              " 964,\n",
              " 967,\n",
              " 970,\n",
              " 971,\n",
              " 979,\n",
              " 985,\n",
              " 990,\n",
              " 1024,\n",
              " 1069,\n",
              " 1079,\n",
              " 1111,\n",
              " 1114,\n",
              " 1131,\n",
              " 1146,\n",
              " 1164,\n",
              " 1172,\n",
              " 1196,\n",
              " 1239,\n",
              " 1249,\n",
              " 1384,\n",
              " 1392,\n",
              " 1457,\n",
              " 1479,\n",
              " 1507,\n",
              " 1522,\n",
              " 1532,\n",
              " 1547,\n",
              " 1590,\n",
              " 1613,\n",
              " 1648,\n",
              " 1735,\n",
              " 1760,\n",
              " 1763,\n",
              " 1780,\n",
              " 1786,\n",
              " 1858,\n",
              " 1860,\n",
              " 1899,\n",
              " 1903,\n",
              " 1913,\n",
              " 1930,\n",
              " 1934,\n",
              " 1943,\n",
              " 1959,\n",
              " 1987,\n",
              " 1999,\n",
              " 2007,\n",
              " 2022,\n",
              " 2029,\n",
              " 2030,\n",
              " 2033,\n",
              " 2034,\n",
              " 2035,\n",
              " 2036,\n",
              " 2046,\n",
              " 2048,\n",
              " 2049,\n",
              " 2054,\n",
              " 2059,\n",
              " 2061,\n",
              " 2062,\n",
              " 2065,\n",
              " 2069,\n",
              " 2070,\n",
              " 2080,\n",
              " 2082,\n",
              " 2084,\n",
              " 2087,\n",
              " 2089,\n",
              " 2091,\n",
              " 2099,\n",
              " 2102,\n",
              " 2119,\n",
              " 2124,\n",
              " 2125,\n",
              " 2129,\n",
              " 2136,\n",
              " 2138,\n",
              " 2141,\n",
              " 2143,\n",
              " 2145,\n",
              " 2147,\n",
              " 2150,\n",
              " 2153,\n",
              " 2155,\n",
              " 2158,\n",
              " 2159,\n",
              " 2164,\n",
              " 2165,\n",
              " 2166,\n",
              " 2177,\n",
              " 2178,\n",
              " 2186,\n",
              " 2188,\n",
              " 2190,\n",
              " 2197,\n",
              " 2198,\n",
              " 2202,\n",
              " 2204,\n",
              " 2206,\n",
              " 2209,\n",
              " 2213,\n",
              " 2215,\n",
              " 2218,\n",
              " 2220,\n",
              " 2222,\n",
              " 2225,\n",
              " 2233,\n",
              " 2240,\n",
              " 2242,\n",
              " 2243,\n",
              " 2244,\n",
              " 2245,\n",
              " 2247,\n",
              " 2250,\n",
              " 2257,\n",
              " 2262,\n",
              " 2263,\n",
              " 2270,\n",
              " 2272,\n",
              " 2278,\n",
              " 2293,\n",
              " 2296,\n",
              " 2297,\n",
              " 2298,\n",
              " 2302,\n",
              " 2305,\n",
              " 2314,\n",
              " 2318,\n",
              " 2324,\n",
              " 2330,\n",
              " 2332,\n",
              " 2335,\n",
              " 2343,\n",
              " 2348,\n",
              " 2351,\n",
              " 2360,\n",
              " 2363,\n",
              " 2365,\n",
              " 2366,\n",
              " 2367,\n",
              " 2369,\n",
              " 2370,\n",
              " 2372,\n",
              " 2389,\n",
              " 2392,\n",
              " 2394,\n",
              " 2395,\n",
              " 2397,\n",
              " 2399,\n",
              " 2400,\n",
              " 2405,\n",
              " 2407,\n",
              " 2412,\n",
              " 2414,\n",
              " 2415,\n",
              " 2416,\n",
              " 2417,\n",
              " 2418,\n",
              " 2423,\n",
              " 2424,\n",
              " 2428,\n",
              " 2434,\n",
              " 2435,\n",
              " 2436,\n",
              " 2441,\n",
              " 2450,\n",
              " 2456,\n",
              " 2459,\n",
              " 2462,\n",
              " 2473,\n",
              " 2479,\n",
              " 2482,\n",
              " 2483,\n",
              " 2489,\n",
              " 2492,\n",
              " 2494,\n",
              " 2501,\n",
              " 2504,\n",
              " 2506,\n",
              " 2510,\n",
              " 2512,\n",
              " 2514,\n",
              " 2515,\n",
              " 2521,\n",
              " 2523,\n",
              " 2544,\n",
              " 2546,\n",
              " 2557,\n",
              " 2558,\n",
              " 2559,\n",
              " 2561,\n",
              " 2564,\n",
              " 2569,\n",
              " 2571,\n",
              " 2585,\n",
              " 2587,\n",
              " 2590,\n",
              " 2594,\n",
              " 2597,\n",
              " 2600,\n",
              " 2601,\n",
              " 2604,\n",
              " 2605,\n",
              " 2609,\n",
              " 2611,\n",
              " 2612,\n",
              " 2615,\n",
              " 2617,\n",
              " 2620,\n",
              " 2621,\n",
              " 2626,\n",
              " 2631,\n",
              " 2641,\n",
              " 2645,\n",
              " 2651,\n",
              " 2665,\n",
              " 2666,\n",
              " 2672,\n",
              " 2678,\n",
              " 2681,\n",
              " 2682,\n",
              " 2688,\n",
              " 2696,\n",
              " 2702,\n",
              " 2703,\n",
              " 2704,\n",
              " 2707,\n",
              " 2711,\n",
              " 2716,\n",
              " 2719,\n",
              " 2729,\n",
              " 2731,\n",
              " 2732,\n",
              " 2734,\n",
              " 2736,\n",
              " 2737,\n",
              " 2755,\n",
              " 2760,\n",
              " 2761,\n",
              " 2766,\n",
              " 2770,\n",
              " 2777,\n",
              " 2779,\n",
              " 2792,\n",
              " 2798,\n",
              " 2800,\n",
              " 2803,\n",
              " 2804,\n",
              " 2806,\n",
              " 2812,\n",
              " 2814,\n",
              " 2819,\n",
              " 2822,\n",
              " 2823,\n",
              " 2830,\n",
              " 2834,\n",
              " 2839,\n",
              " 2843,\n",
              " 2851,\n",
              " 2852,\n",
              " 2860,\n",
              " 2875,\n",
              " 2877,\n",
              " 2880,\n",
              " 2881,\n",
              " 2882,\n",
              " 2883,\n",
              " 2886,\n",
              " 2891,\n",
              " 2892,\n",
              " 2895,\n",
              " 2897,\n",
              " 2900,\n",
              " 2901,\n",
              " 2908,\n",
              " 2926,\n",
              " 2933,\n",
              " 2934,\n",
              " 2935,\n",
              " 2940,\n",
              " 2942,\n",
              " 2943,\n",
              " 2946,\n",
              " 2949,\n",
              " 2950,\n",
              " 2952,\n",
              " 2956,\n",
              " 2957,\n",
              " 2962,\n",
              " 2971,\n",
              " 2973,\n",
              " 2976,\n",
              " 2991,\n",
              " 2998,\n",
              " 3003,\n",
              " 3004,\n",
              " 3018,\n",
              " 3022,\n",
              " 3029,\n",
              " 3038,\n",
              " 3040,\n",
              " 3044,\n",
              " 3046,\n",
              " 3048,\n",
              " 3050,\n",
              " 3051,\n",
              " 3052,\n",
              " 3054,\n",
              " 3057,\n",
              " 3059,\n",
              " 3062,\n",
              " 3067,\n",
              " 3069,\n",
              " 3072,\n",
              " 3074,\n",
              " 3078,\n",
              " 3080,\n",
              " 3086,\n",
              " 3087,\n",
              " 3095,\n",
              " 3118,\n",
              " 3120,\n",
              " 3124,\n",
              " 3151,\n",
              " 3156,\n",
              " 3157,\n",
              " 3158,\n",
              " 3166,\n",
              " 3169,\n",
              " 3176,\n",
              " 3179,\n",
              " 3184,\n",
              " 3185,\n",
              " 3189,\n",
              " 3200,\n",
              " 3206,\n",
              " 3215,\n",
              " 3218,\n",
              " 3222,\n",
              " 3227,\n",
              " 3228,\n",
              " 3232,\n",
              " 3245,\n",
              " 3251,\n",
              " 3263,\n",
              " 3264,\n",
              " 3268,\n",
              " 3270,\n",
              " 3275,\n",
              " 3280,\n",
              " 3283,\n",
              " 3290,\n",
              " 3292,\n",
              " 3294,\n",
              " 3295,\n",
              " 3297,\n",
              " 3298,\n",
              " 3303,\n",
              " 3305,\n",
              " 3309,\n",
              " 3318,\n",
              " 3321,\n",
              " 3326,\n",
              " 3338,\n",
              " 3339,\n",
              " 3341,\n",
              " 3342,\n",
              " 3343,\n",
              " 3345,\n",
              " 3346,\n",
              " 3352,\n",
              " 3356,\n",
              " 3359,\n",
              " 3362,\n",
              " 3363,\n",
              " 3366,\n",
              " 3368,\n",
              " 3374,\n",
              " 3381,\n",
              " 3385,\n",
              " 3389,\n",
              " 3392,\n",
              " 3395,\n",
              " 3400,\n",
              " 3405,\n",
              " 3416,\n",
              " 3422,\n",
              " 3425,\n",
              " 3426,\n",
              " 3440,\n",
              " 3448,\n",
              " 3460,\n",
              " 3461,\n",
              " 3464,\n",
              " 3471,\n",
              " 3480,\n",
              " 3482,\n",
              " 3486,\n",
              " 3493,\n",
              " 3501,\n",
              " 3503,\n",
              " 3505,\n",
              " 3512,\n",
              " 3513,\n",
              " 3514,\n",
              " 3520,\n",
              " 3524,\n",
              " 3525,\n",
              " 3527,\n",
              " 3535,\n",
              " 3537,\n",
              " 3539,\n",
              " 3546,\n",
              " 3552,\n",
              " 3555,\n",
              " 3565,\n",
              " 3575,\n",
              " 3576,\n",
              " 3582,\n",
              " 3588,\n",
              " 3591,\n",
              " 3594,\n",
              " 3602,\n",
              " 3603,\n",
              " 3613,\n",
              " 3619,\n",
              " 3622,\n",
              " 3631,\n",
              " 3637,\n",
              " 3641,\n",
              " 3643,\n",
              " 3652,\n",
              " 3654,\n",
              " 3655,\n",
              " 3662,\n",
              " 3663,\n",
              " 3665,\n",
              " 3666,\n",
              " 3671,\n",
              " 3673,\n",
              " 3674,\n",
              " 3686,\n",
              " 3693,\n",
              " 3697,\n",
              " 3701,\n",
              " 3707,\n",
              " 3718,\n",
              " 3741,\n",
              " 3743,\n",
              " 3747,\n",
              " 3749,\n",
              " 3750,\n",
              " 3751,\n",
              " 3765,\n",
              " 3768,\n",
              " 3769,\n",
              " 3773,\n",
              " 3775,\n",
              " 3779,\n",
              " 3783,\n",
              " 3786,\n",
              " 3789,\n",
              " 3803,\n",
              " 3805,\n",
              " 3816,\n",
              " 3821,\n",
              " 3828,\n",
              " 3829,\n",
              " 3836,\n",
              " 3844,\n",
              " 3848,\n",
              " 3856,\n",
              " 3857,\n",
              " 3859,\n",
              " 3875,\n",
              " 3877,\n",
              " 3885,\n",
              " 3888,\n",
              " 3891,\n",
              " 3896,\n",
              " 3899,\n",
              " 3902,\n",
              " 3915,\n",
              " 3916,\n",
              " 3922,\n",
              " 3926,\n",
              " 3928,\n",
              " 3934,\n",
              " 3936,\n",
              " 3938,\n",
              " 3944,\n",
              " 3945,\n",
              " 3949,\n",
              " 3961,\n",
              " 3964,\n",
              " 3966,\n",
              " 3969,\n",
              " 3971,\n",
              " 3977,\n",
              " 3980,\n",
              " 3986,\n",
              " 3994,\n",
              " 4003,\n",
              " 4004,\n",
              " 4005,\n",
              " 4011,\n",
              " 4012,\n",
              " 4013,\n",
              " 4014,\n",
              " 4024,\n",
              " 4025,\n",
              " 4039,\n",
              " 4042,\n",
              " 4052,\n",
              " 4054,\n",
              " 4056,\n",
              " 4060,\n",
              " 4061,\n",
              " 4069,\n",
              " 4075,\n",
              " 4076,\n",
              " 4080,\n",
              " 4083,\n",
              " 4085,\n",
              " 4090,\n",
              " 4092,\n",
              " 4098,\n",
              " 4100,\n",
              " 4107,\n",
              " 4111,\n",
              " 4115,\n",
              " 4119,\n",
              " 4120,\n",
              " 4121,\n",
              " 4122,\n",
              " 4127,\n",
              " 4129,\n",
              " 4134,\n",
              " 4136,\n",
              " 4147,\n",
              " 4149,\n",
              " 4151,\n",
              " 4157,\n",
              " 4161,\n",
              " 4175,\n",
              " 4180,\n",
              " 4182,\n",
              " 4184,\n",
              " 4185,\n",
              " 4186,\n",
              " 4187,\n",
              " 4190,\n",
              " 4203,\n",
              " 4204,\n",
              " 4205,\n",
              " 4207,\n",
              " 4209,\n",
              " 4212,\n",
              " 4216,\n",
              " 4219,\n",
              " 4220,\n",
              " 4222,\n",
              " 4224,\n",
              " 4225,\n",
              " 4234,\n",
              " 4236,\n",
              " 4240,\n",
              " 4255,\n",
              " 4258,\n",
              " 4262,\n",
              " 4269,\n",
              " 4270,\n",
              " 4275,\n",
              " 4276,\n",
              " 4292,\n",
              " 4293,\n",
              " 4301,\n",
              " 4304,\n",
              " 4306,\n",
              " 4308,\n",
              " 4309,\n",
              " 4312,\n",
              " 4313,\n",
              " 4319,\n",
              " 4324,\n",
              " 4326,\n",
              " 4328,\n",
              " 4329,\n",
              " 4337,\n",
              " 4339,\n",
              " 4341,\n",
              " 4347,\n",
              " 4360,\n",
              " 4363,\n",
              " 4365,\n",
              " 4368,\n",
              " 4374,\n",
              " 4375,\n",
              " 4376,\n",
              " 4382,\n",
              " 4385,\n",
              " 4386,\n",
              " 4391,\n",
              " 4395,\n",
              " 4397,\n",
              " 4403,\n",
              " 4405,\n",
              " 4414,\n",
              " 4416,\n",
              " 4424,\n",
              " 4428,\n",
              " 4431,\n",
              " 4432,\n",
              " 4433,\n",
              " 4446,\n",
              " 4447,\n",
              " 4459,\n",
              " 4460,\n",
              " 4472,\n",
              " 4476,\n",
              " 4482,\n",
              " 4483,\n",
              " 4485,\n",
              " 4486,\n",
              " 4489,\n",
              " 4491,\n",
              " 4497,\n",
              " 4500,\n",
              " 4502,\n",
              " 4512,\n",
              " 4516,\n",
              " 4519,\n",
              " 4523,\n",
              " 4525,\n",
              " 4527,\n",
              " 4529,\n",
              " 4530,\n",
              " 4539,\n",
              " 4543,\n",
              " 4545,\n",
              " 4548,\n",
              " 4551,\n",
              " 4552,\n",
              " 4557,\n",
              " 4560,\n",
              " 4561,\n",
              " 4566,\n",
              " 4570,\n",
              " 4571,\n",
              " 4572,\n",
              " 4573,\n",
              " 4577,\n",
              " 4583,\n",
              " 4586,\n",
              " 4588,\n",
              " 4590,\n",
              " 4591,\n",
              " 4600,\n",
              " 4601,\n",
              " 4602,\n",
              " 4605,\n",
              " 4613,\n",
              " 4615,\n",
              " 4618,\n",
              " 4620,\n",
              " 4623,\n",
              " 4624,\n",
              " 4626,\n",
              " 4637,\n",
              " 4639,\n",
              " 4642,\n",
              " 4644,\n",
              " 4645,\n",
              " 4646,\n",
              " 4647,\n",
              " 4650,\n",
              " 4651,\n",
              " 4653,\n",
              " 4654,\n",
              " 4658,\n",
              " 4659,\n",
              " 4662,\n",
              " 4665,\n",
              " 4671,\n",
              " 4672,\n",
              " 4677,\n",
              " 4681,\n",
              " 4684,\n",
              " 4686,\n",
              " 4689,\n",
              " 4692,\n",
              " 4694,\n",
              " 4695,\n",
              " 4697,\n",
              " 4700,\n",
              " 4702,\n",
              " 4713,\n",
              " 4714,\n",
              " 4718,\n",
              " 4721,\n",
              " 4728,\n",
              " 4732,\n",
              " 4733,\n",
              " 4738,\n",
              " 4739,\n",
              " 4741,\n",
              " 4742,\n",
              " 4745,\n",
              " 4746,\n",
              " 4748,\n",
              " 4757,\n",
              " 4758,\n",
              " 4759,\n",
              " 4762,\n",
              " 4768,\n",
              " 4769,\n",
              " 4777,\n",
              " 4778,\n",
              " 4780,\n",
              " 4790,\n",
              " 4795,\n",
              " 4797,\n",
              " 4800,\n",
              " 4801,\n",
              " 4807,\n",
              " 4815,\n",
              " 4818,\n",
              " 4822,\n",
              " 4823,\n",
              " 4824,\n",
              " 4825,\n",
              " 4826,\n",
              " 4833,\n",
              " 4844,\n",
              " 4846,\n",
              " 4851,\n",
              " 4853,\n",
              " 4854,\n",
              " 4857,\n",
              " 4860,\n",
              " 4864,\n",
              " 4865,\n",
              " 4866,\n",
              " 4869,\n",
              " 4872,\n",
              " 4873,\n",
              " 4881,\n",
              " 4885,\n",
              " 4889,\n",
              " 4892,\n",
              " 4893,\n",
              " 4894,\n",
              " 4902,\n",
              " 4904,\n",
              " 4906,\n",
              " 4908,\n",
              " 4919,\n",
              " 4921,\n",
              " 4924,\n",
              " 4927,\n",
              " 4928,\n",
              " 4932,\n",
              " 4940,\n",
              " 4944,\n",
              " 4950,\n",
              " 4951,\n",
              " 4952,\n",
              " 4956,\n",
              " 4957,\n",
              " 4959,\n",
              " 4966,\n",
              " 4973,\n",
              " 4983,\n",
              " 4990,\n",
              " 4991,\n",
              " 4992,\n",
              " 4996]"
            ]
          },
          "metadata": {
            "tags": []
          },
          "execution_count": 78
        }
      ]
    },
    {
      "cell_type": "code",
      "metadata": {
        "colab": {
          "base_uri": "https://localhost:8080/",
          "height": 262
        },
        "id": "BHQlZthOFWgJ",
        "outputId": "e4a3075e-cd6c-403d-8698-8d18d50f6cb8"
      },
      "source": [
        "plt.figure(figsize=(20,4))\n",
        "for plotIndex, badIndex in enumerate(misclassifiedIndexes[0:10]):\n",
        "    plt.subplot(2, 5, plotIndex + 1)\n",
        "    plt.imshow(np.reshape(X_test[badIndex], (28,28)), cmap=plt.cm.gray)\n",
        "    plt.axis('off')\n",
        "    plt.title('Predicted: {}, Actual: {}'.format( labels[(int(predictions[badIndex]))], labels[y_test[badIndex][0]]), fontsize = 10)"
      ],
      "execution_count": null,
      "outputs": [
        {
          "output_type": "display_data",
          "data": {
            "image/png": "[encoded data removed]",
            "text/plain": [
              "<Figure size 1440x288 with 10 Axes>"
            ]
          },
          "metadata": {
            "tags": [],
            "needs_background": "light"
          }
        }
      ]
    },
    {
      "cell_type": "code",
      "metadata": {
        "colab": {
          "base_uri": "https://localhost:8080/"
        },
        "id": "SLr3Gl7_7FWX",
        "outputId": "e5772679-1c85-4a5e-b6cf-2b01017303d9"
      },
      "source": [
        "pipe_rmin_c200 = Pipeline([('scaler', MinMaxScaler()),('svc', SVC(kernel='rbf',probability = True,C=100 ,random_state=42))])\n",
        "scores_rmin_C200 = [] #store the accuracy scores\n",
        "cv = KFold(n_splits=4, random_state=42, shuffle=False) #set the CV parameters\n",
        "i = 1\n",
        "for train_index, test_index in cv.split(X_train):\n",
        "    X_train_fold, X_test_fold, y_train_fold, y_test_fold = X_train[train_index], X_train[test_index], y_train[train_index], y_train[test_index]\n",
        "    pipe_rmin_c200.fit(X_train_fold, y_train_fold)\n",
        "    scores_rmin_C200.append(pipe_rmin_c200.score(X_test_fold, y_test_fold))\n",
        "    print('Processing Fold #', i)\n",
        "    print(\"  - Train partition shape: \", X_train_fold.shape)\n",
        "    print(\"  - Test partition shape: \", X_test_fold.shape)\n",
        "    print(\"  - Training score = \", pipe_rmin_c200.score(X_train_fold, y_train_fold))\n",
        "    print(\"  - Testing score = \", pipe_rmin_c200.score(X_test_fold, y_test_fold))\n",
        "    \n",
        "    i += 1"
      ],
      "execution_count": null,
      "outputs": [
        {
          "output_type": "stream",
          "text": [
            "Processing Fold # 1\n",
            "  - Train partition shape:  (7499, 784)\n",
            "  - Test partition shape:  (2500, 784)\n",
            "  - Training score =  1.0\n",
            "  - Testing score =  0.902\n",
            "Processing Fold # 2\n",
            "  - Train partition shape:  (7499, 784)\n",
            "  - Test partition shape:  (2500, 784)\n",
            "  - Training score =  1.0\n",
            "  - Testing score =  0.9048\n",
            "Processing Fold # 3\n",
            "  - Train partition shape:  (7499, 784)\n",
            "  - Test partition shape:  (2500, 784)\n",
            "  - Training score =  1.0\n",
            "  - Testing score =  0.906\n",
            "Processing Fold # 4\n",
            "  - Train partition shape:  (7500, 784)\n",
            "  - Test partition shape:  (2499, 784)\n",
            "  - Training score =  1.0\n",
            "  - Testing score =  0.8959583833533413\n"
          ],
          "name": "stdout"
        }
      ]
    },
    {
      "cell_type": "code",
      "metadata": {
        "colab": {
          "base_uri": "https://localhost:8080/"
        },
        "id": "ATTVcjVO95TX",
        "outputId": "31e22e2a-8589-4082-d260-18ea14a9224a"
      },
      "source": [
        "pipe_rmin_c200.score(X_test, y_test)"
      ],
      "execution_count": null,
      "outputs": [
        {
          "output_type": "execute_result",
          "data": {
            "text/plain": [
              "0.8837767553510703"
            ]
          },
          "metadata": {
            "tags": []
          },
          "execution_count": 84
        }
      ]
    },
    {
      "cell_type": "code",
      "metadata": {
        "id": "X7y2ctE2LV95"
      },
      "source": [
        "\n",
        "# Make predictions on entire test data\n",
        "predictions_rbf = pipe_rmin_c200.predict(X_test)"
      ],
      "execution_count": null,
      "outputs": []
    },
    {
      "cell_type": "code",
      "metadata": {
        "id": "iEos-oF0LlJd"
      },
      "source": [
        "index = 0\n",
        "misclassifiedIndexes_rbf = []\n",
        "for label, predict in zip(y_test, predictions_rbf):\n",
        "    if label[0] != predict: \n",
        "       misclassifiedIndexes_rbf.append(index)\n",
        "    index +=1"
      ],
      "execution_count": null,
      "outputs": []
    },
    {
      "cell_type": "code",
      "metadata": {
        "id": "SfdKncCYMuO6"
      },
      "source": [
        "index = 0\n",
        "corr_classifiedIndexes_rbf = []\n",
        "for label, predict in zip(y_test, predictions_rbf):\n",
        "    if label[0] == predict: \n",
        "       corr_classifiedIndexes_rbf.append(index)\n",
        "    index +=1"
      ],
      "execution_count": null,
      "outputs": []
    },
    {
      "cell_type": "code",
      "metadata": {
        "colab": {
          "base_uri": "https://localhost:8080/"
        },
        "id": "K1UzDKLsLudL",
        "outputId": "4c035680-f865-428b-9cc8-c69a5bac8f34"
      },
      "source": [
        "misclassifiedIndexes_rbf"
      ],
      "execution_count": null,
      "outputs": [
        {
          "output_type": "execute_result",
          "data": {
            "text/plain": [
              "[46,\n",
              " 53,\n",
              " 59,\n",
              " 104,\n",
              " 107,\n",
              " 113,\n",
              " 123,\n",
              " 124,\n",
              " 152,\n",
              " 159,\n",
              " 176,\n",
              " 189,\n",
              " 191,\n",
              " 213,\n",
              " 225,\n",
              " 232,\n",
              " 263,\n",
              " 271,\n",
              " 289,\n",
              " 300,\n",
              " 302,\n",
              " 312,\n",
              " 317,\n",
              " 318,\n",
              " 321,\n",
              " 338,\n",
              " 346,\n",
              " 349,\n",
              " 351,\n",
              " 356,\n",
              " 366,\n",
              " 393,\n",
              " 399,\n",
              " 401,\n",
              " 409,\n",
              " 420,\n",
              " 424,\n",
              " 425,\n",
              " 429,\n",
              " 461,\n",
              " 469,\n",
              " 473,\n",
              " 524,\n",
              " 537,\n",
              " 543,\n",
              " 544,\n",
              " 576,\n",
              " 602,\n",
              " 610,\n",
              " 618,\n",
              " 620,\n",
              " 626,\n",
              " 634,\n",
              " 655,\n",
              " 695,\n",
              " 711,\n",
              " 724,\n",
              " 729,\n",
              " 730,\n",
              " 764,\n",
              " 767,\n",
              " 774,\n",
              " 781,\n",
              " 783,\n",
              " 789,\n",
              " 794,\n",
              " 806,\n",
              " 807,\n",
              " 817,\n",
              " 818,\n",
              " 837,\n",
              " 852,\n",
              " 853,\n",
              " 861,\n",
              " 875,\n",
              " 884,\n",
              " 906,\n",
              " 916,\n",
              " 920,\n",
              " 922,\n",
              " 948,\n",
              " 958,\n",
              " 967,\n",
              " 970,\n",
              " 971,\n",
              " 979,\n",
              " 985,\n",
              " 998,\n",
              " 1024,\n",
              " 1043,\n",
              " 1068,\n",
              " 1069,\n",
              " 1079,\n",
              " 1111,\n",
              " 1146,\n",
              " 1164,\n",
              " 1239,\n",
              " 1249,\n",
              " 1302,\n",
              " 1350,\n",
              " 1392,\n",
              " 1457,\n",
              " 1479,\n",
              " 1507,\n",
              " 1522,\n",
              " 1532,\n",
              " 1539,\n",
              " 1547,\n",
              " 1550,\n",
              " 1590,\n",
              " 1613,\n",
              " 1648,\n",
              " 1760,\n",
              " 1786,\n",
              " 1858,\n",
              " 1899,\n",
              " 1903,\n",
              " 1913,\n",
              " 1930,\n",
              " 1934,\n",
              " 1943,\n",
              " 1959,\n",
              " 1987,\n",
              " 2019,\n",
              " 2022,\n",
              " 2029,\n",
              " 2035,\n",
              " 2049,\n",
              " 2054,\n",
              " 2059,\n",
              " 2080,\n",
              " 2084,\n",
              " 2087,\n",
              " 2089,\n",
              " 2090,\n",
              " 2091,\n",
              " 2099,\n",
              " 2102,\n",
              " 2107,\n",
              " 2119,\n",
              " 2124,\n",
              " 2126,\n",
              " 2136,\n",
              " 2141,\n",
              " 2143,\n",
              " 2154,\n",
              " 2156,\n",
              " 2158,\n",
              " 2164,\n",
              " 2165,\n",
              " 2166,\n",
              " 2168,\n",
              " 2181,\n",
              " 2188,\n",
              " 2208,\n",
              " 2213,\n",
              " 2215,\n",
              " 2218,\n",
              " 2220,\n",
              " 2225,\n",
              " 2242,\n",
              " 2243,\n",
              " 2244,\n",
              " 2249,\n",
              " 2250,\n",
              " 2257,\n",
              " 2262,\n",
              " 2278,\n",
              " 2293,\n",
              " 2297,\n",
              " 2315,\n",
              " 2318,\n",
              " 2331,\n",
              " 2333,\n",
              " 2338,\n",
              " 2341,\n",
              " 2343,\n",
              " 2348,\n",
              " 2357,\n",
              " 2360,\n",
              " 2365,\n",
              " 2366,\n",
              " 2369,\n",
              " 2370,\n",
              " 2372,\n",
              " 2373,\n",
              " 2389,\n",
              " 2392,\n",
              " 2394,\n",
              " 2397,\n",
              " 2399,\n",
              " 2400,\n",
              " 2405,\n",
              " 2414,\n",
              " 2415,\n",
              " 2416,\n",
              " 2434,\n",
              " 2435,\n",
              " 2439,\n",
              " 2462,\n",
              " 2482,\n",
              " 2483,\n",
              " 2489,\n",
              " 2492,\n",
              " 2494,\n",
              " 2501,\n",
              " 2504,\n",
              " 2506,\n",
              " 2512,\n",
              " 2513,\n",
              " 2517,\n",
              " 2521,\n",
              " 2544,\n",
              " 2558,\n",
              " 2561,\n",
              " 2569,\n",
              " 2572,\n",
              " 2587,\n",
              " 2590,\n",
              " 2597,\n",
              " 2600,\n",
              " 2605,\n",
              " 2615,\n",
              " 2616,\n",
              " 2636,\n",
              " 2640,\n",
              " 2651,\n",
              " 2672,\n",
              " 2678,\n",
              " 2688,\n",
              " 2696,\n",
              " 2704,\n",
              " 2711,\n",
              " 2716,\n",
              " 2717,\n",
              " 2721,\n",
              " 2722,\n",
              " 2732,\n",
              " 2733,\n",
              " 2747,\n",
              " 2761,\n",
              " 2770,\n",
              " 2777,\n",
              " 2814,\n",
              " 2819,\n",
              " 2824,\n",
              " 2830,\n",
              " 2834,\n",
              " 2837,\n",
              " 2838,\n",
              " 2860,\n",
              " 2875,\n",
              " 2877,\n",
              " 2882,\n",
              " 2886,\n",
              " 2887,\n",
              " 2891,\n",
              " 2895,\n",
              " 2896,\n",
              " 2897,\n",
              " 2900,\n",
              " 2917,\n",
              " 2919,\n",
              " 2926,\n",
              " 2929,\n",
              " 2935,\n",
              " 2945,\n",
              " 2950,\n",
              " 2957,\n",
              " 2959,\n",
              " 2962,\n",
              " 2963,\n",
              " 2980,\n",
              " 2985,\n",
              " 2998,\n",
              " 3003,\n",
              " 3004,\n",
              " 3018,\n",
              " 3022,\n",
              " 3040,\n",
              " 3044,\n",
              " 3046,\n",
              " 3048,\n",
              " 3050,\n",
              " 3051,\n",
              " 3054,\n",
              " 3059,\n",
              " 3063,\n",
              " 3067,\n",
              " 3078,\n",
              " 3080,\n",
              " 3087,\n",
              " 3095,\n",
              " 3118,\n",
              " 3124,\n",
              " 3156,\n",
              " 3157,\n",
              " 3169,\n",
              " 3175,\n",
              " 3176,\n",
              " 3184,\n",
              " 3186,\n",
              " 3192,\n",
              " 3200,\n",
              " 3201,\n",
              " 3205,\n",
              " 3206,\n",
              " 3222,\n",
              " 3227,\n",
              " 3228,\n",
              " 3245,\n",
              " 3251,\n",
              " 3257,\n",
              " 3263,\n",
              " 3268,\n",
              " 3279,\n",
              " 3280,\n",
              " 3281,\n",
              " 3290,\n",
              " 3292,\n",
              " 3294,\n",
              " 3297,\n",
              " 3298,\n",
              " 3309,\n",
              " 3318,\n",
              " 3321,\n",
              " 3326,\n",
              " 3327,\n",
              " 3334,\n",
              " 3344,\n",
              " 3345,\n",
              " 3346,\n",
              " 3352,\n",
              " 3356,\n",
              " 3363,\n",
              " 3371,\n",
              " 3374,\n",
              " 3381,\n",
              " 3392,\n",
              " 3400,\n",
              " 3405,\n",
              " 3427,\n",
              " 3440,\n",
              " 3464,\n",
              " 3472,\n",
              " 3486,\n",
              " 3501,\n",
              " 3505,\n",
              " 3520,\n",
              " 3525,\n",
              " 3527,\n",
              " 3537,\n",
              " 3546,\n",
              " 3554,\n",
              " 3555,\n",
              " 3591,\n",
              " 3594,\n",
              " 3602,\n",
              " 3603,\n",
              " 3622,\n",
              " 3641,\n",
              " 3654,\n",
              " 3662,\n",
              " 3666,\n",
              " 3673,\n",
              " 3693,\n",
              " 3705,\n",
              " 3707,\n",
              " 3735,\n",
              " 3743,\n",
              " 3747,\n",
              " 3749,\n",
              " 3750,\n",
              " 3755,\n",
              " 3768,\n",
              " 3769,\n",
              " 3778,\n",
              " 3786,\n",
              " 3788,\n",
              " 3789,\n",
              " 3803,\n",
              " 3805,\n",
              " 3816,\n",
              " 3821,\n",
              " 3829,\n",
              " 3844,\n",
              " 3848,\n",
              " 3856,\n",
              " 3859,\n",
              " 3862,\n",
              " 3875,\n",
              " 3877,\n",
              " 3886,\n",
              " 3888,\n",
              " 3891,\n",
              " 3902,\n",
              " 3916,\n",
              " 3926,\n",
              " 3934,\n",
              " 3936,\n",
              " 3938,\n",
              " 3945,\n",
              " 3947,\n",
              " 3949,\n",
              " 3958,\n",
              " 3977,\n",
              " 3994,\n",
              " 4003,\n",
              " 4005,\n",
              " 4012,\n",
              " 4013,\n",
              " 4016,\n",
              " 4024,\n",
              " 4025,\n",
              " 4041,\n",
              " 4052,\n",
              " 4060,\n",
              " 4069,\n",
              " 4079,\n",
              " 4080,\n",
              " 4081,\n",
              " 4090,\n",
              " 4091,\n",
              " 4100,\n",
              " 4107,\n",
              " 4109,\n",
              " 4111,\n",
              " 4112,\n",
              " 4119,\n",
              " 4129,\n",
              " 4132,\n",
              " 4140,\n",
              " 4142,\n",
              " 4143,\n",
              " 4151,\n",
              " 4157,\n",
              " 4160,\n",
              " 4161,\n",
              " 4166,\n",
              " 4167,\n",
              " 4171,\n",
              " 4175,\n",
              " 4180,\n",
              " 4182,\n",
              " 4186,\n",
              " 4190,\n",
              " 4203,\n",
              " 4205,\n",
              " 4214,\n",
              " 4216,\n",
              " 4222,\n",
              " 4236,\n",
              " 4240,\n",
              " 4255,\n",
              " 4258,\n",
              " 4261,\n",
              " 4270,\n",
              " 4281,\n",
              " 4301,\n",
              " 4304,\n",
              " 4306,\n",
              " 4309,\n",
              " 4312,\n",
              " 4317,\n",
              " 4325,\n",
              " 4329,\n",
              " 4339,\n",
              " 4341,\n",
              " 4347,\n",
              " 4363,\n",
              " 4365,\n",
              " 4368,\n",
              " 4374,\n",
              " 4377,\n",
              " 4385,\n",
              " 4386,\n",
              " 4390,\n",
              " 4395,\n",
              " 4396,\n",
              " 4397,\n",
              " 4413,\n",
              " 4414,\n",
              " 4428,\n",
              " 4432,\n",
              " 4433,\n",
              " 4435,\n",
              " 4437,\n",
              " 4441,\n",
              " 4447,\n",
              " 4449,\n",
              " 4459,\n",
              " 4472,\n",
              " 4480,\n",
              " 4481,\n",
              " 4484,\n",
              " 4486,\n",
              " 4491,\n",
              " 4495,\n",
              " 4500,\n",
              " 4502,\n",
              " 4507,\n",
              " 4509,\n",
              " 4512,\n",
              " 4513,\n",
              " 4525,\n",
              " 4527,\n",
              " 4528,\n",
              " 4529,\n",
              " 4534,\n",
              " 4539,\n",
              " 4540,\n",
              " 4545,\n",
              " 4551,\n",
              " 4560,\n",
              " 4566,\n",
              " 4571,\n",
              " 4572,\n",
              " 4583,\n",
              " 4586,\n",
              " 4588,\n",
              " 4591,\n",
              " 4595,\n",
              " 4600,\n",
              " 4605,\n",
              " 4615,\n",
              " 4618,\n",
              " 4621,\n",
              " 4623,\n",
              " 4626,\n",
              " 4639,\n",
              " 4644,\n",
              " 4645,\n",
              " 4659,\n",
              " 4660,\n",
              " 4669,\n",
              " 4671,\n",
              " 4672,\n",
              " 4677,\n",
              " 4684,\n",
              " 4692,\n",
              " 4695,\n",
              " 4698,\n",
              " 4702,\n",
              " 4713,\n",
              " 4724,\n",
              " 4732,\n",
              " 4738,\n",
              " 4757,\n",
              " 4768,\n",
              " 4773,\n",
              " 4774,\n",
              " 4778,\n",
              " 4795,\n",
              " 4796,\n",
              " 4797,\n",
              " 4801,\n",
              " 4807,\n",
              " 4810,\n",
              " 4823,\n",
              " 4824,\n",
              " 4842,\n",
              " 4851,\n",
              " 4854,\n",
              " 4865,\n",
              " 4872,\n",
              " 4885,\n",
              " 4888,\n",
              " 4904,\n",
              " 4906,\n",
              " 4908,\n",
              " 4921,\n",
              " 4927,\n",
              " 4934,\n",
              " 4940,\n",
              " 4947,\n",
              " 4952,\n",
              " 4957,\n",
              " 4961,\n",
              " 4973,\n",
              " 4990,\n",
              " 4992]"
            ]
          },
          "metadata": {
            "tags": []
          },
          "execution_count": 89
        }
      ]
    },
    {
      "cell_type": "code",
      "metadata": {
        "colab": {
          "base_uri": "https://localhost:8080/",
          "height": 262
        },
        "id": "6v17rlm-L8AT",
        "outputId": "d09ead64-8690-4b08-9520-77ea91262621"
      },
      "source": [
        "plt.figure(figsize=(20,4))\n",
        "for plotIndex, badIndex in enumerate(misclassifiedIndexes_rbf[0:10]):\n",
        "    plt.subplot(2, 5, plotIndex + 1)\n",
        "    plt.imshow(np.reshape(X_test[badIndex], (28,28)), cmap=plt.cm.gray)\n",
        "    plt.axis('off')\n",
        "    plt.title('Predicted: {}, Actual: {}'.format( labels[(int(predictions_rbf[badIndex]))], labels[y_test[badIndex][0]]), fontsize = 10)"
      ],
      "execution_count": null,
      "outputs": [
        {
          "output_type": "display_data",
          "data": {
            "image/png": "[encoded data removed]",
            "text/plain": [
              "<Figure size 1440x288 with 10 Axes>"
            ]
          },
          "metadata": {
            "tags": [],
            "needs_background": "light"
          }
        }
      ]
    },
    {
      "cell_type": "code",
      "metadata": {
        "colab": {
          "base_uri": "https://localhost:8080/"
        },
        "id": "DXrsHqrwM4c8",
        "outputId": "3a19f948-ea56-4dd1-8b9e-9dae4c1faf0b"
      },
      "source": [
        "corr_classifiedIndexes_rbf \n"
      ],
      "execution_count": null,
      "outputs": [
        {
          "output_type": "execute_result",
          "data": {
            "text/plain": [
              "[0,\n",
              " 1,\n",
              " 2,\n",
              " 3,\n",
              " 4,\n",
              " 5,\n",
              " 6,\n",
              " 7,\n",
              " 8,\n",
              " 9,\n",
              " 10,\n",
              " 11,\n",
              " 12,\n",
              " 13,\n",
              " 14,\n",
              " 15,\n",
              " 16,\n",
              " 17,\n",
              " 18,\n",
              " 19,\n",
              " 20,\n",
              " 21,\n",
              " 22,\n",
              " 23,\n",
              " 24,\n",
              " 25,\n",
              " 26,\n",
              " 27,\n",
              " 28,\n",
              " 29,\n",
              " 30,\n",
              " 31,\n",
              " 32,\n",
              " 33,\n",
              " 34,\n",
              " 35,\n",
              " 36,\n",
              " 37,\n",
              " 38,\n",
              " 39,\n",
              " 40,\n",
              " 41,\n",
              " 42,\n",
              " 43,\n",
              " 44,\n",
              " 45,\n",
              " 47,\n",
              " 48,\n",
              " 49,\n",
              " 50,\n",
              " 51,\n",
              " 52,\n",
              " 54,\n",
              " 55,\n",
              " 56,\n",
              " 57,\n",
              " 58,\n",
              " 60,\n",
              " 61,\n",
              " 62,\n",
              " 63,\n",
              " 64,\n",
              " 65,\n",
              " 66,\n",
              " 67,\n",
              " 68,\n",
              " 69,\n",
              " 70,\n",
              " 71,\n",
              " 72,\n",
              " 73,\n",
              " 74,\n",
              " 75,\n",
              " 76,\n",
              " 77,\n",
              " 78,\n",
              " 79,\n",
              " 80,\n",
              " 81,\n",
              " 82,\n",
              " 83,\n",
              " 84,\n",
              " 85,\n",
              " 86,\n",
              " 87,\n",
              " 88,\n",
              " 89,\n",
              " 90,\n",
              " 91,\n",
              " 92,\n",
              " 93,\n",
              " 94,\n",
              " 95,\n",
              " 96,\n",
              " 97,\n",
              " 98,\n",
              " 99,\n",
              " 100,\n",
              " 101,\n",
              " 102,\n",
              " 103,\n",
              " 105,\n",
              " 106,\n",
              " 108,\n",
              " 109,\n",
              " 110,\n",
              " 111,\n",
              " 112,\n",
              " 114,\n",
              " 115,\n",
              " 116,\n",
              " 117,\n",
              " 118,\n",
              " 119,\n",
              " 120,\n",
              " 121,\n",
              " 122,\n",
              " 125,\n",
              " 126,\n",
              " 127,\n",
              " 128,\n",
              " 129,\n",
              " 130,\n",
              " 131,\n",
              " 132,\n",
              " 133,\n",
              " 134,\n",
              " 135,\n",
              " 136,\n",
              " 137,\n",
              " 138,\n",
              " 139,\n",
              " 140,\n",
              " 141,\n",
              " 142,\n",
              " 143,\n",
              " 144,\n",
              " 145,\n",
              " 146,\n",
              " 147,\n",
              " 148,\n",
              " 149,\n",
              " 150,\n",
              " 151,\n",
              " 153,\n",
              " 154,\n",
              " 155,\n",
              " 156,\n",
              " 157,\n",
              " 158,\n",
              " 160,\n",
              " 161,\n",
              " 162,\n",
              " 163,\n",
              " 164,\n",
              " 165,\n",
              " 166,\n",
              " 167,\n",
              " 168,\n",
              " 169,\n",
              " 170,\n",
              " 171,\n",
              " 172,\n",
              " 173,\n",
              " 174,\n",
              " 175,\n",
              " 177,\n",
              " 178,\n",
              " 179,\n",
              " 180,\n",
              " 181,\n",
              " 182,\n",
              " 183,\n",
              " 184,\n",
              " 185,\n",
              " 186,\n",
              " 187,\n",
              " 188,\n",
              " 190,\n",
              " 192,\n",
              " 193,\n",
              " 194,\n",
              " 195,\n",
              " 196,\n",
              " 197,\n",
              " 198,\n",
              " 199,\n",
              " 200,\n",
              " 201,\n",
              " 202,\n",
              " 203,\n",
              " 204,\n",
              " 205,\n",
              " 206,\n",
              " 207,\n",
              " 208,\n",
              " 209,\n",
              " 210,\n",
              " 211,\n",
              " 212,\n",
              " 214,\n",
              " 215,\n",
              " 216,\n",
              " 217,\n",
              " 218,\n",
              " 219,\n",
              " 220,\n",
              " 221,\n",
              " 222,\n",
              " 223,\n",
              " 224,\n",
              " 226,\n",
              " 227,\n",
              " 228,\n",
              " 229,\n",
              " 230,\n",
              " 231,\n",
              " 233,\n",
              " 234,\n",
              " 235,\n",
              " 236,\n",
              " 237,\n",
              " 238,\n",
              " 239,\n",
              " 240,\n",
              " 241,\n",
              " 242,\n",
              " 243,\n",
              " 244,\n",
              " 245,\n",
              " 246,\n",
              " 247,\n",
              " 248,\n",
              " 249,\n",
              " 250,\n",
              " 251,\n",
              " 252,\n",
              " 253,\n",
              " 254,\n",
              " 255,\n",
              " 256,\n",
              " 257,\n",
              " 258,\n",
              " 259,\n",
              " 260,\n",
              " 261,\n",
              " 262,\n",
              " 264,\n",
              " 265,\n",
              " 266,\n",
              " 267,\n",
              " 268,\n",
              " 269,\n",
              " 270,\n",
              " 272,\n",
              " 273,\n",
              " 274,\n",
              " 275,\n",
              " 276,\n",
              " 277,\n",
              " 278,\n",
              " 279,\n",
              " 280,\n",
              " 281,\n",
              " 282,\n",
              " 283,\n",
              " 284,\n",
              " 285,\n",
              " 286,\n",
              " 287,\n",
              " 288,\n",
              " 290,\n",
              " 291,\n",
              " 292,\n",
              " 293,\n",
              " 294,\n",
              " 295,\n",
              " 296,\n",
              " 297,\n",
              " 298,\n",
              " 299,\n",
              " 301,\n",
              " 303,\n",
              " 304,\n",
              " 305,\n",
              " 306,\n",
              " 307,\n",
              " 308,\n",
              " 309,\n",
              " 310,\n",
              " 311,\n",
              " 313,\n",
              " 314,\n",
              " 315,\n",
              " 316,\n",
              " 319,\n",
              " 320,\n",
              " 322,\n",
              " 323,\n",
              " 324,\n",
              " 325,\n",
              " 326,\n",
              " 327,\n",
              " 328,\n",
              " 329,\n",
              " 330,\n",
              " 331,\n",
              " 332,\n",
              " 333,\n",
              " 334,\n",
              " 335,\n",
              " 336,\n",
              " 337,\n",
              " 339,\n",
              " 340,\n",
              " 341,\n",
              " 342,\n",
              " 343,\n",
              " 344,\n",
              " 345,\n",
              " 347,\n",
              " 348,\n",
              " 350,\n",
              " 352,\n",
              " 353,\n",
              " 354,\n",
              " 355,\n",
              " 357,\n",
              " 358,\n",
              " 359,\n",
              " 360,\n",
              " 361,\n",
              " 362,\n",
              " 363,\n",
              " 364,\n",
              " 365,\n",
              " 367,\n",
              " 368,\n",
              " 369,\n",
              " 370,\n",
              " 371,\n",
              " 372,\n",
              " 373,\n",
              " 374,\n",
              " 375,\n",
              " 376,\n",
              " 377,\n",
              " 378,\n",
              " 379,\n",
              " 380,\n",
              " 381,\n",
              " 382,\n",
              " 383,\n",
              " 384,\n",
              " 385,\n",
              " 386,\n",
              " 387,\n",
              " 388,\n",
              " 389,\n",
              " 390,\n",
              " 391,\n",
              " 392,\n",
              " 394,\n",
              " 395,\n",
              " 396,\n",
              " 397,\n",
              " 398,\n",
              " 400,\n",
              " 402,\n",
              " 403,\n",
              " 404,\n",
              " 405,\n",
              " 406,\n",
              " 407,\n",
              " 408,\n",
              " 410,\n",
              " 411,\n",
              " 412,\n",
              " 413,\n",
              " 414,\n",
              " 415,\n",
              " 416,\n",
              " 417,\n",
              " 418,\n",
              " 419,\n",
              " 421,\n",
              " 422,\n",
              " 423,\n",
              " 426,\n",
              " 427,\n",
              " 428,\n",
              " 430,\n",
              " 431,\n",
              " 432,\n",
              " 433,\n",
              " 434,\n",
              " 435,\n",
              " 436,\n",
              " 437,\n",
              " 438,\n",
              " 439,\n",
              " 440,\n",
              " 441,\n",
              " 442,\n",
              " 443,\n",
              " 444,\n",
              " 445,\n",
              " 446,\n",
              " 447,\n",
              " 448,\n",
              " 449,\n",
              " 450,\n",
              " 451,\n",
              " 452,\n",
              " 453,\n",
              " 454,\n",
              " 455,\n",
              " 456,\n",
              " 457,\n",
              " 458,\n",
              " 459,\n",
              " 460,\n",
              " 462,\n",
              " 463,\n",
              " 464,\n",
              " 465,\n",
              " 466,\n",
              " 467,\n",
              " 468,\n",
              " 470,\n",
              " 471,\n",
              " 472,\n",
              " 474,\n",
              " 475,\n",
              " 476,\n",
              " 477,\n",
              " 478,\n",
              " 479,\n",
              " 480,\n",
              " 481,\n",
              " 482,\n",
              " 483,\n",
              " 484,\n",
              " 485,\n",
              " 486,\n",
              " 487,\n",
              " 488,\n",
              " 489,\n",
              " 490,\n",
              " 491,\n",
              " 492,\n",
              " 493,\n",
              " 494,\n",
              " 495,\n",
              " 496,\n",
              " 497,\n",
              " 498,\n",
              " 499,\n",
              " 500,\n",
              " 501,\n",
              " 502,\n",
              " 503,\n",
              " 504,\n",
              " 505,\n",
              " 506,\n",
              " 507,\n",
              " 508,\n",
              " 509,\n",
              " 510,\n",
              " 511,\n",
              " 512,\n",
              " 513,\n",
              " 514,\n",
              " 515,\n",
              " 516,\n",
              " 517,\n",
              " 518,\n",
              " 519,\n",
              " 520,\n",
              " 521,\n",
              " 522,\n",
              " 523,\n",
              " 525,\n",
              " 526,\n",
              " 527,\n",
              " 528,\n",
              " 529,\n",
              " 530,\n",
              " 531,\n",
              " 532,\n",
              " 533,\n",
              " 534,\n",
              " 535,\n",
              " 536,\n",
              " 538,\n",
              " 539,\n",
              " 540,\n",
              " 541,\n",
              " 542,\n",
              " 545,\n",
              " 546,\n",
              " 547,\n",
              " 548,\n",
              " 549,\n",
              " 550,\n",
              " 551,\n",
              " 552,\n",
              " 553,\n",
              " 554,\n",
              " 555,\n",
              " 556,\n",
              " 557,\n",
              " 558,\n",
              " 559,\n",
              " 560,\n",
              " 561,\n",
              " 562,\n",
              " 563,\n",
              " 564,\n",
              " 565,\n",
              " 566,\n",
              " 567,\n",
              " 568,\n",
              " 569,\n",
              " 570,\n",
              " 571,\n",
              " 572,\n",
              " 573,\n",
              " 574,\n",
              " 575,\n",
              " 577,\n",
              " 578,\n",
              " 579,\n",
              " 580,\n",
              " 581,\n",
              " 582,\n",
              " 583,\n",
              " 584,\n",
              " 585,\n",
              " 586,\n",
              " 587,\n",
              " 588,\n",
              " 589,\n",
              " 590,\n",
              " 591,\n",
              " 592,\n",
              " 593,\n",
              " 594,\n",
              " 595,\n",
              " 596,\n",
              " 597,\n",
              " 598,\n",
              " 599,\n",
              " 600,\n",
              " 601,\n",
              " 603,\n",
              " 604,\n",
              " 605,\n",
              " 606,\n",
              " 607,\n",
              " 608,\n",
              " 609,\n",
              " 611,\n",
              " 612,\n",
              " 613,\n",
              " 614,\n",
              " 615,\n",
              " 616,\n",
              " 617,\n",
              " 619,\n",
              " 621,\n",
              " 622,\n",
              " 623,\n",
              " 624,\n",
              " 625,\n",
              " 627,\n",
              " 628,\n",
              " 629,\n",
              " 630,\n",
              " 631,\n",
              " 632,\n",
              " 633,\n",
              " 635,\n",
              " 636,\n",
              " 637,\n",
              " 638,\n",
              " 639,\n",
              " 640,\n",
              " 641,\n",
              " 642,\n",
              " 643,\n",
              " 644,\n",
              " 645,\n",
              " 646,\n",
              " 647,\n",
              " 648,\n",
              " 649,\n",
              " 650,\n",
              " 651,\n",
              " 652,\n",
              " 653,\n",
              " 654,\n",
              " 656,\n",
              " 657,\n",
              " 658,\n",
              " 659,\n",
              " 660,\n",
              " 661,\n",
              " 662,\n",
              " 663,\n",
              " 664,\n",
              " 665,\n",
              " 666,\n",
              " 667,\n",
              " 668,\n",
              " 669,\n",
              " 670,\n",
              " 671,\n",
              " 672,\n",
              " 673,\n",
              " 674,\n",
              " 675,\n",
              " 676,\n",
              " 677,\n",
              " 678,\n",
              " 679,\n",
              " 680,\n",
              " 681,\n",
              " 682,\n",
              " 683,\n",
              " 684,\n",
              " 685,\n",
              " 686,\n",
              " 687,\n",
              " 688,\n",
              " 689,\n",
              " 690,\n",
              " 691,\n",
              " 692,\n",
              " 693,\n",
              " 694,\n",
              " 696,\n",
              " 697,\n",
              " 698,\n",
              " 699,\n",
              " 700,\n",
              " 701,\n",
              " 702,\n",
              " 703,\n",
              " 704,\n",
              " 705,\n",
              " 706,\n",
              " 707,\n",
              " 708,\n",
              " 709,\n",
              " 710,\n",
              " 712,\n",
              " 713,\n",
              " 714,\n",
              " 715,\n",
              " 716,\n",
              " 717,\n",
              " 718,\n",
              " 719,\n",
              " 720,\n",
              " 721,\n",
              " 722,\n",
              " 723,\n",
              " 725,\n",
              " 726,\n",
              " 727,\n",
              " 728,\n",
              " 731,\n",
              " 732,\n",
              " 733,\n",
              " 734,\n",
              " 735,\n",
              " 736,\n",
              " 737,\n",
              " 738,\n",
              " 739,\n",
              " 740,\n",
              " 741,\n",
              " 742,\n",
              " 743,\n",
              " 744,\n",
              " 745,\n",
              " 746,\n",
              " 747,\n",
              " 748,\n",
              " 749,\n",
              " 750,\n",
              " 751,\n",
              " 752,\n",
              " 753,\n",
              " 754,\n",
              " 755,\n",
              " 756,\n",
              " 757,\n",
              " 758,\n",
              " 759,\n",
              " 760,\n",
              " 761,\n",
              " 762,\n",
              " 763,\n",
              " 765,\n",
              " 766,\n",
              " 768,\n",
              " 769,\n",
              " 770,\n",
              " 771,\n",
              " 772,\n",
              " 773,\n",
              " 775,\n",
              " 776,\n",
              " 777,\n",
              " 778,\n",
              " 779,\n",
              " 780,\n",
              " 782,\n",
              " 784,\n",
              " 785,\n",
              " 786,\n",
              " 787,\n",
              " 788,\n",
              " 790,\n",
              " 791,\n",
              " 792,\n",
              " 793,\n",
              " 795,\n",
              " 796,\n",
              " 797,\n",
              " 798,\n",
              " 799,\n",
              " 800,\n",
              " 801,\n",
              " 802,\n",
              " 803,\n",
              " 804,\n",
              " 805,\n",
              " 808,\n",
              " 809,\n",
              " 810,\n",
              " 811,\n",
              " 812,\n",
              " 813,\n",
              " 814,\n",
              " 815,\n",
              " 816,\n",
              " 819,\n",
              " 820,\n",
              " 821,\n",
              " 822,\n",
              " 823,\n",
              " 824,\n",
              " 825,\n",
              " 826,\n",
              " 827,\n",
              " 828,\n",
              " 829,\n",
              " 830,\n",
              " 831,\n",
              " 832,\n",
              " 833,\n",
              " 834,\n",
              " 835,\n",
              " 836,\n",
              " 838,\n",
              " 839,\n",
              " 840,\n",
              " 841,\n",
              " 842,\n",
              " 843,\n",
              " 844,\n",
              " 845,\n",
              " 846,\n",
              " 847,\n",
              " 848,\n",
              " 849,\n",
              " 850,\n",
              " 851,\n",
              " 854,\n",
              " 855,\n",
              " 856,\n",
              " 857,\n",
              " 858,\n",
              " 859,\n",
              " 860,\n",
              " 862,\n",
              " 863,\n",
              " 864,\n",
              " 865,\n",
              " 866,\n",
              " 867,\n",
              " 868,\n",
              " 869,\n",
              " 870,\n",
              " 871,\n",
              " 872,\n",
              " 873,\n",
              " 874,\n",
              " 876,\n",
              " 877,\n",
              " 878,\n",
              " 879,\n",
              " 880,\n",
              " 881,\n",
              " 882,\n",
              " 883,\n",
              " 885,\n",
              " 886,\n",
              " 887,\n",
              " 888,\n",
              " 889,\n",
              " 890,\n",
              " 891,\n",
              " 892,\n",
              " 893,\n",
              " 894,\n",
              " 895,\n",
              " 896,\n",
              " 897,\n",
              " 898,\n",
              " 899,\n",
              " 900,\n",
              " 901,\n",
              " 902,\n",
              " 903,\n",
              " 904,\n",
              " 905,\n",
              " 907,\n",
              " 908,\n",
              " 909,\n",
              " 910,\n",
              " 911,\n",
              " 912,\n",
              " 913,\n",
              " 914,\n",
              " 915,\n",
              " 917,\n",
              " 918,\n",
              " 919,\n",
              " 921,\n",
              " 923,\n",
              " 924,\n",
              " 925,\n",
              " 926,\n",
              " 927,\n",
              " 928,\n",
              " 929,\n",
              " 930,\n",
              " 931,\n",
              " 932,\n",
              " 933,\n",
              " 934,\n",
              " 935,\n",
              " 936,\n",
              " 937,\n",
              " 938,\n",
              " 939,\n",
              " 940,\n",
              " 941,\n",
              " 942,\n",
              " 943,\n",
              " 944,\n",
              " 945,\n",
              " 946,\n",
              " 947,\n",
              " 949,\n",
              " 950,\n",
              " 951,\n",
              " 952,\n",
              " 953,\n",
              " 954,\n",
              " 955,\n",
              " 956,\n",
              " 957,\n",
              " 959,\n",
              " 960,\n",
              " 961,\n",
              " 962,\n",
              " 963,\n",
              " 964,\n",
              " 965,\n",
              " 966,\n",
              " 968,\n",
              " 969,\n",
              " 972,\n",
              " 973,\n",
              " 974,\n",
              " 975,\n",
              " 976,\n",
              " 977,\n",
              " 978,\n",
              " 980,\n",
              " 981,\n",
              " 982,\n",
              " 983,\n",
              " 984,\n",
              " 986,\n",
              " 987,\n",
              " 988,\n",
              " 989,\n",
              " 990,\n",
              " 991,\n",
              " 992,\n",
              " 993,\n",
              " 994,\n",
              " 995,\n",
              " 996,\n",
              " 997,\n",
              " 999,\n",
              " 1000,\n",
              " 1001,\n",
              " 1002,\n",
              " 1003,\n",
              " 1004,\n",
              " 1005,\n",
              " 1006,\n",
              " 1007,\n",
              " 1008,\n",
              " 1009,\n",
              " 1010,\n",
              " 1011,\n",
              " 1012,\n",
              " 1013,\n",
              " 1014,\n",
              " 1015,\n",
              " 1016,\n",
              " 1017,\n",
              " 1018,\n",
              " 1019,\n",
              " 1020,\n",
              " 1021,\n",
              " 1022,\n",
              " 1023,\n",
              " 1025,\n",
              " 1026,\n",
              " 1027,\n",
              " 1028,\n",
              " 1029,\n",
              " 1030,\n",
              " 1031,\n",
              " 1032,\n",
              " 1033,\n",
              " 1034,\n",
              " 1035,\n",
              " 1036,\n",
              " 1037,\n",
              " 1038,\n",
              " 1039,\n",
              " 1040,\n",
              " 1041,\n",
              " 1042,\n",
              " 1044,\n",
              " 1045,\n",
              " 1046,\n",
              " 1047,\n",
              " 1048,\n",
              " 1049,\n",
              " 1050,\n",
              " 1051,\n",
              " 1052,\n",
              " 1053,\n",
              " 1054,\n",
              " 1055,\n",
              " 1056,\n",
              " 1057,\n",
              " 1058,\n",
              " 1059,\n",
              " 1060,\n",
              " 1061,\n",
              " 1062,\n",
              " 1063,\n",
              " 1064,\n",
              " 1065,\n",
              " 1066,\n",
              " 1067,\n",
              " 1070,\n",
              " 1071,\n",
              " 1072,\n",
              " 1073,\n",
              " 1074,\n",
              " 1075,\n",
              " 1076,\n",
              " 1077,\n",
              " 1078,\n",
              " 1080,\n",
              " 1081,\n",
              " 1082,\n",
              " 1083,\n",
              " 1084,\n",
              " 1085,\n",
              " 1086,\n",
              " 1087,\n",
              " 1088,\n",
              " 1089,\n",
              " 1090,\n",
              " 1091,\n",
              " 1092,\n",
              " ...]"
            ]
          },
          "metadata": {
            "tags": []
          },
          "execution_count": 92
        }
      ]
    },
    {
      "cell_type": "code",
      "metadata": {
        "colab": {
          "base_uri": "https://localhost:8080/",
          "height": 237
        },
        "id": "M3bE7zFXM-De",
        "outputId": "79606cd5-a4f8-4a7d-d86d-fbaa7178dcd2"
      },
      "source": [
        "plt.figure(figsize=(20,4))\n",
        "for plotIndex, goodIndex in enumerate(corr_classifiedIndexes_rbf[0:5]):\n",
        "    plt.subplot(1, 5, plotIndex + 1)\n",
        "    plt.imshow(np.reshape(X_test[goodIndex], (28,28)), cmap=plt.cm.gray)\n",
        "    plt.axis('off')\n",
        "    plt.title('Predicted: {}, Actual: {}'.format( labels[(int(predictions_rbf[goodIndex]))], labels[y_test[goodIndex][0]]), fontsize = 10)"
      ],
      "execution_count": null,
      "outputs": [
        {
          "output_type": "display_data",
          "data": {
            "image/png": "[encoded data removed]",
            "text/plain": [
              "<Figure size 1440x288 with 5 Axes>"
            ]
          },
          "metadata": {
            "tags": [],
            "needs_background": "light"
          }
        }
      ]
    },
    {
      "cell_type": "code",
      "metadata": {
        "colab": {
          "base_uri": "https://localhost:8080/",
          "height": 295
        },
        "id": "gwyaYpKtN4ZS",
        "outputId": "01e9fe11-63ed-45d0-9986-146a8eed3145"
      },
      "source": [
        "rbf_cm = metrics.confusion_matrix(y_test, predictions_rbf)\n",
        "ax= plt.subplot()\n",
        "sns.heatmap(rbf_cm, annot=True, ax = ax,fmt='d'); #annot=True to annotate cells\n",
        "\n",
        "# labels, title and ticks\n",
        "ax.set_xlabel('Predicted labels');ax.set_ylabel('True labels'); \n",
        "ax.set_title( 'Min Max Scaling followed by SVM Classifier with rbf kernal and C=100 ' ); \n",
        "#ax.xaxis.set_ticklabels(['T-shirt/Top','Trouser','Pullover','Dress','Coat'])); ax.yaxis.set_ticklabels(['T-shirt/Top','Trouser','Pullover','Dress','Coat']);\n",
        "\n",
        "ax.xaxis.set_ticklabels(['T-shirt/Top','Trouser','Pullover','Dress','Coat']); ax.yaxis.set_ticklabels(['T-shirt/Top','Trouser','Pullover','Dress','Coat']);"
      ],
      "execution_count": null,
      "outputs": [
        {
          "output_type": "display_data",
          "data": {
            "image/png": "[encoded data removed]",
            "text/plain": [
              "<Figure size 432x288 with 2 Axes>"
            ]
          },
          "metadata": {
            "tags": [],
            "needs_background": "light"
          }
        }
      ]
    },
    {
      "cell_type": "code",
      "metadata": {
        "colab": {
          "base_uri": "https://localhost:8080/"
        },
        "id": "5uhzgpA9P5J2",
        "outputId": "6eff6379-c0c8-40c8-a4ca-03e9ee2a1513"
      },
      "source": [
        "labels"
      ],
      "execution_count": null,
      "outputs": [
        {
          "output_type": "execute_result",
          "data": {
            "text/plain": [
              "['T-shirt/top', 'Trouser', 'Pullover', 'Dress', 'Coat']"
            ]
          },
          "metadata": {
            "tags": []
          },
          "execution_count": 103
        }
      ]
    },
    {
      "cell_type": "code",
      "metadata": {
        "colab": {
          "base_uri": "https://localhost:8080/"
        },
        "id": "egDWZ8N2OgvN",
        "outputId": "0d3eb3e1-673a-4625-8692-baef958b888e"
      },
      "source": [
        "rbf_cm"
      ],
      "execution_count": null,
      "outputs": [
        {
          "output_type": "execute_result",
          "data": {
            "text/plain": [
              "array([[911,   3,  36,  44,   5],\n",
              "       [  7, 965,   3,  22,   3],\n",
              "       [ 30,   3, 848,  10, 109],\n",
              "       [ 54,  10,  25, 868,  43],\n",
              "       [  4,   1, 132,  37, 826]])"
            ]
          },
          "metadata": {
            "tags": []
          },
          "execution_count": 98
        }
      ]
    },
    {
      "cell_type": "code",
      "metadata": {
        "colab": {
          "base_uri": "https://localhost:8080/",
          "height": 295
        },
        "id": "0FZyha4t7Q87",
        "outputId": "cea46ac3-8b37-4e47-87c7-dde1e547ae5e"
      },
      "source": [
        "# plot the change in the average accuracy according to k \n",
        "plt.figure(figsize=(3.5,4))\n",
        "plt.title(\"Min Max Scaling followed by SVM Classifier with C=100 \")\n",
        "plt.xlabel(\"k - Folds\")\n",
        "plt.ylabel(\"Average Accuracy\")\n",
        "plt.xticks =np.arange(1, 5, 1)\n",
        "plt.grid()\n",
        "lw = 2\n",
        "plt.plot(np.arange(1, 5, 1),scores_rmin_C200,'o-',label=\"rbf kernal \",\n",
        "             color=\"navy\", lw=lw,ls='--',marker ='o');\n",
        "plt.plot(np.arange(1, 5, 1),scores_lmin200,'o-',label=\"linear kernal\",\n",
        "             color=\"darkorange\", lw=lw ,ls='--',marker ='o');\n",
        "\n",
        "plt.legend(loc=\"best\")\n",
        "plt.show()\n"
      ],
      "execution_count": null,
      "outputs": [
        {
          "output_type": "display_data",
          "data": {
            "image/png": "[encoded data removed]",
            "text/plain": [
              "<Figure size 252x288 with 1 Axes>"
            ]
          },
          "metadata": {
            "tags": [],
            "needs_background": "light"
          }
        }
      ]
    },
    {
      "cell_type": "markdown",
      "metadata": {
        "id": "MIrO8uPTEKPA"
      },
      "source": [
        "## Robust Scaling"
      ]
    },
    {
      "cell_type": "code",
      "metadata": {
        "colab": {
          "base_uri": "https://localhost:8080/"
        },
        "id": "7cH7ijmGzIfb",
        "outputId": "1360f83e-5f79-4068-ecd8-0e3e0c48780b"
      },
      "source": [
        "#no scaling and using 4-fold cross validation\n",
        "#SVC\n",
        "#svc = SVC()\n",
        "pipe_c200 = Pipeline([('scaler', RobustScaler()),('svc', SVC(kernel='rbf',C=200 ,random_state=42))])\n",
        "scores_p_C200 = [] #store the accuracy scores\n",
        "cv = KFold(n_splits=4, random_state=42, shuffle=False) #set the CV parameters\n",
        "i = 1\n",
        "for train_index, test_index in cv.split(X_train):\n",
        "    X_train_fold, X_test_fold, y_train_fold, y_test_fold = X_train[train_index], X_train[test_index], y_train[train_index], y_train[test_index]\n",
        "    pipe_c200.fit(X_train_fold, y_train_fold)\n",
        "    scores_p_C200.append(pipe_c200.score(X_test_fold, y_test_fold))\n",
        "    print('Processing Fold #', i)\n",
        "    print(\"  - Train partition shape: \", X_train_fold.shape)\n",
        "    print(\"  - Test partition shape: \", X_test_fold.shape)\n",
        "    print(\"  - Training score = \", pipe_c200.score(X_train_fold, y_train_fold))\n",
        "    print(\"  - Testing score = \", pipe_c200.score(X_test_fold, y_test_fold))\n",
        "    \n",
        "    i += 1"
      ],
      "execution_count": null,
      "outputs": [
        {
          "output_type": "stream",
          "text": [
            "Processing Fold # 1\n",
            "  - Train partition shape:  (7499, 784)\n",
            "  - Test partition shape:  (2500, 784)\n",
            "  - Training score =  0.9361248166422189\n",
            "  - Testing score =  0.852\n",
            "Processing Fold # 2\n",
            "  - Train partition shape:  (7499, 784)\n",
            "  - Test partition shape:  (2500, 784)\n",
            "  - Training score =  0.9366582210961462\n",
            "  - Testing score =  0.8588\n",
            "Processing Fold # 3\n",
            "  - Train partition shape:  (7499, 784)\n",
            "  - Test partition shape:  (2500, 784)\n",
            "  - Training score =  0.9353247099613282\n",
            "  - Testing score =  0.8584\n",
            "Processing Fold # 4\n",
            "  - Train partition shape:  (7500, 784)\n",
            "  - Test partition shape:  (2499, 784)\n",
            "  - Training score =  0.9373333333333334\n",
            "  - Testing score =  0.8651460584233693\n"
          ],
          "name": "stdout"
        }
      ]
    },
    {
      "cell_type": "code",
      "metadata": {
        "colab": {
          "base_uri": "https://localhost:8080/"
        },
        "id": "2tSZvIS010so",
        "outputId": "5608e3cc-5b8e-4769-915f-5e84dc623927"
      },
      "source": [
        "pipe_c200.score(X_test, y_test)"
      ],
      "execution_count": null,
      "outputs": [
        {
          "output_type": "execute_result",
          "data": {
            "text/plain": [
              "0.8469693938787758"
            ]
          },
          "metadata": {
            "tags": []
          },
          "execution_count": 78
        }
      ]
    },
    {
      "cell_type": "code",
      "metadata": {
        "colab": {
          "base_uri": "https://localhost:8080/"
        },
        "id": "dCmbHKKH31eB",
        "outputId": "34f6f273-969b-4b29-cf43-5297a76f04ab"
      },
      "source": [
        "#no scaling and using 4-fold cross validation\n",
        "#SVC\n",
        "#svc = SVC()\n",
        "pipe_linear_c200 = Pipeline([('scaler', RobustScaler()),('svc', SVC(C=200 ,random_state=42))])\n",
        "scores_linear_C200 = [] #store the accuracy scores\n",
        "cv = KFold(n_splits=4, random_state=42, shuffle=False) #set the CV parameters\n",
        "i = 1\n",
        "for train_index, test_index in cv.split(X_train):\n",
        "    X_train_fold, X_test_fold, y_train_fold, y_test_fold = X_train[train_index], X_train[test_index], y_train[train_index], y_train[test_index]\n",
        "    pipe_linear_c200.fit(X_train_fold, y_train_fold)\n",
        "    scores_linear_C200.append(pipe_c200.score(X_test_fold, y_test_fold))\n",
        "    print('Processing Fold #', i)\n",
        "    print(\"  - Train partition shape: \", X_train_fold.shape)\n",
        "    print(\"  - Test partition shape: \", X_test_fold.shape)\n",
        "    print(\"  - Training score = \", pipe_linear_c200.score(X_train_fold, y_train_fold))\n",
        "    print(\"  - Testing score = \", pipe_linear_c200.score(X_test_fold, y_test_fold))\n",
        "    \n",
        "    i += 1"
      ],
      "execution_count": null,
      "outputs": [
        {
          "output_type": "stream",
          "text": [
            "Processing Fold # 1\n",
            "  - Train partition shape:  (7499, 784)\n",
            "  - Test partition shape:  (2500, 784)\n",
            "  - Training score =  0.9361248166422189\n",
            "  - Testing score =  0.852\n",
            "Processing Fold # 2\n",
            "  - Train partition shape:  (7499, 784)\n",
            "  - Test partition shape:  (2500, 784)\n",
            "  - Training score =  0.9366582210961462\n",
            "  - Testing score =  0.8588\n",
            "Processing Fold # 3\n",
            "  - Train partition shape:  (7499, 784)\n",
            "  - Test partition shape:  (2500, 784)\n",
            "  - Training score =  0.9353247099613282\n",
            "  - Testing score =  0.8584\n",
            "Processing Fold # 4\n",
            "  - Train partition shape:  (7500, 784)\n",
            "  - Test partition shape:  (2499, 784)\n",
            "  - Training score =  0.9373333333333334\n",
            "  - Testing score =  0.8651460584233693\n"
          ],
          "name": "stdout"
        }
      ]
    },
    {
      "cell_type": "code",
      "metadata": {
        "colab": {
          "base_uri": "https://localhost:8080/"
        },
        "id": "f3NQa-sd5ZV2",
        "outputId": "e130d928-03df-4fc5-fe95-8085744a68a6"
      },
      "source": [
        "pipe_linear_c200.score(X_test, y_test)"
      ],
      "execution_count": null,
      "outputs": [
        {
          "output_type": "execute_result",
          "data": {
            "text/plain": [
              "0.8469693938787758"
            ]
          },
          "metadata": {
            "tags": []
          },
          "execution_count": 83
        }
      ]
    },
    {
      "cell_type": "code",
      "metadata": {
        "colab": {
          "base_uri": "https://localhost:8080/"
        },
        "id": "QpdogHra172y",
        "outputId": "41622a18-51bf-4859-d1cd-94d52444b1b3"
      },
      "source": [
        "# plot the change in the average accuracy according to k \n",
        "plt.figure(figsize=(3.5,4))\n",
        "plt.title(\"Robust Scaling followed by SVM Classifier with C=200 \")\n",
        "plt.xlabel(\"k - Folds\")\n",
        "plt.ylabel(\"Average Accuracy\")\n",
        "plt.xticks =np.arange(1, 5, 1)\n",
        "plt.grid()\n",
        "lw = 2\n",
        "plt.plot(np.arange(1, 5, 1),scores_p_C200,'o-',label=\"rbf kernal\",\n",
        "             color=\"navy\", lw=lw,ls='--',marker ='o');\n",
        "plt.plot(np.arange(1, 5, 1),scores_linear_C200,'o-',label=\"linear kernal\",\n",
        "             color=\"darkorange\", lw=lw ,ls='--',marker ='o');\n",
        "\n",
        "plt.legend(loc=\"best\")\n",
        "plt.show()\n"
      ],
      "execution_count": null,
      "outputs": [
        {
          "output_type": "display_data",
          "data": {
            "image/png": "[encoded data removed]",
            "text/plain": [
              "<Figure size 252x288 with 1 Axes>"
            ]
          },
          "metadata": {
            "tags": [],
            "needs_background": "light"
          }
        }
      ]
    },
    {
      "cell_type": "markdown",
      "metadata": {
        "id": "WhQJLluT0yRb"
      },
      "source": [
        ""
      ]
    },
    {
      "cell_type": "markdown",
      "metadata": {
        "id": "l-qeWjCYEQl6"
      },
      "source": [
        "## Parameters Tuning"
      ]
    },
    {
      "cell_type": "markdown",
      "metadata": {
        "id": "nH_BUyfwf0hF"
      },
      "source": [
        "### Linear Kernal tuning"
      ]
    },
    {
      "cell_type": "code",
      "metadata": {
        "id": "TZWbbrBp1gf7"
      },
      "source": [
        "# Set the parameters by cross-validation\n",
        "tuned_parameters = [{'kernel': ['linear'], 'C': [1, 10, 25]}]\n",
        "\n",
        "svc_grid = SVC(random_state=42)\n",
        "svm_search = GridSearchCV(\n",
        "    estimator=svc_grid, param_grid=tuned_parameters,\n",
        "    scoring='accuracy', cv=4,refit=True,verbose=2)"
      ],
      "execution_count": null,
      "outputs": []
    },
    {
      "cell_type": "code",
      "metadata": {
        "colab": {
          "base_uri": "https://localhost:8080/"
        },
        "id": "eD9pDl_iNjKg",
        "outputId": "d0928e4f-7ddf-4346-f7e5-fcbcacfb73b4"
      },
      "source": [
        "X_train.shape"
      ],
      "execution_count": null,
      "outputs": [
        {
          "output_type": "execute_result",
          "data": {
            "text/plain": [
              "(9999, 784)"
            ]
          },
          "metadata": {
            "tags": []
          },
          "execution_count": 12
        }
      ]
    },
    {
      "cell_type": "code",
      "metadata": {
        "id": "L02x-kAb_pZh",
        "colab": {
          "base_uri": "https://localhost:8080/"
        },
        "outputId": "f257fc2d-883e-4172-d3e9-901e389b5065"
      },
      "source": [
        "svm_search.fit(X_train, y_train)"
      ],
      "execution_count": null,
      "outputs": [
        {
          "output_type": "stream",
          "text": [
            "Fitting 4 folds for each of 3 candidates, totalling 12 fits\n",
            "[CV] C=1, kernel=linear ..............................................\n"
          ],
          "name": "stdout"
        },
        {
          "output_type": "stream",
          "text": [
            "[Parallel(n_jobs=1)]: Using backend SequentialBackend with 1 concurrent workers.\n"
          ],
          "name": "stderr"
        },
        {
          "output_type": "stream",
          "text": [
            "[CV] ............................... C=1, kernel=linear, total= 2.5min\n",
            "[CV] C=1, kernel=linear ..............................................\n"
          ],
          "name": "stdout"
        },
        {
          "output_type": "stream",
          "text": [
            "[Parallel(n_jobs=1)]: Done   1 out of   1 | elapsed:  2.5min remaining:    0.0s\n"
          ],
          "name": "stderr"
        },
        {
          "output_type": "stream",
          "text": [
            "[CV] ............................... C=1, kernel=linear, total= 2.5min\n",
            "[CV] C=1, kernel=linear ..............................................\n",
            "[CV] ............................... C=1, kernel=linear, total= 2.5min\n",
            "[CV] C=1, kernel=linear ..............................................\n",
            "[CV] ............................... C=1, kernel=linear, total= 2.5min\n",
            "[CV] C=10, kernel=linear .............................................\n",
            "[CV] .............................. C=10, kernel=linear, total= 1.4min\n",
            "[CV] C=10, kernel=linear .............................................\n",
            "[CV] .............................. C=10, kernel=linear, total= 1.4min\n",
            "[CV] C=10, kernel=linear .............................................\n",
            "[CV] .............................. C=10, kernel=linear, total= 1.4min\n",
            "[CV] C=10, kernel=linear .............................................\n",
            "[CV] .............................. C=10, kernel=linear, total= 1.4min\n",
            "[CV] C=25, kernel=linear .............................................\n",
            "[CV] .............................. C=25, kernel=linear, total= 1.1min\n",
            "[CV] C=25, kernel=linear .............................................\n",
            "[CV] .............................. C=25, kernel=linear, total= 1.1min\n",
            "[CV] C=25, kernel=linear .............................................\n",
            "[CV] .............................. C=25, kernel=linear, total= 1.1min\n",
            "[CV] C=25, kernel=linear .............................................\n",
            "[CV] .............................. C=25, kernel=linear, total= 1.1min\n"
          ],
          "name": "stdout"
        },
        {
          "output_type": "stream",
          "text": [
            "[Parallel(n_jobs=1)]: Done  12 out of  12 | elapsed: 19.9min finished\n"
          ],
          "name": "stderr"
        },
        {
          "output_type": "execute_result",
          "data": {
            "text/plain": [
              "GridSearchCV(cv=4, error_score=nan,\n",
              "             estimator=SVC(C=1.0, break_ties=False, cache_size=200,\n",
              "                           class_weight=None, coef0=0.0,\n",
              "                           decision_function_shape='ovr', degree=3,\n",
              "                           gamma='scale', kernel='rbf', max_iter=-1,\n",
              "                           probability=False, random_state=42, shrinking=True,\n",
              "                           tol=0.001, verbose=False),\n",
              "             iid='deprecated', n_jobs=None,\n",
              "             param_grid=[{'C': [1, 10, 25], 'kernel': ['linear']}],\n",
              "             pre_dispatch='2*n_jobs', refit=True, return_train_score=False,\n",
              "             scoring='accuracy', verbose=2)"
            ]
          },
          "metadata": {
            "tags": []
          },
          "execution_count": 21
        }
      ]
    },
    {
      "cell_type": "code",
      "metadata": {
        "id": "y55Ot1uvD4tF",
        "colab": {
          "base_uri": "https://localhost:8080/"
        },
        "outputId": "f3936e32-5c04-432e-e78e-1bfab8414f05"
      },
      "source": [
        "print(svm_search.best_estimator_)"
      ],
      "execution_count": null,
      "outputs": [
        {
          "output_type": "stream",
          "text": [
            "SVC(C=25, break_ties=False, cache_size=200, class_weight=None, coef0=0.0,\n",
            "    decision_function_shape='ovr', degree=3, gamma='scale', kernel='linear',\n",
            "    max_iter=-1, probability=False, random_state=42, shrinking=True, tol=0.001,\n",
            "    verbose=False)\n"
          ],
          "name": "stdout"
        }
      ]
    },
    {
      "cell_type": "code",
      "metadata": {
        "id": "JEhwWW_E_7UI",
        "colab": {
          "base_uri": "https://localhost:8080/",
          "height": 173
        },
        "outputId": "64dd7bd5-8a6b-4fc5-eb56-95db7d5bffd5"
      },
      "source": [
        "results_df = pd.DataFrame(svm_search.cv_results_)\n",
        "results_df = results_df.sort_values(by=['rank_test_score'])\n",
        "results_df = (\n",
        "    results_df\n",
        "    .set_index(results_df[\"params\"].apply(\n",
        "        lambda x: \"_\".join(str(val) for val in x.values()))\n",
        "    )\n",
        "    .rename_axis('kernel')\n",
        ")\n",
        "results_df[\n",
        "    ['params', 'rank_test_score', 'mean_test_score', 'std_test_score']\n",
        "]"
      ],
      "execution_count": null,
      "outputs": [
        {
          "output_type": "execute_result",
          "data": {
            "text/html": [
              "<div>\n",
              "<style scoped>\n",
              "    .dataframe tbody tr th:only-of-type {\n",
              "        vertical-align: middle;\n",
              "    }\n",
              "\n",
              "    .dataframe tbody tr th {\n",
              "        vertical-align: top;\n",
              "    }\n",
              "\n",
              "    .dataframe thead th {\n",
              "        text-align: right;\n",
              "    }\n",
              "</style>\n",
              "<table border=\"1\" class=\"dataframe\">\n",
              "  <thead>\n",
              "    <tr style=\"text-align: right;\">\n",
              "      <th></th>\n",
              "      <th>params</th>\n",
              "      <th>rank_test_score</th>\n",
              "      <th>mean_test_score</th>\n",
              "      <th>std_test_score</th>\n",
              "    </tr>\n",
              "    <tr>\n",
              "      <th>kernel</th>\n",
              "      <th></th>\n",
              "      <th></th>\n",
              "      <th></th>\n",
              "      <th></th>\n",
              "    </tr>\n",
              "  </thead>\n",
              "  <tbody>\n",
              "    <tr>\n",
              "      <th>25_linear</th>\n",
              "      <td>{'C': 25, 'kernel': 'linear'}</td>\n",
              "      <td>1</td>\n",
              "      <td>0.821782</td>\n",
              "      <td>0.004850</td>\n",
              "    </tr>\n",
              "    <tr>\n",
              "      <th>10_linear</th>\n",
              "      <td>{'C': 10, 'kernel': 'linear'}</td>\n",
              "      <td>2</td>\n",
              "      <td>0.795079</td>\n",
              "      <td>0.004912</td>\n",
              "    </tr>\n",
              "    <tr>\n",
              "      <th>1_linear</th>\n",
              "      <td>{'C': 1, 'kernel': 'linear'}</td>\n",
              "      <td>3</td>\n",
              "      <td>0.652971</td>\n",
              "      <td>0.032335</td>\n",
              "    </tr>\n",
              "  </tbody>\n",
              "</table>\n",
              "</div>"
            ],
            "text/plain": [
              "                                  params  ...  std_test_score\n",
              "kernel                                    ...                \n",
              "25_linear  {'C': 25, 'kernel': 'linear'}  ...        0.004850\n",
              "10_linear  {'C': 10, 'kernel': 'linear'}  ...        0.004912\n",
              "1_linear    {'C': 1, 'kernel': 'linear'}  ...        0.032335\n",
              "\n",
              "[3 rows x 4 columns]"
            ]
          },
          "metadata": {
            "tags": []
          },
          "execution_count": 23
        }
      ]
    },
    {
      "cell_type": "code",
      "metadata": {
        "id": "VZZJY1XdAHtj",
        "colab": {
          "base_uri": "https://localhost:8080/",
          "height": 373
        },
        "outputId": "ea427115-ba8a-4452-c152-c1c353e7b27b"
      },
      "source": [
        "# create df of model scores ordered by perfomance\n",
        "model_scores = results_df.filter(regex=r'split\\d*_test_score')\n",
        "\n",
        "# plot 30 examples of dependency between cv fold and AUC scores\n",
        "fig, ax = plt.subplots()\n",
        "sns.lineplot(\n",
        "    data=model_scores.transpose().iloc[:30],\n",
        "    dashes=False, palette='Set1', marker='o', alpha=.5, ax=ax\n",
        ")\n",
        "ax.set_xlabel(\"CV test fold\", size=12, labelpad=10)\n",
        "ax.set_ylabel(\"Model accuracy\", size=12)\n",
        "ax.tick_params(bottom=True, labelbottom=False)\n",
        "plt.grid()\n",
        "plt.legend(loc=\"best\")\n",
        "plt.show()\n",
        "\n",
        "# print correlation of AUC scores across folds\n",
        "print(f\"Correlation of models:\\n {model_scores.transpose().corr()}\")"
      ],
      "execution_count": null,
      "outputs": [
        {
          "output_type": "display_data",
          "data": {
            "image/png": "[encoded data removed]",
            "text/plain": [
              "<Figure size 432x288 with 1 Axes>"
            ]
          },
          "metadata": {
            "tags": [],
            "needs_background": "light"
          }
        },
        {
          "output_type": "stream",
          "text": [
            "Correlation of models:\n",
            " kernel     25_linear  10_linear  1_linear\n",
            "kernel                                   \n",
            "25_linear   1.000000   0.979147  0.182129\n",
            "10_linear   0.979147   1.000000  0.001950\n",
            "1_linear    0.182129   0.001950  1.000000\n"
          ],
          "name": "stdout"
        }
      ]
    },
    {
      "cell_type": "code",
      "metadata": {
        "id": "7YhooiWZAie-",
        "colab": {
          "base_uri": "https://localhost:8080/"
        },
        "outputId": "d9b113c3-ec26-41d4-9122-6cd12feb484d"
      },
      "source": [
        "print(\"Best parameters set found on development set:\")\n",
        "print()\n",
        "print(svm_search.best_params_)\n",
        "print()\n",
        "print(\"Grid scores on development set:\")\n",
        "print()\n",
        "means = svm_search.cv_results_['mean_test_score']\n",
        "stds = svm_search.cv_results_['std_test_score']\n",
        "for mean, std, params in zip(means, stds, svm_search.cv_results_['params']):\n",
        "    print(\"%0.3f (+/-%0.03f) for %r\"\n",
        "          % (mean, std * 2, params))\n",
        "print()\n",
        "\n",
        "print(\"Detailed classification report:\")\n",
        "print()\n",
        "print(\"The model is trained on the full development set.\")\n",
        "print(\"The scores are computed on the full evaluation set.\")\n",
        "print()\n",
        "y_true, y_pred = y_test, svm_search.predict(X_test)\n",
        "print(classification_report(y_true, y_pred))\n",
        "print()"
      ],
      "execution_count": null,
      "outputs": [
        {
          "output_type": "stream",
          "text": [
            "Best parameters set found on development set:\n",
            "\n",
            "{'C': 25, 'kernel': 'linear'}\n",
            "\n",
            "Grid scores on development set:\n",
            "\n",
            "0.653 (+/-0.065) for {'C': 1, 'kernel': 'linear'}\n",
            "0.795 (+/-0.010) for {'C': 10, 'kernel': 'linear'}\n",
            "0.822 (+/-0.010) for {'C': 25, 'kernel': 'linear'}\n",
            "\n",
            "Detailed classification report:\n",
            "\n",
            "The model is trained on the full development set.\n",
            "The scores are computed on the full evaluation set.\n",
            "\n",
            "              precision    recall  f1-score   support\n",
            "\n",
            "           0       0.89      0.83      0.86       999\n",
            "           1       0.99      0.91      0.95      1000\n",
            "           2       0.74      0.73      0.74      1000\n",
            "           3       0.79      0.87      0.83      1000\n",
            "           4       0.73      0.77      0.75      1000\n",
            "\n",
            "    accuracy                           0.82      4999\n",
            "   macro avg       0.83      0.82      0.82      4999\n",
            "weighted avg       0.83      0.82      0.82      4999\n",
            "\n",
            "\n"
          ],
          "name": "stdout"
        }
      ]
    },
    {
      "cell_type": "code",
      "metadata": {
        "id": "h_13PMJdbBKj"
      },
      "source": [
        "# Helper function\n",
        "# Print markdown style\n",
        "def printmd(string):\n",
        "    display(Markdown(string))\n",
        "    \n",
        "def plot_confusion_matrix(cm, classes,\n",
        "                          normalize=False,\n",
        "                          title='Confusion matrix',\n",
        "                          cmap=plt.cm.Blues):\n",
        "    \n",
        "    plt.imshow(cm, interpolation='nearest', cmap=cmap)\n",
        "    plt.title(title)\n",
        "    plt.colorbar()\n",
        "    tick_marks = np.arange(len(classes))\n",
        "    plt.xticks(tick_marks, classes, rotation=90)\n",
        "    plt.yticks(tick_marks, classes)\n",
        "\n",
        "    if normalize:\n",
        "        cm = cm.astype('float') / cm.sum(axis=1)[:, np.newaxis]\n",
        "\n",
        "    thresh = cm.max() / 2.\n",
        "    for i, j in itertools.product(range(cm.shape[0]), range(cm.shape[1])):\n",
        "        plt.text(j, i, cm[i, j],\n",
        "                 horizontalalignment=\"center\",\n",
        "                 color=\"white\" if cm[i, j] > thresh else \"black\")\n",
        "\n",
        "    plt.tight_layout()\n",
        "    plt.ylabel('True label')\n",
        "    plt.xlabel('Predicted label')"
      ],
      "execution_count": null,
      "outputs": []
    },
    {
      "cell_type": "code",
      "metadata": {
        "colab": {
          "base_uri": "https://localhost:8080/",
          "height": 328
        },
        "id": "r8uXBGmEbFXO",
        "outputId": "e9f5e96f-b0db-41bd-8c43-ab3d64132204"
      },
      "source": [
        "svc_cm = metrics.confusion_matrix(y_test, y_pred)\n",
        "print('Plotting confusion matrix')\n",
        "\n",
        "plt.figure()\n",
        "plot_confusion_matrix(svc_cm, labels)\n",
        "plt.show()"
      ],
      "execution_count": null,
      "outputs": [
        {
          "output_type": "stream",
          "text": [
            "Plotting confusion matrix\n"
          ],
          "name": "stdout"
        },
        {
          "output_type": "display_data",
          "data": {
            "image/png": "[encoded data removed]",
            "text/plain": [
              "<Figure size 432x288 with 2 Axes>"
            ]
          },
          "metadata": {
            "tags": [],
            "needs_background": "light"
          }
        }
      ]
    },
    {
      "cell_type": "markdown",
      "metadata": {
        "id": "kMOPheULgB1p"
      },
      "source": [
        "### rbg Kernal tuning"
      ]
    },
    {
      "cell_type": "code",
      "metadata": {
        "id": "rt55daQPtMZ0"
      },
      "source": [
        "svc_grid = SVC(random_state=42,probability=True)\n",
        "svm_search = GridSearchCV(\n",
        "    estimator=svc_grid, param_grid=tuned_parameters,\n",
        "    scoring='accuracy', cv=4,refit=True,verbose=2)"
      ],
      "execution_count": null,
      "outputs": []
    },
    {
      "cell_type": "code",
      "metadata": {
        "colab": {
          "base_uri": "https://localhost:8080/"
        },
        "id": "IcQ9qW1zt_6z",
        "outputId": "648e0a91-a01a-4d7a-902c-e3ac29a5ab7d"
      },
      "source": [
        "svm_search.fit(X_train, y_train)"
      ],
      "execution_count": null,
      "outputs": [
        {
          "output_type": "stream",
          "text": [
            "Fitting 4 folds for each of 9 candidates, totalling 36 fits\n",
            "[CV] C=5, gamma=scale, kernel=rbf ....................................\n"
          ],
          "name": "stdout"
        },
        {
          "output_type": "stream",
          "text": [
            "[Parallel(n_jobs=1)]: Using backend SequentialBackend with 1 concurrent workers.\n"
          ],
          "name": "stderr"
        },
        {
          "output_type": "stream",
          "text": [
            "[CV] ..................... C=5, gamma=scale, kernel=rbf, total= 1.8min\n",
            "[CV] C=5, gamma=scale, kernel=rbf ....................................\n"
          ],
          "name": "stdout"
        },
        {
          "output_type": "stream",
          "text": [
            "[Parallel(n_jobs=1)]: Done   1 out of   1 | elapsed:  1.8min remaining:    0.0s\n"
          ],
          "name": "stderr"
        },
        {
          "output_type": "stream",
          "text": [
            "[CV] ..................... C=5, gamma=scale, kernel=rbf, total= 1.8min\n",
            "[CV] C=5, gamma=scale, kernel=rbf ....................................\n",
            "[CV] ..................... C=5, gamma=scale, kernel=rbf, total= 1.8min\n",
            "[CV] C=5, gamma=scale, kernel=rbf ....................................\n",
            "[CV] ..................... C=5, gamma=scale, kernel=rbf, total= 1.8min\n",
            "[CV] C=5, gamma=0.1, kernel=rbf ......................................\n",
            "[CV] ....................... C=5, gamma=0.1, kernel=rbf, total=11.3min\n",
            "[CV] C=5, gamma=0.1, kernel=rbf ......................................\n",
            "[CV] ....................... C=5, gamma=0.1, kernel=rbf, total=11.2min\n",
            "[CV] C=5, gamma=0.1, kernel=rbf ......................................\n",
            "[CV] ....................... C=5, gamma=0.1, kernel=rbf, total=11.1min\n",
            "[CV] C=5, gamma=0.1, kernel=rbf ......................................\n",
            "[CV] ....................... C=5, gamma=0.1, kernel=rbf, total=11.1min\n",
            "[CV] C=5, gamma=1, kernel=rbf ........................................\n",
            "[CV] ......................... C=5, gamma=1, kernel=rbf, total= 6.1min\n",
            "[CV] C=5, gamma=1, kernel=rbf ........................................\n",
            "[CV] ......................... C=5, gamma=1, kernel=rbf, total= 6.1min\n",
            "[CV] C=5, gamma=1, kernel=rbf ........................................\n",
            "[CV] ......................... C=5, gamma=1, kernel=rbf, total= 6.2min\n",
            "[CV] C=5, gamma=1, kernel=rbf ........................................\n",
            "[CV] ......................... C=5, gamma=1, kernel=rbf, total= 6.1min\n",
            "[CV] C=10, gamma=scale, kernel=rbf ...................................\n",
            "[CV] .................... C=10, gamma=scale, kernel=rbf, total= 1.8min\n",
            "[CV] C=10, gamma=scale, kernel=rbf ...................................\n",
            "[CV] .................... C=10, gamma=scale, kernel=rbf, total= 1.8min\n",
            "[CV] C=10, gamma=scale, kernel=rbf ...................................\n",
            "[CV] .................... C=10, gamma=scale, kernel=rbf, total= 1.8min\n",
            "[CV] C=10, gamma=scale, kernel=rbf ...................................\n",
            "[CV] .................... C=10, gamma=scale, kernel=rbf, total= 1.8min\n",
            "[CV] C=10, gamma=0.1, kernel=rbf .....................................\n",
            "[CV] ...................... C=10, gamma=0.1, kernel=rbf, total=10.0min\n",
            "[CV] C=10, gamma=0.1, kernel=rbf .....................................\n",
            "[CV] ...................... C=10, gamma=0.1, kernel=rbf, total=10.0min\n",
            "[CV] C=10, gamma=0.1, kernel=rbf .....................................\n",
            "[CV] ...................... C=10, gamma=0.1, kernel=rbf, total=10.1min\n",
            "[CV] C=10, gamma=0.1, kernel=rbf .....................................\n",
            "[CV] ...................... C=10, gamma=0.1, kernel=rbf, total=10.0min\n",
            "[CV] C=10, gamma=1, kernel=rbf .......................................\n",
            "[CV] ........................ C=10, gamma=1, kernel=rbf, total= 4.9min\n",
            "[CV] C=10, gamma=1, kernel=rbf .......................................\n",
            "[CV] ........................ C=10, gamma=1, kernel=rbf, total= 4.9min\n",
            "[CV] C=10, gamma=1, kernel=rbf .......................................\n",
            "[CV] ........................ C=10, gamma=1, kernel=rbf, total= 4.9min\n",
            "[CV] C=10, gamma=1, kernel=rbf .......................................\n",
            "[CV] ........................ C=10, gamma=1, kernel=rbf, total= 4.9min\n",
            "[CV] C=25, gamma=scale, kernel=rbf ...................................\n",
            "[CV] .................... C=25, gamma=scale, kernel=rbf, total= 1.8min\n",
            "[CV] C=25, gamma=scale, kernel=rbf ...................................\n",
            "[CV] .................... C=25, gamma=scale, kernel=rbf, total= 1.8min\n",
            "[CV] C=25, gamma=scale, kernel=rbf ...................................\n",
            "[CV] .................... C=25, gamma=scale, kernel=rbf, total= 1.8min\n",
            "[CV] C=25, gamma=scale, kernel=rbf ...................................\n",
            "[CV] .................... C=25, gamma=scale, kernel=rbf, total= 1.8min\n",
            "[CV] C=25, gamma=0.1, kernel=rbf .....................................\n",
            "[CV] ...................... C=25, gamma=0.1, kernel=rbf, total= 7.8min\n",
            "[CV] C=25, gamma=0.1, kernel=rbf .....................................\n",
            "[CV] ...................... C=25, gamma=0.1, kernel=rbf, total= 7.8min\n",
            "[CV] C=25, gamma=0.1, kernel=rbf .....................................\n",
            "[CV] ...................... C=25, gamma=0.1, kernel=rbf, total= 7.8min\n",
            "[CV] C=25, gamma=0.1, kernel=rbf .....................................\n",
            "[CV] ...................... C=25, gamma=0.1, kernel=rbf, total= 7.8min\n",
            "[CV] C=25, gamma=1, kernel=rbf .......................................\n",
            "[CV] ........................ C=25, gamma=1, kernel=rbf, total= 3.7min\n",
            "[CV] C=25, gamma=1, kernel=rbf .......................................\n",
            "[CV] ........................ C=25, gamma=1, kernel=rbf, total= 3.8min\n",
            "[CV] C=25, gamma=1, kernel=rbf .......................................\n",
            "[CV] ........................ C=25, gamma=1, kernel=rbf, total= 3.8min\n",
            "[CV] C=25, gamma=1, kernel=rbf .......................................\n",
            "[CV] ........................ C=25, gamma=1, kernel=rbf, total= 3.8min\n"
          ],
          "name": "stdout"
        },
        {
          "output_type": "stream",
          "text": [
            "[Parallel(n_jobs=1)]: Done  36 out of  36 | elapsed: 196.6min finished\n"
          ],
          "name": "stderr"
        },
        {
          "output_type": "execute_result",
          "data": {
            "text/plain": [
              "GridSearchCV(cv=4, error_score=nan,\n",
              "             estimator=SVC(C=1.0, break_ties=False, cache_size=200,\n",
              "                           class_weight=None, coef0=0.0,\n",
              "                           decision_function_shape='ovr', degree=3,\n",
              "                           gamma='scale', kernel='rbf', max_iter=-1,\n",
              "                           probability=True, random_state=42, shrinking=True,\n",
              "                           tol=0.001, verbose=False),\n",
              "             iid='deprecated', n_jobs=None,\n",
              "             param_grid=[{'C': [5, 10, 25], 'gamma': ['scale', 0.1, 1],\n",
              "                          'kernel': ['rbf']}],\n",
              "             pre_dispatch='2*n_jobs', refit=True, return_train_score=False,\n",
              "             scoring='accuracy', verbose=2)"
            ]
          },
          "metadata": {
            "tags": []
          },
          "execution_count": 17
        }
      ]
    },
    {
      "cell_type": "code",
      "metadata": {
        "colab": {
          "base_uri": "https://localhost:8080/"
        },
        "id": "-bvu6lCrbXho",
        "outputId": "7fd49b30-5614-4f51-efca-21517dd23dd2"
      },
      "source": [
        "print(svm_search.best_estimator_)"
      ],
      "execution_count": null,
      "outputs": [
        {
          "output_type": "stream",
          "text": [
            "SVC(C=10, break_ties=False, cache_size=200, class_weight=None, coef0=0.0,\n",
            "    decision_function_shape='ovr', degree=3, gamma='scale', kernel='rbf',\n",
            "    max_iter=-1, probability=True, random_state=42, shrinking=True, tol=0.001,\n",
            "    verbose=False)\n"
          ],
          "name": "stdout"
        }
      ]
    },
    {
      "cell_type": "code",
      "metadata": {
        "colab": {
          "base_uri": "https://localhost:8080/",
          "height": 343
        },
        "id": "yuSqicsHbYOH",
        "outputId": "ea1e4c4d-9463-4e97-9dd1-4fdc0e3a1e98"
      },
      "source": [
        "results_df = pd.DataFrame(svm_search.cv_results_)\n",
        "results_df = results_df.sort_values(by=['rank_test_score'])\n",
        "results_df = (\n",
        "    results_df\n",
        "    .set_index(results_df[\"params\"].apply(\n",
        "        lambda x: \"_\".join(str(val) for val in x.values()))\n",
        "    )\n",
        "    .rename_axis('kernel')\n",
        ")\n",
        "results_df[\n",
        "    ['params', 'rank_test_score', 'mean_test_score', 'std_test_score']\n",
        "]"
      ],
      "execution_count": null,
      "outputs": [
        {
          "output_type": "execute_result",
          "data": {
            "text/html": [
              "<div>\n",
              "<style scoped>\n",
              "    .dataframe tbody tr th:only-of-type {\n",
              "        vertical-align: middle;\n",
              "    }\n",
              "\n",
              "    .dataframe tbody tr th {\n",
              "        vertical-align: top;\n",
              "    }\n",
              "\n",
              "    .dataframe thead th {\n",
              "        text-align: right;\n",
              "    }\n",
              "</style>\n",
              "<table border=\"1\" class=\"dataframe\">\n",
              "  <thead>\n",
              "    <tr style=\"text-align: right;\">\n",
              "      <th></th>\n",
              "      <th>params</th>\n",
              "      <th>rank_test_score</th>\n",
              "      <th>mean_test_score</th>\n",
              "      <th>std_test_score</th>\n",
              "    </tr>\n",
              "    <tr>\n",
              "      <th>kernel</th>\n",
              "      <th></th>\n",
              "      <th></th>\n",
              "      <th></th>\n",
              "      <th></th>\n",
              "    </tr>\n",
              "  </thead>\n",
              "  <tbody>\n",
              "    <tr>\n",
              "      <th>10_scale_rbf</th>\n",
              "      <td>{'C': 10, 'gamma': 'scale', 'kernel': 'rbf'}</td>\n",
              "      <td>1</td>\n",
              "      <td>0.906490</td>\n",
              "      <td>0.006465</td>\n",
              "    </tr>\n",
              "    <tr>\n",
              "      <th>5_scale_rbf</th>\n",
              "      <td>{'C': 5, 'gamma': 'scale', 'kernel': 'rbf'}</td>\n",
              "      <td>2</td>\n",
              "      <td>0.905190</td>\n",
              "      <td>0.003420</td>\n",
              "    </tr>\n",
              "    <tr>\n",
              "      <th>25_scale_rbf</th>\n",
              "      <td>{'C': 25, 'gamma': 'scale', 'kernel': 'rbf'}</td>\n",
              "      <td>3</td>\n",
              "      <td>0.904090</td>\n",
              "      <td>0.004910</td>\n",
              "    </tr>\n",
              "    <tr>\n",
              "      <th>25_1_rbf</th>\n",
              "      <td>{'C': 25, 'gamma': 1, 'kernel': 'rbf'}</td>\n",
              "      <td>4</td>\n",
              "      <td>0.839084</td>\n",
              "      <td>0.004960</td>\n",
              "    </tr>\n",
              "    <tr>\n",
              "      <th>10_1_rbf</th>\n",
              "      <td>{'C': 10, 'gamma': 1, 'kernel': 'rbf'}</td>\n",
              "      <td>5</td>\n",
              "      <td>0.816382</td>\n",
              "      <td>0.003530</td>\n",
              "    </tr>\n",
              "    <tr>\n",
              "      <th>5_1_rbf</th>\n",
              "      <td>{'C': 5, 'gamma': 1, 'kernel': 'rbf'}</td>\n",
              "      <td>6</td>\n",
              "      <td>0.795179</td>\n",
              "      <td>0.005038</td>\n",
              "    </tr>\n",
              "    <tr>\n",
              "      <th>25_0.1_rbf</th>\n",
              "      <td>{'C': 25, 'gamma': 0.1, 'kernel': 'rbf'}</td>\n",
              "      <td>7</td>\n",
              "      <td>0.772477</td>\n",
              "      <td>0.007187</td>\n",
              "    </tr>\n",
              "    <tr>\n",
              "      <th>10_0.1_rbf</th>\n",
              "      <td>{'C': 10, 'gamma': 0.1, 'kernel': 'rbf'}</td>\n",
              "      <td>8</td>\n",
              "      <td>0.741174</td>\n",
              "      <td>0.002598</td>\n",
              "    </tr>\n",
              "    <tr>\n",
              "      <th>5_0.1_rbf</th>\n",
              "      <td>{'C': 5, 'gamma': 0.1, 'kernel': 'rbf'}</td>\n",
              "      <td>9</td>\n",
              "      <td>0.652971</td>\n",
              "      <td>0.032335</td>\n",
              "    </tr>\n",
              "  </tbody>\n",
              "</table>\n",
              "</div>"
            ],
            "text/plain": [
              "                                                    params  ...  std_test_score\n",
              "kernel                                                      ...                \n",
              "10_scale_rbf  {'C': 10, 'gamma': 'scale', 'kernel': 'rbf'}  ...        0.006465\n",
              "5_scale_rbf    {'C': 5, 'gamma': 'scale', 'kernel': 'rbf'}  ...        0.003420\n",
              "25_scale_rbf  {'C': 25, 'gamma': 'scale', 'kernel': 'rbf'}  ...        0.004910\n",
              "25_1_rbf            {'C': 25, 'gamma': 1, 'kernel': 'rbf'}  ...        0.004960\n",
              "10_1_rbf            {'C': 10, 'gamma': 1, 'kernel': 'rbf'}  ...        0.003530\n",
              "5_1_rbf              {'C': 5, 'gamma': 1, 'kernel': 'rbf'}  ...        0.005038\n",
              "25_0.1_rbf        {'C': 25, 'gamma': 0.1, 'kernel': 'rbf'}  ...        0.007187\n",
              "10_0.1_rbf        {'C': 10, 'gamma': 0.1, 'kernel': 'rbf'}  ...        0.002598\n",
              "5_0.1_rbf          {'C': 5, 'gamma': 0.1, 'kernel': 'rbf'}  ...        0.032335\n",
              "\n",
              "[9 rows x 4 columns]"
            ]
          },
          "metadata": {
            "tags": []
          },
          "execution_count": 19
        }
      ]
    },
    {
      "cell_type": "code",
      "metadata": {
        "colab": {
          "base_uri": "https://localhost:8080/",
          "height": 506
        },
        "id": "H13fnOoEbdMI",
        "outputId": "b08b57c4-20ef-4bde-fae3-d30507455ed4"
      },
      "source": [
        "# create df of model scores ordered by perfomance\n",
        "model_scores = results_df.filter(regex=r'split\\d*_test_score')\n",
        "\n",
        "# plot 30 examples of dependency between cv fold and AUC scores\n",
        "fig, ax = plt.subplots()\n",
        "sns.lineplot(\n",
        "    data=model_scores.transpose().iloc[:30],\n",
        "    dashes=False, palette='Set1', marker='o', alpha=.5, ax=ax\n",
        ")\n",
        "ax.set_xlabel(\"CV test fold\", size=12, labelpad=10)\n",
        "ax.set_ylabel(\"Model accuracy\", size=12)\n",
        "ax.tick_params(bottom=True, labelbottom=False)\n",
        "plt.grid()\n",
        "plt.legend(loc=\"best\")\n",
        "plt.show()\n",
        "\n",
        "# print correlation of AUC scores across folds\n",
        "print(f\"Correlation of models:\\n {model_scores.transpose().corr()}\")"
      ],
      "execution_count": null,
      "outputs": [
        {
          "output_type": "display_data",
          "data": {
            "image/png": "[encoded data removed]",
            "text/plain": [
              "<Figure size 432x288 with 1 Axes>"
            ]
          },
          "metadata": {
            "tags": [],
            "needs_background": "light"
          }
        },
        {
          "output_type": "stream",
          "text": [
            "Correlation of models:\n",
            " kernel        10_scale_rbf  5_scale_rbf  ...  10_0.1_rbf  5_0.1_rbf\n",
            "kernel                                   ...                       \n",
            "10_scale_rbf      1.000000     0.984634  ...    0.984068  -0.549057\n",
            "5_scale_rbf       0.984634     1.000000  ...    0.981623  -0.661963\n",
            "25_scale_rbf      0.893165     0.957973  ...    0.912385  -0.805178\n",
            "25_1_rbf          0.301391     0.346699  ...    0.169719   0.058297\n",
            "10_1_rbf         -0.317327    -0.273409  ...   -0.445616   0.446934\n",
            "5_1_rbf           0.160004     0.238162  ...    0.049355  -0.003360\n",
            "25_0.1_rbf        0.235823     0.377926  ...    0.211808  -0.477983\n",
            "10_0.1_rbf        0.984068     0.981623  ...    1.000000  -0.666130\n",
            "5_0.1_rbf        -0.549057    -0.661963  ...   -0.666130   1.000000\n",
            "\n",
            "[9 rows x 9 columns]\n"
          ],
          "name": "stdout"
        }
      ]
    },
    {
      "cell_type": "code",
      "metadata": {
        "colab": {
          "base_uri": "https://localhost:8080/"
        },
        "id": "kj_ImHBKbgCj",
        "outputId": "0737d15c-7475-449e-86a6-b28377b34894"
      },
      "source": [
        "print(\"Best parameters set found on development set:\")\n",
        "print()\n",
        "print(svm_search.best_params_)\n",
        "print()\n",
        "print(\"Grid scores on development set:\")\n",
        "print()\n",
        "means = svm_search.cv_results_['mean_test_score']\n",
        "stds = svm_search.cv_results_['std_test_score']\n",
        "for mean, std, params in zip(means, stds, svm_search.cv_results_['params']):\n",
        "    print(\"%0.3f (+/-%0.03f) for %r\"\n",
        "          % (mean, std * 2, params))\n",
        "print()\n",
        "\n",
        "print(\"Detailed classification report:\")\n",
        "print()\n",
        "print(\"The model is trained on the full development set.\")\n",
        "print(\"The scores are computed on the full evaluation set.\")\n",
        "print()\n",
        "y_true, y_pred = y_test, svm_search.predict(X_test)\n",
        "print(classification_report(y_true, y_pred))\n",
        "print()"
      ],
      "execution_count": null,
      "outputs": [
        {
          "output_type": "stream",
          "text": [
            "Best parameters set found on development set:\n",
            "\n",
            "{'C': 10, 'gamma': 'scale', 'kernel': 'rbf'}\n",
            "\n",
            "Grid scores on development set:\n",
            "\n",
            "0.905 (+/-0.007) for {'C': 5, 'gamma': 'scale', 'kernel': 'rbf'}\n",
            "0.653 (+/-0.065) for {'C': 5, 'gamma': 0.1, 'kernel': 'rbf'}\n",
            "0.795 (+/-0.010) for {'C': 5, 'gamma': 1, 'kernel': 'rbf'}\n",
            "0.906 (+/-0.013) for {'C': 10, 'gamma': 'scale', 'kernel': 'rbf'}\n",
            "0.741 (+/-0.005) for {'C': 10, 'gamma': 0.1, 'kernel': 'rbf'}\n",
            "0.816 (+/-0.007) for {'C': 10, 'gamma': 1, 'kernel': 'rbf'}\n",
            "0.904 (+/-0.010) for {'C': 25, 'gamma': 'scale', 'kernel': 'rbf'}\n",
            "0.772 (+/-0.014) for {'C': 25, 'gamma': 0.1, 'kernel': 'rbf'}\n",
            "0.839 (+/-0.010) for {'C': 25, 'gamma': 1, 'kernel': 'rbf'}\n",
            "\n",
            "Detailed classification report:\n",
            "\n",
            "The model is trained on the full development set.\n",
            "The scores are computed on the full evaluation set.\n",
            "\n",
            "              precision    recall  f1-score   support\n",
            "\n",
            "           0       0.92      0.92      0.92       999\n",
            "           1       0.99      0.96      0.98      1000\n",
            "           2       0.83      0.85      0.84      1000\n",
            "           3       0.89      0.89      0.89      1000\n",
            "           4       0.84      0.85      0.85      1000\n",
            "\n",
            "    accuracy                           0.90      4999\n",
            "   macro avg       0.90      0.90      0.90      4999\n",
            "weighted avg       0.90      0.90      0.90      4999\n",
            "\n",
            "\n"
          ],
          "name": "stdout"
        }
      ]
    },
    {
      "cell_type": "code",
      "metadata": {
        "colab": {
          "base_uri": "https://localhost:8080/",
          "height": 295
        },
        "id": "Ya0h30gnboDh",
        "outputId": "c4a16acb-401e-4556-f611-175fd7451fe6"
      },
      "source": [
        "svc_cm = metrics.confusion_matrix(y_test, y_pred)\n",
        "ax= plt.subplot()\n",
        "sns.heatmap(svc_cm, annot=True, ax = ax,fmt='d'); #annot=True to annotate cells\n",
        "\n",
        "# labels, title and ticks\n",
        "ax.set_xlabel('Predicted labels');ax.set_ylabel('True labels'); \n",
        "ax.set_title( 'Min Max Scaling followed by SVM Classifier with rbf kernal and C=10,gamma=scale' ); \n",
        "#ax.xaxis.set_ticklabels(['T-shirt/Top','Trouser','Pullover','Dress','Coat'])); ax.yaxis.set_ticklabels(['T-shirt/Top','Trouser','Pullover','Dress','Coat']);\n",
        "\n",
        "ax.xaxis.set_ticklabels(['T-shirt/Top','Trouser','Pullover','Dress','Coat']); ax.yaxis.set_ticklabels(['T-shirt/Top','Trouser','Pullover','Dress','Coat']);"
      ],
      "execution_count": null,
      "outputs": [
        {
          "output_type": "display_data",
          "data": {
            "image/png": "[encoded data removed]",
            "text/plain": [
              "<Figure size 432x288 with 2 Axes>"
            ]
          },
          "metadata": {
            "tags": [],
            "needs_background": "light"
          }
        }
      ]
    },
    {
      "cell_type": "code",
      "metadata": {
        "id": "lblIXO2ddM2u"
      },
      "source": [
        "predictions_rbf = svm_search.predict(X_test)"
      ],
      "execution_count": null,
      "outputs": []
    },
    {
      "cell_type": "code",
      "metadata": {
        "id": "Pv8nmw_KdTLm"
      },
      "source": [
        "index = 0\n",
        "misclassifiedIndexes_rbf = []\n",
        "for label, predict in zip(y_test, predictions_rbf):\n",
        "    if label[0] != predict: \n",
        "       misclassifiedIndexes_rbf.append(index)\n",
        "    index +=1"
      ],
      "execution_count": null,
      "outputs": []
    },
    {
      "cell_type": "code",
      "metadata": {
        "id": "ldA5oovjdVoM"
      },
      "source": [
        "index = 0\n",
        "corr_classifiedIndexes_rbf = []\n",
        "for label, predict in zip(y_test, predictions_rbf):\n",
        "    if label[0] == predict: \n",
        "       corr_classifiedIndexes_rbf.append(index)\n",
        "    index +=1"
      ],
      "execution_count": null,
      "outputs": []
    },
    {
      "cell_type": "code",
      "metadata": {
        "colab": {
          "base_uri": "https://localhost:8080/"
        },
        "id": "1RWcPUGsdXj4",
        "outputId": "6e9bd192-e9cf-4551-c09a-ac2eb9719f44"
      },
      "source": [
        "misclassifiedIndexes_rbf"
      ],
      "execution_count": null,
      "outputs": [
        {
          "output_type": "execute_result",
          "data": {
            "text/plain": [
              "[46,\n",
              " 59,\n",
              " 104,\n",
              " 107,\n",
              " 113,\n",
              " 120,\n",
              " 141,\n",
              " 152,\n",
              " 159,\n",
              " 191,\n",
              " 225,\n",
              " 264,\n",
              " 271,\n",
              " 289,\n",
              " 294,\n",
              " 312,\n",
              " 317,\n",
              " 318,\n",
              " 338,\n",
              " 346,\n",
              " 349,\n",
              " 351,\n",
              " 356,\n",
              " 366,\n",
              " 393,\n",
              " 399,\n",
              " 401,\n",
              " 409,\n",
              " 420,\n",
              " 424,\n",
              " 461,\n",
              " 473,\n",
              " 537,\n",
              " 543,\n",
              " 544,\n",
              " 576,\n",
              " 598,\n",
              " 602,\n",
              " 618,\n",
              " 620,\n",
              " 626,\n",
              " 634,\n",
              " 648,\n",
              " 655,\n",
              " 681,\n",
              " 695,\n",
              " 711,\n",
              " 716,\n",
              " 724,\n",
              " 729,\n",
              " 764,\n",
              " 767,\n",
              " 774,\n",
              " 781,\n",
              " 783,\n",
              " 789,\n",
              " 806,\n",
              " 818,\n",
              " 837,\n",
              " 852,\n",
              " 861,\n",
              " 862,\n",
              " 875,\n",
              " 884,\n",
              " 891,\n",
              " 892,\n",
              " 902,\n",
              " 916,\n",
              " 920,\n",
              " 922,\n",
              " 958,\n",
              " 967,\n",
              " 970,\n",
              " 971,\n",
              " 979,\n",
              " 985,\n",
              " 1024,\n",
              " 1068,\n",
              " 1069,\n",
              " 1079,\n",
              " 1111,\n",
              " 1146,\n",
              " 1164,\n",
              " 1196,\n",
              " 1239,\n",
              " 1249,\n",
              " 1302,\n",
              " 1392,\n",
              " 1457,\n",
              " 1507,\n",
              " 1522,\n",
              " 1532,\n",
              " 1539,\n",
              " 1547,\n",
              " 1590,\n",
              " 1613,\n",
              " 1648,\n",
              " 1735,\n",
              " 1760,\n",
              " 1780,\n",
              " 1786,\n",
              " 1858,\n",
              " 1860,\n",
              " 1899,\n",
              " 1903,\n",
              " 1930,\n",
              " 1934,\n",
              " 1943,\n",
              " 1956,\n",
              " 1959,\n",
              " 1987,\n",
              " 2007,\n",
              " 2029,\n",
              " 2035,\n",
              " 2041,\n",
              " 2049,\n",
              " 2059,\n",
              " 2080,\n",
              " 2084,\n",
              " 2089,\n",
              " 2091,\n",
              " 2099,\n",
              " 2102,\n",
              " 2107,\n",
              " 2119,\n",
              " 2125,\n",
              " 2136,\n",
              " 2141,\n",
              " 2145,\n",
              " 2156,\n",
              " 2158,\n",
              " 2164,\n",
              " 2165,\n",
              " 2168,\n",
              " 2177,\n",
              " 2180,\n",
              " 2181,\n",
              " 2188,\n",
              " 2208,\n",
              " 2213,\n",
              " 2215,\n",
              " 2242,\n",
              " 2243,\n",
              " 2244,\n",
              " 2249,\n",
              " 2257,\n",
              " 2262,\n",
              " 2278,\n",
              " 2293,\n",
              " 2297,\n",
              " 2315,\n",
              " 2318,\n",
              " 2328,\n",
              " 2331,\n",
              " 2332,\n",
              " 2333,\n",
              " 2338,\n",
              " 2341,\n",
              " 2343,\n",
              " 2348,\n",
              " 2357,\n",
              " 2360,\n",
              " 2365,\n",
              " 2366,\n",
              " 2369,\n",
              " 2370,\n",
              " 2372,\n",
              " 2373,\n",
              " 2384,\n",
              " 2394,\n",
              " 2397,\n",
              " 2399,\n",
              " 2400,\n",
              " 2405,\n",
              " 2409,\n",
              " 2414,\n",
              " 2415,\n",
              " 2416,\n",
              " 2421,\n",
              " 2434,\n",
              " 2443,\n",
              " 2462,\n",
              " 2482,\n",
              " 2483,\n",
              " 2488,\n",
              " 2489,\n",
              " 2492,\n",
              " 2494,\n",
              " 2501,\n",
              " 2504,\n",
              " 2506,\n",
              " 2513,\n",
              " 2517,\n",
              " 2521,\n",
              " 2550,\n",
              " 2558,\n",
              " 2559,\n",
              " 2561,\n",
              " 2569,\n",
              " 2572,\n",
              " 2587,\n",
              " 2590,\n",
              " 2597,\n",
              " 2600,\n",
              " 2605,\n",
              " 2612,\n",
              " 2621,\n",
              " 2623,\n",
              " 2626,\n",
              " 2636,\n",
              " 2665,\n",
              " 2672,\n",
              " 2678,\n",
              " 2681,\n",
              " 2688,\n",
              " 2696,\n",
              " 2704,\n",
              " 2711,\n",
              " 2716,\n",
              " 2717,\n",
              " 2721,\n",
              " 2722,\n",
              " 2729,\n",
              " 2732,\n",
              " 2733,\n",
              " 2747,\n",
              " 2754,\n",
              " 2760,\n",
              " 2770,\n",
              " 2777,\n",
              " 2802,\n",
              " 2814,\n",
              " 2819,\n",
              " 2824,\n",
              " 2827,\n",
              " 2834,\n",
              " 2860,\n",
              " 2875,\n",
              " 2877,\n",
              " 2882,\n",
              " 2886,\n",
              " 2887,\n",
              " 2891,\n",
              " 2895,\n",
              " 2896,\n",
              " 2900,\n",
              " 2902,\n",
              " 2908,\n",
              " 2919,\n",
              " 2926,\n",
              " 2929,\n",
              " 2945,\n",
              " 2947,\n",
              " 2949,\n",
              " 2950,\n",
              " 2957,\n",
              " 2959,\n",
              " 2962,\n",
              " 2963,\n",
              " 2985,\n",
              " 3003,\n",
              " 3004,\n",
              " 3018,\n",
              " 3022,\n",
              " 3040,\n",
              " 3046,\n",
              " 3048,\n",
              " 3050,\n",
              " 3059,\n",
              " 3067,\n",
              " 3080,\n",
              " 3087,\n",
              " 3095,\n",
              " 3118,\n",
              " 3120,\n",
              " 3124,\n",
              " 3157,\n",
              " 3169,\n",
              " 3176,\n",
              " 3184,\n",
              " 3192,\n",
              " 3200,\n",
              " 3201,\n",
              " 3222,\n",
              " 3226,\n",
              " 3227,\n",
              " 3228,\n",
              " 3245,\n",
              " 3251,\n",
              " 3257,\n",
              " 3262,\n",
              " 3263,\n",
              " 3268,\n",
              " 3279,\n",
              " 3280,\n",
              " 3290,\n",
              " 3292,\n",
              " 3294,\n",
              " 3297,\n",
              " 3298,\n",
              " 3309,\n",
              " 3318,\n",
              " 3321,\n",
              " 3326,\n",
              " 3327,\n",
              " 3344,\n",
              " 3346,\n",
              " 3352,\n",
              " 3363,\n",
              " 3374,\n",
              " 3389,\n",
              " 3392,\n",
              " 3399,\n",
              " 3400,\n",
              " 3405,\n",
              " 3486,\n",
              " 3501,\n",
              " 3505,\n",
              " 3518,\n",
              " 3520,\n",
              " 3527,\n",
              " 3537,\n",
              " 3546,\n",
              " 3554,\n",
              " 3555,\n",
              " 3582,\n",
              " 3588,\n",
              " 3591,\n",
              " 3594,\n",
              " 3603,\n",
              " 3613,\n",
              " 3617,\n",
              " 3622,\n",
              " 3654,\n",
              " 3666,\n",
              " 3673,\n",
              " 3693,\n",
              " 3700,\n",
              " 3705,\n",
              " 3707,\n",
              " 3741,\n",
              " 3743,\n",
              " 3747,\n",
              " 3750,\n",
              " 3769,\n",
              " 3778,\n",
              " 3786,\n",
              " 3789,\n",
              " 3793,\n",
              " 3803,\n",
              " 3805,\n",
              " 3821,\n",
              " 3829,\n",
              " 3835,\n",
              " 3844,\n",
              " 3848,\n",
              " 3856,\n",
              " 3875,\n",
              " 3880,\n",
              " 3891,\n",
              " 3916,\n",
              " 3926,\n",
              " 3934,\n",
              " 3938,\n",
              " 3947,\n",
              " 3949,\n",
              " 3958,\n",
              " 3965,\n",
              " 3994,\n",
              " 4002,\n",
              " 4003,\n",
              " 4005,\n",
              " 4012,\n",
              " 4013,\n",
              " 4014,\n",
              " 4024,\n",
              " 4039,\n",
              " 4060,\n",
              " 4069,\n",
              " 4080,\n",
              " 4090,\n",
              " 4091,\n",
              " 4100,\n",
              " 4107,\n",
              " 4112,\n",
              " 4118,\n",
              " 4119,\n",
              " 4121,\n",
              " 4132,\n",
              " 4134,\n",
              " 4140,\n",
              " 4143,\n",
              " 4151,\n",
              " 4157,\n",
              " 4160,\n",
              " 4161,\n",
              " 4171,\n",
              " 4175,\n",
              " 4182,\n",
              " 4205,\n",
              " 4210,\n",
              " 4216,\n",
              " 4220,\n",
              " 4223,\n",
              " 4233,\n",
              " 4236,\n",
              " 4258,\n",
              " 4269,\n",
              " 4270,\n",
              " 4281,\n",
              " 4287,\n",
              " 4298,\n",
              " 4304,\n",
              " 4306,\n",
              " 4309,\n",
              " 4312,\n",
              " 4317,\n",
              " 4325,\n",
              " 4329,\n",
              " 4334,\n",
              " 4339,\n",
              " 4341,\n",
              " 4353,\n",
              " 4363,\n",
              " 4365,\n",
              " 4368,\n",
              " 4385,\n",
              " 4386,\n",
              " 4390,\n",
              " 4395,\n",
              " 4396,\n",
              " 4397,\n",
              " 4413,\n",
              " 4414,\n",
              " 4428,\n",
              " 4432,\n",
              " 4433,\n",
              " 4435,\n",
              " 4437,\n",
              " 4441,\n",
              " 4450,\n",
              " 4455,\n",
              " 4459,\n",
              " 4460,\n",
              " 4472,\n",
              " 4480,\n",
              " 4481,\n",
              " 4483,\n",
              " 4484,\n",
              " 4486,\n",
              " 4491,\n",
              " 4495,\n",
              " 4507,\n",
              " 4512,\n",
              " 4513,\n",
              " 4519,\n",
              " 4523,\n",
              " 4525,\n",
              " 4527,\n",
              " 4528,\n",
              " 4529,\n",
              " 4539,\n",
              " 4551,\n",
              " 4560,\n",
              " 4566,\n",
              " 4571,\n",
              " 4572,\n",
              " 4573,\n",
              " 4583,\n",
              " 4586,\n",
              " 4588,\n",
              " 4605,\n",
              " 4615,\n",
              " 4618,\n",
              " 4623,\n",
              " 4639,\n",
              " 4644,\n",
              " 4645,\n",
              " 4659,\n",
              " 4671,\n",
              " 4672,\n",
              " 4684,\n",
              " 4692,\n",
              " 4695,\n",
              " 4700,\n",
              " 4701,\n",
              " 4702,\n",
              " 4713,\n",
              " 4714,\n",
              " 4724,\n",
              " 4732,\n",
              " 4738,\n",
              " 4752,\n",
              " 4757,\n",
              " 4777,\n",
              " 4780,\n",
              " 4796,\n",
              " 4797,\n",
              " 4807,\n",
              " 4822,\n",
              " 4823,\n",
              " 4824,\n",
              " 4846,\n",
              " 4851,\n",
              " 4860,\n",
              " 4872,\n",
              " 4888,\n",
              " 4892,\n",
              " 4904,\n",
              " 4906,\n",
              " 4908,\n",
              " 4921,\n",
              " 4934,\n",
              " 4940,\n",
              " 4947,\n",
              " 4992]"
            ]
          },
          "metadata": {
            "tags": []
          },
          "execution_count": 35
        }
      ]
    },
    {
      "cell_type": "code",
      "metadata": {
        "id": "lizOzwIBfC8Z"
      },
      "source": [
        ""
      ],
      "execution_count": null,
      "outputs": []
    },
    {
      "cell_type": "code",
      "metadata": {
        "colab": {
          "base_uri": "https://localhost:8080/",
          "height": 261
        },
        "id": "Y_7DQe7edaob",
        "outputId": "b017cbfa-7c6b-471a-84f8-dd9c9a2bb223"
      },
      "source": [
        "plt.figure(figsize=(20,4))\n",
        "for plotIndex, badIndex in enumerate(misclassifiedIndexes_rbf[0:10]):\n",
        "    plt.subplot(2, 5, plotIndex + 1)\n",
        "    plt.imshow(np.reshape(X_test[badIndex], (28,28)), cmap=plt.cm.gray)\n",
        "    plt.axis('off')\n",
        "    plt.title('Predicted: {}, Actual: {}'.format( labels[(int(predictions_rbf[badIndex]))], labels[y_test[badIndex][0]]), fontsize = 10)"
      ],
      "execution_count": null,
      "outputs": [
        {
          "output_type": "display_data",
          "data": {
            "image/png": "[encoded data removed]",
            "text/plain": [
              "<Figure size 1440x288 with 10 Axes>"
            ]
          },
          "metadata": {
            "tags": [],
            "needs_background": "light"
          }
        }
      ]
    },
    {
      "cell_type": "code",
      "metadata": {
        "id": "FlpuIq7idbjR"
      },
      "source": [
        "corr_classifiedIndexes_rbf \n"
      ],
      "execution_count": null,
      "outputs": []
    },
    {
      "cell_type": "code",
      "metadata": {
        "colab": {
          "base_uri": "https://localhost:8080/",
          "height": 233
        },
        "id": "HS0pa9wgdfP_",
        "outputId": "8bf0b722-6a90-4b39-c817-f3371a0cc599"
      },
      "source": [
        "plt.figure(figsize=(20,4))\n",
        "for plotIndex, goodIndex in enumerate(corr_classifiedIndexes_rbf[0:5]):\n",
        "    plt.subplot(1, 5, plotIndex + 1)\n",
        "    plt.imshow(np.reshape(X_test[goodIndex], (28,28)), cmap=plt.cm.gray)\n",
        "    plt.axis('off')\n",
        "    plt.title('Predicted: {}, Actual: {}'.format( labels[(int(predictions_rbf[goodIndex]))], labels[y_test[goodIndex][0]]), fontsize = 10)"
      ],
      "execution_count": null,
      "outputs": [
        {
          "output_type": "display_data",
          "data": {
            "image/png": "[encoded data removed]",
            "text/plain": [
              "<Figure size 1440x288 with 5 Axes>"
            ]
          },
          "metadata": {
            "tags": [],
            "needs_background": "light"
          }
        }
      ]
    },
    {
      "cell_type": "code",
      "metadata": {
        "colab": {
          "base_uri": "https://localhost:8080/",
          "height": 248
        },
        "id": "Z2Af9Qy4dkCv",
        "outputId": "b55cb749-dc00-4f23-a0ed-87cb7ce9f346"
      },
      "source": [
        "showImage(X_test[ 113])"
      ],
      "execution_count": null,
      "outputs": [
        {
          "output_type": "display_data",
          "data": {
            "image/png": "[encoded data removed]",
            "text/plain": [
              "<Figure size 432x288 with 1 Axes>"
            ]
          },
          "metadata": {
            "tags": [],
            "needs_background": "light"
          }
        }
      ]
    },
    {
      "cell_type": "code",
      "metadata": {
        "colab": {
          "base_uri": "https://localhost:8080/"
        },
        "id": "u9eUq7cSdkjV",
        "outputId": "c2cbf935-5ec1-466a-b0e0-baa6a7b8ca6c"
      },
      "source": [
        "y_test[113]"
      ],
      "execution_count": null,
      "outputs": [
        {
          "output_type": "execute_result",
          "data": {
            "text/plain": [
              "array([0])"
            ]
          },
          "metadata": {
            "tags": []
          },
          "execution_count": 38
        }
      ]
    },
    {
      "cell_type": "code",
      "metadata": {
        "colab": {
          "base_uri": "https://localhost:8080/"
        },
        "id": "neQZt0BBdoX5",
        "outputId": "5f7a4ae5-49ac-4697-a27e-95f727803eb4"
      },
      "source": [
        "svm_search.predict_proba(X_test[113].reshape(1, -1))"
      ],
      "execution_count": null,
      "outputs": [
        {
          "output_type": "execute_result",
          "data": {
            "text/plain": [
              "array([[3.84042088e-04, 5.05265540e-03, 4.12496751e-05, 9.93080853e-01,\n",
              "        1.44120023e-03]])"
            ]
          },
          "metadata": {
            "tags": []
          },
          "execution_count": 39
        }
      ]
    },
    {
      "cell_type": "code",
      "metadata": {
        "colab": {
          "base_uri": "https://localhost:8080/"
        },
        "id": "tSSJDut5dpOi",
        "outputId": "6fe6f4c4-ffb4-452c-b9fd-fe9983bb38a3"
      },
      "source": [
        "svm_search.predict(X_test[113].reshape(1, -1))"
      ],
      "execution_count": null,
      "outputs": [
        {
          "output_type": "execute_result",
          "data": {
            "text/plain": [
              "array([3])"
            ]
          },
          "metadata": {
            "tags": []
          },
          "execution_count": 40
        }
      ]
    }
  ]
}